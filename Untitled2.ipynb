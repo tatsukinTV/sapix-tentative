{
 "cells": [
  {
   "cell_type": "code",
   "execution_count": 64,
   "id": "8ab8cb84",
   "metadata": {},
   "outputs": [],
   "source": [
    "import pandas as pd\n",
    "import altair as alt\n",
    "\n",
    "data = pd.read_csv(\"sapi_2022.csv\")\n",
    "df = pd.DataFrame(data)\n",
    "\n",
    "df_enroll = df.loc[5:48, [\"実績入力以外の編集禁止\",\"在籍\"]]\n",
    "df_tsukukoma = df.loc[5:48, [\"実績入力以外の編集禁止\", \"筑駒\"]]\n",
    "df_kaisei = df.loc[5:48, [\"実績入力以外の編集禁止\", \"開成\"]]\n",
    "df_azabu = df.loc[5:48, [\"実績入力以外の編集禁止\", \"麻布\"]]\n",
    "df_komatou = df.loc[5:48, [\"実績入力以外の編集禁止\", \"駒東\"]]\n",
    "df_musashi = df.loc[5:48, [\"実績入力以外の編集禁止\", \"武蔵\"]]\n",
    "## df_keihu = df.loc[5:48, [\"実績入力以外の編集禁止\", \"慶普\"]]\n",
    "df_waseda = df.loc[5:48, [\"実績入力以外の編集禁止\", \"早稲田\"]]\n",
    "df_wasegaku = df.loc[5:48, [\"実績入力以外の編集禁止\", \"早大学院\"]]\n",
    "df_seikou = df.loc[5:48, [\"実績入力以外の編集禁止\", \"聖光\"]]\n",
    "df_eikou = df.loc[5:48, [\"実績入力以外の編集禁止\", \"栄光\"]]\n",
    "df_asano = df.loc[5:48, [\"実績入力以外の編集禁止\", \"浅野\"]]\n",
    "df_kaijou = df.loc[5:48, [\"実績入力以外の編集禁止\", \"海城\"]]\n",
    "df_shiba = df.loc[5:48, [\"実績入力以外の編集禁止\", \"芝\"]]\n",
    "\n",
    "enrollment=['校舎名','在籍者数']\n",
    "successful_candidate=['校舎名','合格者数']\n",
    "\n",
    "df_enroll.columns = enrollment\n",
    "df_kaisei.columns = successful_candidate\n",
    "\n",
    "df_kaisei2 = df_kaisei.drop('校舎名', axis=1)\n",
    "df_concat = pd.concat([df_enroll,df_kaisei2], axis=1)\n",
    "\n",
    "df_concat = pd.melt(df_concat, id_vars=['校舎名'])\n",
    "\n",
    "df_concat = df_concat.rename(\n",
    "    columns={'value':'該当者数'}\n",
    ")\n",
    "\n",
    "variable = ['在籍者数','合格者数']\n",
    "\n",
    "chart = (\n",
    "    alt.Chart(df_concat)\n",
    "    .mark_bar(opacity=0.8, clip=True)\n",
    "    .encode(\n",
    "        x='校舎名',\n",
    "        y=alt.Y('該当者数:Q', stack=None),\n",
    "        color=alt.Color('variable', scale=alt.Scale(domain=variable, range=[\"blue\", \"red\"]))\n",
    "    )\n",
    ")"
   ]
  },
  {
   "cell_type": "code",
   "execution_count": 65,
   "id": "9033d493",
   "metadata": {},
   "outputs": [
    {
     "data": {
      "text/html": [
       "\n",
       "<div id=\"altair-viz-aeee4f3777f349c497df071588b2731e\"></div>\n",
       "<script type=\"text/javascript\">\n",
       "  var VEGA_DEBUG = (typeof VEGA_DEBUG == \"undefined\") ? {} : VEGA_DEBUG;\n",
       "  (function(spec, embedOpt){\n",
       "    let outputDiv = document.currentScript.previousElementSibling;\n",
       "    if (outputDiv.id !== \"altair-viz-aeee4f3777f349c497df071588b2731e\") {\n",
       "      outputDiv = document.getElementById(\"altair-viz-aeee4f3777f349c497df071588b2731e\");\n",
       "    }\n",
       "    const paths = {\n",
       "      \"vega\": \"https://cdn.jsdelivr.net/npm//vega@5?noext\",\n",
       "      \"vega-lib\": \"https://cdn.jsdelivr.net/npm//vega-lib?noext\",\n",
       "      \"vega-lite\": \"https://cdn.jsdelivr.net/npm//vega-lite@4.17.0?noext\",\n",
       "      \"vega-embed\": \"https://cdn.jsdelivr.net/npm//vega-embed@6?noext\",\n",
       "    };\n",
       "\n",
       "    function maybeLoadScript(lib, version) {\n",
       "      var key = `${lib.replace(\"-\", \"\")}_version`;\n",
       "      return (VEGA_DEBUG[key] == version) ?\n",
       "        Promise.resolve(paths[lib]) :\n",
       "        new Promise(function(resolve, reject) {\n",
       "          var s = document.createElement('script');\n",
       "          document.getElementsByTagName(\"head\")[0].appendChild(s);\n",
       "          s.async = true;\n",
       "          s.onload = () => {\n",
       "            VEGA_DEBUG[key] = version;\n",
       "            return resolve(paths[lib]);\n",
       "          };\n",
       "          s.onerror = () => reject(`Error loading script: ${paths[lib]}`);\n",
       "          s.src = paths[lib];\n",
       "        });\n",
       "    }\n",
       "\n",
       "    function showError(err) {\n",
       "      outputDiv.innerHTML = `<div class=\"error\" style=\"color:red;\">${err}</div>`;\n",
       "      throw err;\n",
       "    }\n",
       "\n",
       "    function displayChart(vegaEmbed) {\n",
       "      vegaEmbed(outputDiv, spec, embedOpt)\n",
       "        .catch(err => showError(`Javascript Error: ${err.message}<br>This usually means there's a typo in your chart specification. See the javascript console for the full traceback.`));\n",
       "    }\n",
       "\n",
       "    if(typeof define === \"function\" && define.amd) {\n",
       "      requirejs.config({paths});\n",
       "      require([\"vega-embed\"], displayChart, err => showError(`Error loading script: ${err.message}`));\n",
       "    } else {\n",
       "      maybeLoadScript(\"vega\", \"5\")\n",
       "        .then(() => maybeLoadScript(\"vega-lite\", \"4.17.0\"))\n",
       "        .then(() => maybeLoadScript(\"vega-embed\", \"6\"))\n",
       "        .catch(showError)\n",
       "        .then(() => displayChart(vegaEmbed));\n",
       "    }\n",
       "  })({\"config\": {\"view\": {\"continuousWidth\": 400, \"continuousHeight\": 300}}, \"data\": {\"name\": \"data-8f57868a264a7b8bf950f86897095f6c\"}, \"mark\": {\"type\": \"bar\", \"clip\": true, \"opacity\": 0.8}, \"encoding\": {\"color\": {\"field\": \"variable\", \"scale\": {\"domain\": [\"\\u5728\\u7c4d\\u8005\\u6570\", \"\\u5408\\u683c\\u8005\\u6570\"], \"range\": [\"blue\", \"red\"]}, \"type\": \"nominal\"}, \"x\": {\"field\": \"\\u6821\\u820e\\u540d\", \"type\": \"nominal\"}, \"y\": {\"field\": \"\\u8a72\\u5f53\\u8005\\u6570\", \"stack\": null, \"type\": \"quantitative\"}}, \"$schema\": \"https://vega.github.io/schema/vega-lite/v4.17.0.json\", \"datasets\": {\"data-8f57868a264a7b8bf950f86897095f6c\": [{\"\\u6821\\u820e\\u540d\": \"\\u6771\\u4eac\", \"variable\": \"\\u5728\\u7c4d\\u8005\\u6570\", \"\\u8a72\\u5f53\\u8005\\u6570\": \"442\"}, {\"\\u6821\\u820e\\u540d\": \"\\u81ea\\u7531\\u304c\\u4e18\", \"variable\": \"\\u5728\\u7c4d\\u8005\\u6570\", \"\\u8a72\\u5f53\\u8005\\u6570\": \"419\"}, {\"\\u6821\\u820e\\u540d\": \"\\u5409\\u7965\\u5bfa  \", \"variable\": \"\\u5728\\u7c4d\\u8005\\u6570\", \"\\u8a72\\u5f53\\u8005\\u6570\": \"276\"}, {\"\\u6821\\u820e\\u540d\": \"\\u6a2a\\u6d5c\", \"variable\": \"\\u5728\\u7c4d\\u8005\\u6570\", \"\\u8a72\\u5f53\\u8005\\u6570\": \"237\"}, {\"\\u6821\\u820e\\u540d\": \"\\u5de3\\u9d28\", \"variable\": \"\\u5728\\u7c4d\\u8005\\u6570\", \"\\u8a72\\u5f53\\u8005\\u6570\": \"210\"}, {\"\\u6821\\u820e\\u540d\": \"\\u7df4\\u99ac\", \"variable\": \"\\u5728\\u7c4d\\u8005\\u6570\", \"\\u8a72\\u5f53\\u8005\\u6570\": \"243\"}, {\"\\u6821\\u820e\\u540d\": \"\\u5927\\u4e95\\u753a\", \"variable\": \"\\u5728\\u7c4d\\u8005\\u6570\", \"\\u8a72\\u5f53\\u8005\\u6570\": \"199\"}, {\"\\u6821\\u820e\\u540d\": \"\\u738b\\u5b50\", \"variable\": \"\\u5728\\u7c4d\\u8005\\u6570\", \"\\u8a72\\u5f53\\u8005\\u6570\": \"129\"}, {\"\\u6821\\u820e\\u540d\": \"\\u7528\\u8cc0\", \"variable\": \"\\u5728\\u7c4d\\u8005\\u6570\", \"\\u8a72\\u5f53\\u8005\\u6570\": \"166\"}, {\"\\u6821\\u820e\\u540d\": \"\\u5927\\u8239\", \"variable\": \"\\u5728\\u7c4d\\u8005\\u6570\", \"\\u8a72\\u5f53\\u8005\\u6570\": \"156\"}, {\"\\u6821\\u820e\\u540d\": \"\\u767d\\u91d1\\u9ad8\\u8f2a\", \"variable\": \"\\u5728\\u7c4d\\u8005\\u6570\", \"\\u8a72\\u5f53\\u8005\\u6570\": \"187\"}, {\"\\u6821\\u820e\\u540d\": \"\\u897f\\u8239\", \"variable\": \"\\u5728\\u7c4d\\u8005\\u6570\", \"\\u8a72\\u5f53\\u8005\\u6570\": \"209\"}, {\"\\u6821\\u820e\\u540d\": \"\\u6e0b\\u8c37\", \"variable\": \"\\u5728\\u7c4d\\u8005\\u6570\", \"\\u8a72\\u5f53\\u8005\\u6570\": \"175\"}, {\"\\u6821\\u820e\\u540d\": \"\\u305f\\u307e\\u30d7\\u30e9\\u30fc\\u30b6*\\n\\u5bae\\u524d\\u5e73\\u6821\\u3068\\u5408\\u7b97\", \"variable\": \"\\u5728\\u7c4d\\u8005\\u6570\", \"\\u8a72\\u5f53\\u8005\\u6570\": \"196\"}, {\"\\u6821\\u820e\\u540d\": \"\\u304a\\u8336\\u306e\\u6c34\", \"variable\": \"\\u5728\\u7c4d\\u8005\\u6570\", \"\\u8a72\\u5f53\\u8005\\u6570\": \"180\"}, {\"\\u6821\\u820e\\u540d\": \"\\u4e2d\\u91ce\", \"variable\": \"\\u5728\\u7c4d\\u8005\\u6570\", \"\\u8a72\\u5f53\\u8005\\u6570\": \"165\"}, {\"\\u6821\\u820e\\u540d\": \"\\u5357\\u6d66\\u548c\", \"variable\": \"\\u5728\\u7c4d\\u8005\\u6570\", \"\\u8a72\\u5f53\\u8005\\u6570\": \"180\"}, {\"\\u6821\\u820e\\u540d\": \"\\u6b66\\u8535\\u5c0f\\u6749\", \"variable\": \"\\u5728\\u7c4d\\u8005\\u6570\", \"\\u8a72\\u5f53\\u8005\\u6570\": \"131\"}, {\"\\u6821\\u820e\\u540d\": \"\\u8c4a\\u6d32\", \"variable\": \"\\u5728\\u7c4d\\u8005\\u6570\", \"\\u8a72\\u5f53\\u8005\\u6570\": \"204\"}, {\"\\u6821\\u820e\\u540d\": \"\\u67cf\", \"variable\": \"\\u5728\\u7c4d\\u8005\\u6570\", \"\\u8a72\\u5f53\\u8005\\u6570\": \"123\"}, {\"\\u6821\\u820e\\u540d\": \"\\u5343\\u8449\", \"variable\": \"\\u5728\\u7c4d\\u8005\\u6570\", \"\\u8a72\\u5f53\\u8005\\u6570\": \"101\"}, {\"\\u6821\\u820e\\u540d\": \"\\u65e5\\u5409\", \"variable\": \"\\u5728\\u7c4d\\u8005\\u6570\", \"\\u8a72\\u5f53\\u8005\\u6570\": \"130\"}, {\"\\u6821\\u820e\\u540d\": \"\\u6210\\u57ce\", \"variable\": \"\\u5728\\u7c4d\\u8005\\u6570\", \"\\u8a72\\u5f53\\u8005\\u6570\": \"255\"}, {\"\\u6821\\u820e\\u540d\": \"\\u56fd\\u7acb\", \"variable\": \"\\u5728\\u7c4d\\u8005\\u6570\", \"\\u8a72\\u5f53\\u8005\\u6570\": \"106\"}, {\"\\u6821\\u820e\\u540d\": \"\\u65b0\\u6d66\\u5b89\", \"variable\": \"\\u5728\\u7c4d\\u8005\\u6570\", \"\\u8a72\\u5f53\\u8005\\u6570\": \"105\"}, {\"\\u6821\\u820e\\u540d\": \"\\u9752\\u8449\\u53f0\", \"variable\": \"\\u5728\\u7c4d\\u8005\\u6570\", \"\\u8a72\\u5f53\\u8005\\u6570\": \"89\"}, {\"\\u6821\\u820e\\u540d\": \"\\u4ed9\\u5ddd\", \"variable\": \"\\u5728\\u7c4d\\u8005\\u6570\", \"\\u8a72\\u5f53\\u8005\\u6570\": \"123\"}, {\"\\u6821\\u820e\\u540d\": \"\\u753a\\u7530\", \"variable\": \"\\u5728\\u7c4d\\u8005\\u6570\", \"\\u8a72\\u5f53\\u8005\\u6570\": \"99\"}, {\"\\u6821\\u820e\\u540d\": \"\\u9ad8\\u7530\\u99ac\\u5834\", \"variable\": \"\\u5728\\u7c4d\\u8005\\u6570\", \"\\u8a72\\u5f53\\u8005\\u6570\": \"89\"}, {\"\\u6821\\u820e\\u540d\": \"\\u6d77\\u6d5c\\u5e55\\u5f35\", \"variable\": \"\\u5728\\u7c4d\\u8005\\u6570\", \"\\u8a72\\u5f53\\u8005\\u6570\": \"76\"}, {\"\\u6821\\u820e\\u540d\": \"\\u4e0b\\u9ad8\\u4e95\\u6238\", \"variable\": \"\\u5728\\u7c4d\\u8005\\u6570\", \"\\u8a72\\u5f53\\u8005\\u6570\": \"86\"}, {\"\\u6821\\u820e\\u540d\": \"\\u8317\\u8377\\u8c37\", \"variable\": \"\\u5728\\u7c4d\\u8005\\u6570\", \"\\u8a72\\u5f53\\u8005\\u6570\": \"139\"}, {\"\\u6821\\u820e\\u540d\": \"\\u6c38\\u798f\\u753a\", \"variable\": \"\\u5728\\u7c4d\\u8005\\u6570\", \"\\u8a72\\u5f53\\u8005\\u6570\": \"101\"}, {\"\\u6821\\u820e\\u540d\": \"\\u30bb\\u30f3\\u30bf\\u30fc\\u5357\", \"variable\": \"\\u5728\\u7c4d\\u8005\\u6570\", \"\\u8a72\\u5f53\\u8005\\u6570\": \"64\"}, {\"\\u6821\\u820e\\u540d\": \"\\u5927\\u5bae\", \"variable\": \"\\u5728\\u7c4d\\u8005\\u6570\", \"\\u8a72\\u5f53\\u8005\\u6570\": \"79\"}, {\"\\u6821\\u820e\\u540d\": \"\\u6771\\u6238\\u585a\", \"variable\": \"\\u5728\\u7c4d\\u8005\\u6570\", \"\\u8a72\\u5f53\\u8005\\u6570\": \"77\"}, {\"\\u6821\\u820e\\u540d\": \"\\u82e5\\u8449\\u53f0\", \"variable\": \"\\u5728\\u7c4d\\u8005\\u6570\", \"\\u8a72\\u5f53\\u8005\\u6570\": \"77\"}, {\"\\u6821\\u820e\\u540d\": \"\\u4e0a\\u5927\\u5ca1\", \"variable\": \"\\u5728\\u7c4d\\u8005\\u6570\", \"\\u8a72\\u5f53\\u8005\\u6570\": \"63\"}, {\"\\u6821\\u820e\\u540d\": \"\\u5bae\\u524d\\u5e73(\\u9589\\u9396)\", \"variable\": \"\\u5728\\u7c4d\\u8005\\u6570\", \"\\u8a72\\u5f53\\u8005\\u6570\": null}, {\"\\u6821\\u820e\\u540d\": \"\\u8305\\u30f6\\u5d0e\", \"variable\": \"\\u5728\\u7c4d\\u8005\\u6570\", \"\\u8a72\\u5f53\\u8005\\u6570\": \"47\"}, {\"\\u6821\\u820e\\u540d\": \"\\u6240\\u6ca2\", \"variable\": \"\\u5728\\u7c4d\\u8005\\u6570\", \"\\u8a72\\u5f53\\u8005\\u6570\": \"58\"}, {\"\\u6821\\u820e\\u540d\": \"\\u65b0\\u8d8a\\u8c37\", \"variable\": \"\\u5728\\u7c4d\\u8005\\u6570\", \"\\u8a72\\u5f53\\u8005\\u6570\": \"45\"}, {\"\\u6821\\u820e\\u540d\": \"\\u677e\\u6238\", \"variable\": \"\\u5728\\u7c4d\\u8005\\u6570\", \"\\u8a72\\u5f53\\u8005\\u6570\": \"114\"}, {\"\\u6821\\u820e\\u540d\": null, \"variable\": \"\\u5728\\u7c4d\\u8005\\u6570\", \"\\u8a72\\u5f53\\u8005\\u6570\": null}, {\"\\u6821\\u820e\\u540d\": \"\\u6771\\u4eac\", \"variable\": \"\\u5408\\u683c\\u8005\\u6570\", \"\\u8a72\\u5f53\\u8005\\u6570\": 33.0}, {\"\\u6821\\u820e\\u540d\": \"\\u81ea\\u7531\\u304c\\u4e18\", \"variable\": \"\\u5408\\u683c\\u8005\\u6570\", \"\\u8a72\\u5f53\\u8005\\u6570\": 9.0}, {\"\\u6821\\u820e\\u540d\": \"\\u5409\\u7965\\u5bfa  \", \"variable\": \"\\u5408\\u683c\\u8005\\u6570\", \"\\u8a72\\u5f53\\u8005\\u6570\": 18.0}, {\"\\u6821\\u820e\\u540d\": \"\\u6a2a\\u6d5c\", \"variable\": \"\\u5408\\u683c\\u8005\\u6570\", \"\\u8a72\\u5f53\\u8005\\u6570\": 12.0}, {\"\\u6821\\u820e\\u540d\": \"\\u5de3\\u9d28\", \"variable\": \"\\u5408\\u683c\\u8005\\u6570\", \"\\u8a72\\u5f53\\u8005\\u6570\": 12.0}, {\"\\u6821\\u820e\\u540d\": \"\\u7df4\\u99ac\", \"variable\": \"\\u5408\\u683c\\u8005\\u6570\", \"\\u8a72\\u5f53\\u8005\\u6570\": 11.0}, {\"\\u6821\\u820e\\u540d\": \"\\u5927\\u4e95\\u753a\", \"variable\": \"\\u5408\\u683c\\u8005\\u6570\", \"\\u8a72\\u5f53\\u8005\\u6570\": 7.0}, {\"\\u6821\\u820e\\u540d\": \"\\u738b\\u5b50\", \"variable\": \"\\u5408\\u683c\\u8005\\u6570\", \"\\u8a72\\u5f53\\u8005\\u6570\": 4.0}, {\"\\u6821\\u820e\\u540d\": \"\\u7528\\u8cc0\", \"variable\": \"\\u5408\\u683c\\u8005\\u6570\", \"\\u8a72\\u5f53\\u8005\\u6570\": 6.0}, {\"\\u6821\\u820e\\u540d\": \"\\u5927\\u8239\", \"variable\": \"\\u5408\\u683c\\u8005\\u6570\", \"\\u8a72\\u5f53\\u8005\\u6570\": 7.0}, {\"\\u6821\\u820e\\u540d\": \"\\u767d\\u91d1\\u9ad8\\u8f2a\", \"variable\": \"\\u5408\\u683c\\u8005\\u6570\", \"\\u8a72\\u5f53\\u8005\\u6570\": 12.0}, {\"\\u6821\\u820e\\u540d\": \"\\u897f\\u8239\", \"variable\": \"\\u5408\\u683c\\u8005\\u6570\", \"\\u8a72\\u5f53\\u8005\\u6570\": 14.0}, {\"\\u6821\\u820e\\u540d\": \"\\u6e0b\\u8c37\", \"variable\": \"\\u5408\\u683c\\u8005\\u6570\", \"\\u8a72\\u5f53\\u8005\\u6570\": 9.0}, {\"\\u6821\\u820e\\u540d\": \"\\u305f\\u307e\\u30d7\\u30e9\\u30fc\\u30b6*\\n\\u5bae\\u524d\\u5e73\\u6821\\u3068\\u5408\\u7b97\", \"variable\": \"\\u5408\\u683c\\u8005\\u6570\", \"\\u8a72\\u5f53\\u8005\\u6570\": 8.0}, {\"\\u6821\\u820e\\u540d\": \"\\u304a\\u8336\\u306e\\u6c34\", \"variable\": \"\\u5408\\u683c\\u8005\\u6570\", \"\\u8a72\\u5f53\\u8005\\u6570\": 11.0}, {\"\\u6821\\u820e\\u540d\": \"\\u4e2d\\u91ce\", \"variable\": \"\\u5408\\u683c\\u8005\\u6570\", \"\\u8a72\\u5f53\\u8005\\u6570\": 2.0}, {\"\\u6821\\u820e\\u540d\": \"\\u5357\\u6d66\\u548c\", \"variable\": \"\\u5408\\u683c\\u8005\\u6570\", \"\\u8a72\\u5f53\\u8005\\u6570\": 9.0}, {\"\\u6821\\u820e\\u540d\": \"\\u6b66\\u8535\\u5c0f\\u6749\", \"variable\": \"\\u5408\\u683c\\u8005\\u6570\", \"\\u8a72\\u5f53\\u8005\\u6570\": 4.0}, {\"\\u6821\\u820e\\u540d\": \"\\u8c4a\\u6d32\", \"variable\": \"\\u5408\\u683c\\u8005\\u6570\", \"\\u8a72\\u5f53\\u8005\\u6570\": 11.0}, {\"\\u6821\\u820e\\u540d\": \"\\u67cf\", \"variable\": \"\\u5408\\u683c\\u8005\\u6570\", \"\\u8a72\\u5f53\\u8005\\u6570\": 6.0}, {\"\\u6821\\u820e\\u540d\": \"\\u5343\\u8449\", \"variable\": \"\\u5408\\u683c\\u8005\\u6570\", \"\\u8a72\\u5f53\\u8005\\u6570\": 6.0}, {\"\\u6821\\u820e\\u540d\": \"\\u65e5\\u5409\", \"variable\": \"\\u5408\\u683c\\u8005\\u6570\", \"\\u8a72\\u5f53\\u8005\\u6570\": 2.0}, {\"\\u6821\\u820e\\u540d\": \"\\u6210\\u57ce\", \"variable\": \"\\u5408\\u683c\\u8005\\u6570\", \"\\u8a72\\u5f53\\u8005\\u6570\": 14.0}, {\"\\u6821\\u820e\\u540d\": \"\\u56fd\\u7acb\", \"variable\": \"\\u5408\\u683c\\u8005\\u6570\", \"\\u8a72\\u5f53\\u8005\\u6570\": 4.0}, {\"\\u6821\\u820e\\u540d\": \"\\u65b0\\u6d66\\u5b89\", \"variable\": \"\\u5408\\u683c\\u8005\\u6570\", \"\\u8a72\\u5f53\\u8005\\u6570\": 2.0}, {\"\\u6821\\u820e\\u540d\": \"\\u9752\\u8449\\u53f0\", \"variable\": \"\\u5408\\u683c\\u8005\\u6570\", \"\\u8a72\\u5f53\\u8005\\u6570\": 2.0}, {\"\\u6821\\u820e\\u540d\": \"\\u4ed9\\u5ddd\", \"variable\": \"\\u5408\\u683c\\u8005\\u6570\", \"\\u8a72\\u5f53\\u8005\\u6570\": 6.0}, {\"\\u6821\\u820e\\u540d\": \"\\u753a\\u7530\", \"variable\": \"\\u5408\\u683c\\u8005\\u6570\", \"\\u8a72\\u5f53\\u8005\\u6570\": 2.0}, {\"\\u6821\\u820e\\u540d\": \"\\u9ad8\\u7530\\u99ac\\u5834\", \"variable\": \"\\u5408\\u683c\\u8005\\u6570\", \"\\u8a72\\u5f53\\u8005\\u6570\": 3.0}, {\"\\u6821\\u820e\\u540d\": \"\\u6d77\\u6d5c\\u5e55\\u5f35\", \"variable\": \"\\u5408\\u683c\\u8005\\u6570\", \"\\u8a72\\u5f53\\u8005\\u6570\": 3.0}, {\"\\u6821\\u820e\\u540d\": \"\\u4e0b\\u9ad8\\u4e95\\u6238\", \"variable\": \"\\u5408\\u683c\\u8005\\u6570\", \"\\u8a72\\u5f53\\u8005\\u6570\": null}, {\"\\u6821\\u820e\\u540d\": \"\\u8317\\u8377\\u8c37\", \"variable\": \"\\u5408\\u683c\\u8005\\u6570\", \"\\u8a72\\u5f53\\u8005\\u6570\": 8.0}, {\"\\u6821\\u820e\\u540d\": \"\\u6c38\\u798f\\u753a\", \"variable\": \"\\u5408\\u683c\\u8005\\u6570\", \"\\u8a72\\u5f53\\u8005\\u6570\": 3.0}, {\"\\u6821\\u820e\\u540d\": \"\\u30bb\\u30f3\\u30bf\\u30fc\\u5357\", \"variable\": \"\\u5408\\u683c\\u8005\\u6570\", \"\\u8a72\\u5f53\\u8005\\u6570\": 2.0}, {\"\\u6821\\u820e\\u540d\": \"\\u5927\\u5bae\", \"variable\": \"\\u5408\\u683c\\u8005\\u6570\", \"\\u8a72\\u5f53\\u8005\\u6570\": null}, {\"\\u6821\\u820e\\u540d\": \"\\u6771\\u6238\\u585a\", \"variable\": \"\\u5408\\u683c\\u8005\\u6570\", \"\\u8a72\\u5f53\\u8005\\u6570\": 1.0}, {\"\\u6821\\u820e\\u540d\": \"\\u82e5\\u8449\\u53f0\", \"variable\": \"\\u5408\\u683c\\u8005\\u6570\", \"\\u8a72\\u5f53\\u8005\\u6570\": 2.0}, {\"\\u6821\\u820e\\u540d\": \"\\u4e0a\\u5927\\u5ca1\", \"variable\": \"\\u5408\\u683c\\u8005\\u6570\", \"\\u8a72\\u5f53\\u8005\\u6570\": 2.0}, {\"\\u6821\\u820e\\u540d\": \"\\u5bae\\u524d\\u5e73(\\u9589\\u9396)\", \"variable\": \"\\u5408\\u683c\\u8005\\u6570\", \"\\u8a72\\u5f53\\u8005\\u6570\": null}, {\"\\u6821\\u820e\\u540d\": \"\\u8305\\u30f6\\u5d0e\", \"variable\": \"\\u5408\\u683c\\u8005\\u6570\", \"\\u8a72\\u5f53\\u8005\\u6570\": 1.0}, {\"\\u6821\\u820e\\u540d\": \"\\u6240\\u6ca2\", \"variable\": \"\\u5408\\u683c\\u8005\\u6570\", \"\\u8a72\\u5f53\\u8005\\u6570\": 2.0}, {\"\\u6821\\u820e\\u540d\": \"\\u65b0\\u8d8a\\u8c37\", \"variable\": \"\\u5408\\u683c\\u8005\\u6570\", \"\\u8a72\\u5f53\\u8005\\u6570\": 3.0}, {\"\\u6821\\u820e\\u540d\": \"\\u677e\\u6238\", \"variable\": \"\\u5408\\u683c\\u8005\\u6570\", \"\\u8a72\\u5f53\\u8005\\u6570\": 4.0}, {\"\\u6821\\u820e\\u540d\": null, \"variable\": \"\\u5408\\u683c\\u8005\\u6570\", \"\\u8a72\\u5f53\\u8005\\u6570\": null}]}}, {\"mode\": \"vega-lite\"});\n",
       "</script>"
      ],
      "text/plain": [
       "alt.Chart(...)"
      ]
     },
     "execution_count": 65,
     "metadata": {},
     "output_type": "execute_result"
    }
   ],
   "source": [
    "chart"
   ]
  },
  {
   "cell_type": "code",
   "execution_count": null,
   "id": "eb7c7efc",
   "metadata": {},
   "outputs": [],
   "source": []
  },
  {
   "cell_type": "code",
   "execution_count": 69,
   "id": "c83a356d",
   "metadata": {},
   "outputs": [
    {
     "ename": "KeyError",
     "evalue": "\"['慶普'] not in index\"",
     "output_type": "error",
     "traceback": [
      "\u001b[1;31m---------------------------------------------------------------------------\u001b[0m",
      "\u001b[1;31mKeyError\u001b[0m                                  Traceback (most recent call last)",
      "\u001b[1;32m~\\AppData\\Local\\Temp\\ipykernel_28108\\1446103732.py\u001b[0m in \u001b[0;36m<module>\u001b[1;34m\u001b[0m\n\u001b[1;32m----> 1\u001b[1;33m \u001b[0mdf_keihu\u001b[0m \u001b[1;33m=\u001b[0m \u001b[0mdf\u001b[0m\u001b[1;33m.\u001b[0m\u001b[0mloc\u001b[0m\u001b[1;33m[\u001b[0m\u001b[1;36m5\u001b[0m\u001b[1;33m:\u001b[0m\u001b[1;36m48\u001b[0m\u001b[1;33m,\u001b[0m \u001b[1;33m[\u001b[0m\u001b[1;34m\"実績入力以外の編集禁止\"\u001b[0m\u001b[1;33m,\u001b[0m \u001b[1;34m\"慶普\"\u001b[0m\u001b[1;33m]\u001b[0m\u001b[1;33m]\u001b[0m\u001b[1;33m\u001b[0m\u001b[1;33m\u001b[0m\u001b[0m\n\u001b[0m",
      "\u001b[1;32m~\\anaconda3\\lib\\site-packages\\pandas\\core\\indexing.py\u001b[0m in \u001b[0;36m__getitem__\u001b[1;34m(self, key)\u001b[0m\n\u001b[0;32m    959\u001b[0m             \u001b[1;32mif\u001b[0m \u001b[0mself\u001b[0m\u001b[1;33m.\u001b[0m\u001b[0m_is_scalar_access\u001b[0m\u001b[1;33m(\u001b[0m\u001b[0mkey\u001b[0m\u001b[1;33m)\u001b[0m\u001b[1;33m:\u001b[0m\u001b[1;33m\u001b[0m\u001b[1;33m\u001b[0m\u001b[0m\n\u001b[0;32m    960\u001b[0m                 \u001b[1;32mreturn\u001b[0m \u001b[0mself\u001b[0m\u001b[1;33m.\u001b[0m\u001b[0mobj\u001b[0m\u001b[1;33m.\u001b[0m\u001b[0m_get_value\u001b[0m\u001b[1;33m(\u001b[0m\u001b[1;33m*\u001b[0m\u001b[0mkey\u001b[0m\u001b[1;33m,\u001b[0m \u001b[0mtakeable\u001b[0m\u001b[1;33m=\u001b[0m\u001b[0mself\u001b[0m\u001b[1;33m.\u001b[0m\u001b[0m_takeable\u001b[0m\u001b[1;33m)\u001b[0m\u001b[1;33m\u001b[0m\u001b[1;33m\u001b[0m\u001b[0m\n\u001b[1;32m--> 961\u001b[1;33m             \u001b[1;32mreturn\u001b[0m \u001b[0mself\u001b[0m\u001b[1;33m.\u001b[0m\u001b[0m_getitem_tuple\u001b[0m\u001b[1;33m(\u001b[0m\u001b[0mkey\u001b[0m\u001b[1;33m)\u001b[0m\u001b[1;33m\u001b[0m\u001b[1;33m\u001b[0m\u001b[0m\n\u001b[0m\u001b[0;32m    962\u001b[0m         \u001b[1;32melse\u001b[0m\u001b[1;33m:\u001b[0m\u001b[1;33m\u001b[0m\u001b[1;33m\u001b[0m\u001b[0m\n\u001b[0;32m    963\u001b[0m             \u001b[1;31m# we by definition only have the 0th axis\u001b[0m\u001b[1;33m\u001b[0m\u001b[1;33m\u001b[0m\u001b[0m\n",
      "\u001b[1;32m~\\anaconda3\\lib\\site-packages\\pandas\\core\\indexing.py\u001b[0m in \u001b[0;36m_getitem_tuple\u001b[1;34m(self, tup)\u001b[0m\n\u001b[0;32m   1147\u001b[0m             \u001b[1;32mreturn\u001b[0m \u001b[0mself\u001b[0m\u001b[1;33m.\u001b[0m\u001b[0m_multi_take\u001b[0m\u001b[1;33m(\u001b[0m\u001b[0mtup\u001b[0m\u001b[1;33m)\u001b[0m\u001b[1;33m\u001b[0m\u001b[1;33m\u001b[0m\u001b[0m\n\u001b[0;32m   1148\u001b[0m \u001b[1;33m\u001b[0m\u001b[0m\n\u001b[1;32m-> 1149\u001b[1;33m         \u001b[1;32mreturn\u001b[0m \u001b[0mself\u001b[0m\u001b[1;33m.\u001b[0m\u001b[0m_getitem_tuple_same_dim\u001b[0m\u001b[1;33m(\u001b[0m\u001b[0mtup\u001b[0m\u001b[1;33m)\u001b[0m\u001b[1;33m\u001b[0m\u001b[1;33m\u001b[0m\u001b[0m\n\u001b[0m\u001b[0;32m   1150\u001b[0m \u001b[1;33m\u001b[0m\u001b[0m\n\u001b[0;32m   1151\u001b[0m     \u001b[1;32mdef\u001b[0m \u001b[0m_get_label\u001b[0m\u001b[1;33m(\u001b[0m\u001b[0mself\u001b[0m\u001b[1;33m,\u001b[0m \u001b[0mlabel\u001b[0m\u001b[1;33m,\u001b[0m \u001b[0maxis\u001b[0m\u001b[1;33m:\u001b[0m \u001b[0mint\u001b[0m\u001b[1;33m)\u001b[0m\u001b[1;33m:\u001b[0m\u001b[1;33m\u001b[0m\u001b[1;33m\u001b[0m\u001b[0m\n",
      "\u001b[1;32m~\\anaconda3\\lib\\site-packages\\pandas\\core\\indexing.py\u001b[0m in \u001b[0;36m_getitem_tuple_same_dim\u001b[1;34m(self, tup)\u001b[0m\n\u001b[0;32m    825\u001b[0m                 \u001b[1;32mcontinue\u001b[0m\u001b[1;33m\u001b[0m\u001b[1;33m\u001b[0m\u001b[0m\n\u001b[0;32m    826\u001b[0m \u001b[1;33m\u001b[0m\u001b[0m\n\u001b[1;32m--> 827\u001b[1;33m             \u001b[0mretval\u001b[0m \u001b[1;33m=\u001b[0m \u001b[0mgetattr\u001b[0m\u001b[1;33m(\u001b[0m\u001b[0mretval\u001b[0m\u001b[1;33m,\u001b[0m \u001b[0mself\u001b[0m\u001b[1;33m.\u001b[0m\u001b[0mname\u001b[0m\u001b[1;33m)\u001b[0m\u001b[1;33m.\u001b[0m\u001b[0m_getitem_axis\u001b[0m\u001b[1;33m(\u001b[0m\u001b[0mkey\u001b[0m\u001b[1;33m,\u001b[0m \u001b[0maxis\u001b[0m\u001b[1;33m=\u001b[0m\u001b[0mi\u001b[0m\u001b[1;33m)\u001b[0m\u001b[1;33m\u001b[0m\u001b[1;33m\u001b[0m\u001b[0m\n\u001b[0m\u001b[0;32m    828\u001b[0m             \u001b[1;31m# We should never have retval.ndim < self.ndim, as that should\u001b[0m\u001b[1;33m\u001b[0m\u001b[1;33m\u001b[0m\u001b[0m\n\u001b[0;32m    829\u001b[0m             \u001b[1;31m#  be handled by the _getitem_lowerdim call above.\u001b[0m\u001b[1;33m\u001b[0m\u001b[1;33m\u001b[0m\u001b[0m\n",
      "\u001b[1;32m~\\anaconda3\\lib\\site-packages\\pandas\\core\\indexing.py\u001b[0m in \u001b[0;36m_getitem_axis\u001b[1;34m(self, key, axis)\u001b[0m\n\u001b[0;32m   1192\u001b[0m                     \u001b[1;32mraise\u001b[0m \u001b[0mValueError\u001b[0m\u001b[1;33m(\u001b[0m\u001b[1;34m\"Cannot index with multidimensional key\"\u001b[0m\u001b[1;33m)\u001b[0m\u001b[1;33m\u001b[0m\u001b[1;33m\u001b[0m\u001b[0m\n\u001b[0;32m   1193\u001b[0m \u001b[1;33m\u001b[0m\u001b[0m\n\u001b[1;32m-> 1194\u001b[1;33m                 \u001b[1;32mreturn\u001b[0m \u001b[0mself\u001b[0m\u001b[1;33m.\u001b[0m\u001b[0m_getitem_iterable\u001b[0m\u001b[1;33m(\u001b[0m\u001b[0mkey\u001b[0m\u001b[1;33m,\u001b[0m \u001b[0maxis\u001b[0m\u001b[1;33m=\u001b[0m\u001b[0maxis\u001b[0m\u001b[1;33m)\u001b[0m\u001b[1;33m\u001b[0m\u001b[1;33m\u001b[0m\u001b[0m\n\u001b[0m\u001b[0;32m   1195\u001b[0m \u001b[1;33m\u001b[0m\u001b[0m\n\u001b[0;32m   1196\u001b[0m             \u001b[1;31m# nested tuple slicing\u001b[0m\u001b[1;33m\u001b[0m\u001b[1;33m\u001b[0m\u001b[0m\n",
      "\u001b[1;32m~\\anaconda3\\lib\\site-packages\\pandas\\core\\indexing.py\u001b[0m in \u001b[0;36m_getitem_iterable\u001b[1;34m(self, key, axis)\u001b[0m\n\u001b[0;32m   1130\u001b[0m \u001b[1;33m\u001b[0m\u001b[0m\n\u001b[0;32m   1131\u001b[0m         \u001b[1;31m# A collection of keys\u001b[0m\u001b[1;33m\u001b[0m\u001b[1;33m\u001b[0m\u001b[0m\n\u001b[1;32m-> 1132\u001b[1;33m         \u001b[0mkeyarr\u001b[0m\u001b[1;33m,\u001b[0m \u001b[0mindexer\u001b[0m \u001b[1;33m=\u001b[0m \u001b[0mself\u001b[0m\u001b[1;33m.\u001b[0m\u001b[0m_get_listlike_indexer\u001b[0m\u001b[1;33m(\u001b[0m\u001b[0mkey\u001b[0m\u001b[1;33m,\u001b[0m \u001b[0maxis\u001b[0m\u001b[1;33m)\u001b[0m\u001b[1;33m\u001b[0m\u001b[1;33m\u001b[0m\u001b[0m\n\u001b[0m\u001b[0;32m   1133\u001b[0m         return self.obj._reindex_with_indexers(\n\u001b[0;32m   1134\u001b[0m             \u001b[1;33m{\u001b[0m\u001b[0maxis\u001b[0m\u001b[1;33m:\u001b[0m \u001b[1;33m[\u001b[0m\u001b[0mkeyarr\u001b[0m\u001b[1;33m,\u001b[0m \u001b[0mindexer\u001b[0m\u001b[1;33m]\u001b[0m\u001b[1;33m}\u001b[0m\u001b[1;33m,\u001b[0m \u001b[0mcopy\u001b[0m\u001b[1;33m=\u001b[0m\u001b[1;32mTrue\u001b[0m\u001b[1;33m,\u001b[0m \u001b[0mallow_dups\u001b[0m\u001b[1;33m=\u001b[0m\u001b[1;32mTrue\u001b[0m\u001b[1;33m\u001b[0m\u001b[1;33m\u001b[0m\u001b[0m\n",
      "\u001b[1;32m~\\anaconda3\\lib\\site-packages\\pandas\\core\\indexing.py\u001b[0m in \u001b[0;36m_get_listlike_indexer\u001b[1;34m(self, key, axis)\u001b[0m\n\u001b[0;32m   1328\u001b[0m         \u001b[0maxis_name\u001b[0m \u001b[1;33m=\u001b[0m \u001b[0mself\u001b[0m\u001b[1;33m.\u001b[0m\u001b[0mobj\u001b[0m\u001b[1;33m.\u001b[0m\u001b[0m_get_axis_name\u001b[0m\u001b[1;33m(\u001b[0m\u001b[0maxis\u001b[0m\u001b[1;33m)\u001b[0m\u001b[1;33m\u001b[0m\u001b[1;33m\u001b[0m\u001b[0m\n\u001b[0;32m   1329\u001b[0m \u001b[1;33m\u001b[0m\u001b[0m\n\u001b[1;32m-> 1330\u001b[1;33m         \u001b[0mkeyarr\u001b[0m\u001b[1;33m,\u001b[0m \u001b[0mindexer\u001b[0m \u001b[1;33m=\u001b[0m \u001b[0max\u001b[0m\u001b[1;33m.\u001b[0m\u001b[0m_get_indexer_strict\u001b[0m\u001b[1;33m(\u001b[0m\u001b[0mkey\u001b[0m\u001b[1;33m,\u001b[0m \u001b[0maxis_name\u001b[0m\u001b[1;33m)\u001b[0m\u001b[1;33m\u001b[0m\u001b[1;33m\u001b[0m\u001b[0m\n\u001b[0m\u001b[0;32m   1331\u001b[0m \u001b[1;33m\u001b[0m\u001b[0m\n\u001b[0;32m   1332\u001b[0m         \u001b[1;32mreturn\u001b[0m \u001b[0mkeyarr\u001b[0m\u001b[1;33m,\u001b[0m \u001b[0mindexer\u001b[0m\u001b[1;33m\u001b[0m\u001b[1;33m\u001b[0m\u001b[0m\n",
      "\u001b[1;32m~\\anaconda3\\lib\\site-packages\\pandas\\core\\indexes\\base.py\u001b[0m in \u001b[0;36m_get_indexer_strict\u001b[1;34m(self, key, axis_name)\u001b[0m\n\u001b[0;32m   5794\u001b[0m             \u001b[0mkeyarr\u001b[0m\u001b[1;33m,\u001b[0m \u001b[0mindexer\u001b[0m\u001b[1;33m,\u001b[0m \u001b[0mnew_indexer\u001b[0m \u001b[1;33m=\u001b[0m \u001b[0mself\u001b[0m\u001b[1;33m.\u001b[0m\u001b[0m_reindex_non_unique\u001b[0m\u001b[1;33m(\u001b[0m\u001b[0mkeyarr\u001b[0m\u001b[1;33m)\u001b[0m\u001b[1;33m\u001b[0m\u001b[1;33m\u001b[0m\u001b[0m\n\u001b[0;32m   5795\u001b[0m \u001b[1;33m\u001b[0m\u001b[0m\n\u001b[1;32m-> 5796\u001b[1;33m         \u001b[0mself\u001b[0m\u001b[1;33m.\u001b[0m\u001b[0m_raise_if_missing\u001b[0m\u001b[1;33m(\u001b[0m\u001b[0mkeyarr\u001b[0m\u001b[1;33m,\u001b[0m \u001b[0mindexer\u001b[0m\u001b[1;33m,\u001b[0m \u001b[0maxis_name\u001b[0m\u001b[1;33m)\u001b[0m\u001b[1;33m\u001b[0m\u001b[1;33m\u001b[0m\u001b[0m\n\u001b[0m\u001b[0;32m   5797\u001b[0m \u001b[1;33m\u001b[0m\u001b[0m\n\u001b[0;32m   5798\u001b[0m         \u001b[0mkeyarr\u001b[0m \u001b[1;33m=\u001b[0m \u001b[0mself\u001b[0m\u001b[1;33m.\u001b[0m\u001b[0mtake\u001b[0m\u001b[1;33m(\u001b[0m\u001b[0mindexer\u001b[0m\u001b[1;33m)\u001b[0m\u001b[1;33m\u001b[0m\u001b[1;33m\u001b[0m\u001b[0m\n",
      "\u001b[1;32m~\\anaconda3\\lib\\site-packages\\pandas\\core\\indexes\\base.py\u001b[0m in \u001b[0;36m_raise_if_missing\u001b[1;34m(self, key, indexer, axis_name)\u001b[0m\n\u001b[0;32m   5857\u001b[0m \u001b[1;33m\u001b[0m\u001b[0m\n\u001b[0;32m   5858\u001b[0m             \u001b[0mnot_found\u001b[0m \u001b[1;33m=\u001b[0m \u001b[0mlist\u001b[0m\u001b[1;33m(\u001b[0m\u001b[0mensure_index\u001b[0m\u001b[1;33m(\u001b[0m\u001b[0mkey\u001b[0m\u001b[1;33m)\u001b[0m\u001b[1;33m[\u001b[0m\u001b[0mmissing_mask\u001b[0m\u001b[1;33m.\u001b[0m\u001b[0mnonzero\u001b[0m\u001b[1;33m(\u001b[0m\u001b[1;33m)\u001b[0m\u001b[1;33m[\u001b[0m\u001b[1;36m0\u001b[0m\u001b[1;33m]\u001b[0m\u001b[1;33m]\u001b[0m\u001b[1;33m.\u001b[0m\u001b[0munique\u001b[0m\u001b[1;33m(\u001b[0m\u001b[1;33m)\u001b[0m\u001b[1;33m)\u001b[0m\u001b[1;33m\u001b[0m\u001b[1;33m\u001b[0m\u001b[0m\n\u001b[1;32m-> 5859\u001b[1;33m             \u001b[1;32mraise\u001b[0m \u001b[0mKeyError\u001b[0m\u001b[1;33m(\u001b[0m\u001b[1;34mf\"{not_found} not in index\"\u001b[0m\u001b[1;33m)\u001b[0m\u001b[1;33m\u001b[0m\u001b[1;33m\u001b[0m\u001b[0m\n\u001b[0m\u001b[0;32m   5860\u001b[0m \u001b[1;33m\u001b[0m\u001b[0m\n\u001b[0;32m   5861\u001b[0m     \u001b[1;33m@\u001b[0m\u001b[0moverload\u001b[0m\u001b[1;33m\u001b[0m\u001b[1;33m\u001b[0m\u001b[0m\n",
      "\u001b[1;31mKeyError\u001b[0m: \"['慶普'] not in index\""
     ]
    }
   ],
   "source": [
    "df_keihu = df.loc[5:48, [\"実績入力以外の編集禁止\", \"慶普\"]]"
   ]
  },
  {
   "cell_type": "code",
   "execution_count": null,
   "id": "01da8921",
   "metadata": {},
   "outputs": [],
   "source": []
  },
  {
   "cell_type": "code",
   "execution_count": null,
   "id": "f0fc7a11",
   "metadata": {},
   "outputs": [],
   "source": []
  },
  {
   "cell_type": "code",
   "execution_count": 66,
   "id": "b50198e7",
   "metadata": {},
   "outputs": [],
   "source": [
    "import pandas as pd\n",
    "import altair as alt\n",
    "\n",
    "data = pd.read_csv(\"sapi_2022.csv\")\n",
    "df = pd.DataFrame(data)\n",
    "\n",
    "df_enroll = df.loc[5:48, [\"実績入力以外の編集禁止\",\"在籍\"]]\n",
    "df_kaisei = df.loc[5:48, [\"実績入力以外の編集禁止\", \"開成\"]]\n",
    "\n",
    "enrollment=['校舎名','在籍者数']\n",
    "successful_candidate=['校舎名','合格者数']\n",
    "\n",
    "df_enroll.columns = enrollment\n",
    "df_tsukukoma.columns = successful_candidate\n",
    "\n",
    "df_tsukukoma2 = df_tsukukoma.drop('校舎名', axis=1)\n",
    "df_concat = pd.concat([df_enroll,df_tsukukoma2], axis=1)\n",
    "\n",
    "df_concat = pd.melt(df_concat, id_vars=['校舎名'])\n",
    "\n",
    "df_concat = df_concat.rename(\n",
    "    columns={'value':'該当者数'}\n",
    ")\n",
    "\n",
    "variable = ['在籍者数','合格者数']\n",
    "\n",
    "chart = (\n",
    "    alt.Chart(df_concat)\n",
    "    .mark_bar(opacity=0.8, clip=True)\n",
    "    .encode(\n",
    "        x='校舎名',\n",
    "        y=alt.Y('該当者数:Q', stack=None),\n",
    "        color=alt.Color('variable', scale=alt.Scale(domain=variable, range=[\"blue\", \"red\"]))\n",
    "    )\n",
    ")"
   ]
  },
  {
   "cell_type": "code",
   "execution_count": null,
   "id": "72d1643f",
   "metadata": {},
   "outputs": [],
   "source": []
  },
  {
   "cell_type": "code",
   "execution_count": null,
   "id": "94be8177",
   "metadata": {},
   "outputs": [],
   "source": []
  }
 ],
 "metadata": {
  "kernelspec": {
   "display_name": "Python 3 (ipykernel)",
   "language": "python",
   "name": "python3"
  },
  "language_info": {
   "codemirror_mode": {
    "name": "ipython",
    "version": 3
   },
   "file_extension": ".py",
   "mimetype": "text/x-python",
   "name": "python",
   "nbconvert_exporter": "python",
   "pygments_lexer": "ipython3",
   "version": "3.9.13"
  }
 },
 "nbformat": 4,
 "nbformat_minor": 5
}
