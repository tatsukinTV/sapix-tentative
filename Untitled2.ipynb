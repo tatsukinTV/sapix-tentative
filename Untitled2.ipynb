{
 "cells": [
  {
   "cell_type": "code",
   "execution_count": 2,
   "id": "8ab8cb84",
   "metadata": {},
   "outputs": [],
   "source": [
    "import pandas as pd\n",
    "import altair as alt\n",
    "import numpy as np\n",
    "\n",
    "data = pd.read_csv(\"sapix_2022.csv\")\n",
    "df = pd.DataFrame(data)\n",
    "\n",
    "df_enroll = df.loc[5:48, [\"実績入力以外の編集禁止\",\"在籍\"]]\n",
    "df_tsukukoma = df.loc[5:48, [\"実績入力以外の編集禁止\", \"筑駒\"]]\n",
    "df_kaisei = df.loc[5:48, [\"実績入力以外の編集禁止\", \"開成\"]]\n",
    "df_azabu = df.loc[5:48, [\"実績入力以外の編集禁止\", \"麻布\"]]\n",
    "df_komatou = df.loc[5:48, [\"実績入力以外の編集禁止\", \"駒東\"]]\n",
    "df_musashi = df.loc[5:48, [\"実績入力以外の編集禁止\", \"武蔵\"]]\n",
    "## df_keihu = df.loc[5:48, [\"実績入力以外の編集禁止\", \"慶普\"]]\n",
    "df_waseda = df.loc[5:48, [\"実績入力以外の編集禁止\", \"早稲田\"]]\n",
    "df_wasegaku = df.loc[5:48, [\"実績入力以外の編集禁止\", \"早大学院\"]]\n",
    "df_seikou = df.loc[5:48, [\"実績入力以外の編集禁止\", \"聖光\"]]\n",
    "df_eikou = df.loc[5:48, [\"実績入力以外の編集禁止\", \"栄光\"]]\n",
    "df_asano = df.loc[5:48, [\"実績入力以外の編集禁止\", \"浅野\"]]\n",
    "df_kaijou = df.loc[5:48, [\"実績入力以外の編集禁止\", \"海城\"]]\n",
    "df_shiba = df.loc[5:48, [\"実績入力以外の編集禁止\", \"芝\"]]\n",
    "\n",
    "enrollment=['校舎名','在籍者数']\n",
    "successful_candidate=['校舎名','合格者数']\n",
    "\n",
    "df_enroll.columns = enrollment\n",
    "df_kaisei.columns = successful_candidate\n",
    "\n",
    "df_kaisei2 = df_kaisei.drop('校舎名', axis=1)\n",
    "df_concat = pd.concat([df_enroll,df_kaisei2], axis=1)\n",
    "\n",
    "df_concat = pd.melt(df_concat, id_vars=['校舎名'])\n",
    "\n",
    "df_concat = df_concat.rename(\n",
    "    columns={'value':'該当者数'}\n",
    ")\n",
    "\n",
    "variable = ['在籍者数','合格者数']\n",
    "\n",
    "chart = (\n",
    "    alt.Chart(df_concat)\n",
    "    .mark_bar(opacity=0.8, clip=True)\n",
    "    .encode(\n",
    "        x='校舎名',\n",
    "        y=alt.Y('該当者数:Q', stack=None),\n",
    "        color=alt.Color('variable', scale=alt.Scale(domain=variable, range=[\"blue\", \"red\"]))\n",
    "    )\n",
    ")"
   ]
  },
  {
   "cell_type": "code",
   "execution_count": 3,
   "id": "9033d493",
   "metadata": {},
   "outputs": [],
   "source": [
    "df_dev = df.iloc[0:1, 2:36]"
   ]
  },
  {
   "cell_type": "code",
   "execution_count": 4,
   "id": "eb7c7efc",
   "metadata": {},
   "outputs": [],
   "source": [
    "df_dev = df_dev.rename(index={0:'偏差値'})"
   ]
  },
  {
   "cell_type": "code",
   "execution_count": 5,
   "id": "c058514f",
   "metadata": {},
   "outputs": [
    {
     "data": {
      "text/html": [
       "<div>\n",
       "<style scoped>\n",
       "    .dataframe tbody tr th:only-of-type {\n",
       "        vertical-align: middle;\n",
       "    }\n",
       "\n",
       "    .dataframe tbody tr th {\n",
       "        vertical-align: top;\n",
       "    }\n",
       "\n",
       "    .dataframe thead th {\n",
       "        text-align: right;\n",
       "    }\n",
       "</style>\n",
       "<table border=\"1\" class=\"dataframe\">\n",
       "  <thead>\n",
       "    <tr style=\"text-align: right;\">\n",
       "      <th></th>\n",
       "      <th>筑駒</th>\n",
       "      <th>開成</th>\n",
       "      <th>麻布</th>\n",
       "      <th>駒東</th>\n",
       "      <th>武蔵</th>\n",
       "      <th>桜蔭</th>\n",
       "      <th>JG</th>\n",
       "      <th>雙葉</th>\n",
       "      <th>豊島岡</th>\n",
       "      <th>渋幕</th>\n",
       "      <th>...</th>\n",
       "      <th>明明</th>\n",
       "      <th>海城</th>\n",
       "      <th>芝</th>\n",
       "      <th>白百合</th>\n",
       "      <th>学習院女</th>\n",
       "      <th>洗足</th>\n",
       "      <th>吉祥女</th>\n",
       "      <th>鷗友</th>\n",
       "      <th>浦和明星</th>\n",
       "      <th>灘</th>\n",
       "    </tr>\n",
       "  </thead>\n",
       "  <tbody>\n",
       "    <tr>\n",
       "      <th>偏差値</th>\n",
       "      <td>70.0</td>\n",
       "      <td>67.0</td>\n",
       "      <td>62.0</td>\n",
       "      <td>60.0</td>\n",
       "      <td>60</td>\n",
       "      <td>62.0</td>\n",
       "      <td>61.0</td>\n",
       "      <td>58.0</td>\n",
       "      <td>61.0</td>\n",
       "      <td>64.0</td>\n",
       "      <td>...</td>\n",
       "      <td>55.0</td>\n",
       "      <td>58.0</td>\n",
       "      <td>52.0</td>\n",
       "      <td>54.0</td>\n",
       "      <td>52.0</td>\n",
       "      <td>56.0</td>\n",
       "      <td>54.0</td>\n",
       "      <td>53.0</td>\n",
       "      <td>56.0</td>\n",
       "      <td>68.0</td>\n",
       "    </tr>\n",
       "  </tbody>\n",
       "</table>\n",
       "<p>1 rows × 34 columns</p>\n",
       "</div>"
      ],
      "text/plain": [
       "       筑駒    開成    麻布    駒東  武蔵    桜蔭    JG    雙葉   豊島岡    渋幕  ...    明明  \\\n",
       "偏差値  70.0  67.0  62.0  60.0  60  62.0  61.0  58.0  61.0  64.0  ...  55.0   \n",
       "\n",
       "       海城     芝   白百合  学習院女    洗足   吉祥女    鷗友  浦和明星     灘  \n",
       "偏差値  58.0  52.0  54.0  52.0  56.0  54.0  53.0  56.0  68.0  \n",
       "\n",
       "[1 rows x 34 columns]"
      ]
     },
     "execution_count": 5,
     "metadata": {},
     "output_type": "execute_result"
    }
   ],
   "source": [
    "df_dev"
   ]
  },
  {
   "cell_type": "code",
   "execution_count": 6,
   "id": "67a999a1",
   "metadata": {},
   "outputs": [
    {
     "data": {
      "text/plain": [
       "偏差値    67.0\n",
       "Name: 開成, dtype: float64"
      ]
     },
     "execution_count": 6,
     "metadata": {},
     "output_type": "execute_result"
    }
   ],
   "source": [
    "df_dev['開成']"
   ]
  },
  {
   "cell_type": "code",
   "execution_count": 7,
   "id": "c83a356d",
   "metadata": {},
   "outputs": [
    {
     "name": "stdout",
     "output_type": "stream",
     "text": [
      "       筑駒    開成    麻布    駒東  武蔵    桜蔭    JG    雙葉   豊島岡    渋幕  ...    明明  \\\n",
      "偏差値  70.0  67.0  62.0  60.0  60  62.0  61.0  58.0  61.0  64.0  ...  55.0   \n",
      "\n",
      "       海城     芝   白百合  学習院女    洗足   吉祥女    鷗友  浦和明星     灘  \n",
      "偏差値  58.0  52.0  54.0  52.0  56.0  54.0  53.0  56.0  68.0  \n",
      "\n",
      "[1 rows x 34 columns]\n"
     ]
    }
   ],
   "source": [
    "print(df_dev )"
   ]
  },
  {
   "cell_type": "code",
   "execution_count": 8,
   "id": "7949a3ac",
   "metadata": {},
   "outputs": [
    {
     "data": {
      "text/plain": [
       "array(['筑駒', '開成', '麻布', '駒東', '武蔵', '桜蔭', 'JG', '雙葉', '豊島岡', '渋幕', '渋渋',\n",
       "       '広尾', '慶普', '慶湘', '慶中', '早稲田', '早大学院', '早実', '聖光', '栄光', '浅野',\n",
       "       'フェリス', '筑附', '青山', '明明', '海城', '芝', '白百合', '学習院女', '洗足', '吉祥女',\n",
       "       '鷗友', '浦和明星', '灘'], dtype=object)"
      ]
     },
     "execution_count": 8,
     "metadata": {},
     "output_type": "execute_result"
    }
   ],
   "source": [
    "df_dev.columns.values"
   ]
  },
  {
   "cell_type": "code",
   "execution_count": 9,
   "id": "01da8921",
   "metadata": {},
   "outputs": [
    {
     "data": {
      "text/plain": [
       "array(['偏差値'], dtype=object)"
      ]
     },
     "execution_count": 9,
     "metadata": {},
     "output_type": "execute_result"
    }
   ],
   "source": [
    "df_dev.index.values"
   ]
  },
  {
   "cell_type": "code",
   "execution_count": 10,
   "id": "f0fc7a11",
   "metadata": {},
   "outputs": [],
   "source": [
    "df_dev = df.iloc[0, 2:36]"
   ]
  },
  {
   "cell_type": "code",
   "execution_count": 11,
   "id": "b50198e7",
   "metadata": {},
   "outputs": [],
   "source": [
    "df_dev = pd.DataFrame(df_dev)"
   ]
  },
  {
   "cell_type": "code",
   "execution_count": 12,
   "id": "72d1643f",
   "metadata": {},
   "outputs": [],
   "source": [
    "df_dev = df_dev.rename(columns={0:'偏差値'})"
   ]
  },
  {
   "cell_type": "code",
   "execution_count": 13,
   "id": "94be8177",
   "metadata": {},
   "outputs": [
    {
     "data": {
      "text/plain": [
       "array([['筑駒', '開成', '麻布', '駒東', '武蔵', '桜蔭', 'JG', '雙葉', '豊島岡', '渋幕',\n",
       "        '渋渋', '広尾', '慶普', '慶湘', '慶中', '早稲田', '早大学院', '早実', '聖光', '栄光',\n",
       "        '浅野', 'フェリス', '筑附', '青山', '明明', '海城', '芝', '白百合', '学習院女', '洗足',\n",
       "        '吉祥女', '鷗友', '浦和明星', '灘']], dtype=object)"
      ]
     },
     "execution_count": 13,
     "metadata": {},
     "output_type": "execute_result"
    }
   ],
   "source": [
    "df_dev.index.values[df_dev['偏差値'][0] > 65]"
   ]
  },
  {
   "cell_type": "code",
   "execution_count": null,
   "id": "5cb9b96e",
   "metadata": {},
   "outputs": [],
   "source": []
  },
  {
   "cell_type": "code",
   "execution_count": 14,
   "id": "336e374d",
   "metadata": {},
   "outputs": [],
   "source": [
    "school_name_tsukukoma = {'学校名':'筑駒', '偏差値':70}\n",
    "school_name_waseda = {'学校名':'早稲田', '偏差値':60}\n",
    "school_name_shiba = {'学校名':'芝', '偏差値':50}"
   ]
  },
  {
   "cell_type": "code",
   "execution_count": 15,
   "id": "3e9f79c3",
   "metadata": {},
   "outputs": [],
   "source": [
    "school_name = [school_name_tsukukoma, school_name_waseda, school_name_shiba]"
   ]
  },
  {
   "cell_type": "code",
   "execution_count": 16,
   "id": "06b48190",
   "metadata": {},
   "outputs": [],
   "source": [
    "sc_dev = []"
   ]
  },
  {
   "cell_type": "code",
   "execution_count": 17,
   "id": "382b9777",
   "metadata": {},
   "outputs": [],
   "source": [
    "n = range(3)"
   ]
  },
  {
   "cell_type": "code",
   "execution_count": 18,
   "id": "313164c7",
   "metadata": {},
   "outputs": [],
   "source": [
    "if 71 > int(school_name[2]['偏差値']) > 55:\n",
    "    print(school_name[2]['学校名'])"
   ]
  },
  {
   "cell_type": "code",
   "execution_count": 19,
   "id": "42116b02",
   "metadata": {},
   "outputs": [],
   "source": [
    "for _n in n:\n",
    "    if 71 > int(school_name[_n]['偏差値']) > 55:\n",
    "        sc_dev.append(school_name[_n]['学校名'])"
   ]
  },
  {
   "cell_type": "code",
   "execution_count": 20,
   "id": "757c71d2",
   "metadata": {},
   "outputs": [
    {
     "name": "stdout",
     "output_type": "stream",
     "text": [
      "['筑駒', '早稲田']\n"
     ]
    }
   ],
   "source": [
    "print(sc_dev)"
   ]
  },
  {
   "cell_type": "code",
   "execution_count": 21,
   "id": "5076a47c",
   "metadata": {},
   "outputs": [
    {
     "data": {
      "text/plain": [
       "3"
      ]
     },
     "execution_count": 21,
     "metadata": {},
     "output_type": "execute_result"
    }
   ],
   "source": [
    "len(school_name)"
   ]
  },
  {
   "cell_type": "code",
   "execution_count": 22,
   "id": "ef048c4c",
   "metadata": {},
   "outputs": [],
   "source": [
    "df_men_gosanke = df.loc[5:47, [\"実績入力以外の編集禁止\", \"男子御三家率\"]]\n",
    "df_women_gosanke = df.loc[5:47, [\"実績入力以外の編集禁止\", \"女子御三家率\"]]"
   ]
  },
  {
   "cell_type": "code",
   "execution_count": 23,
   "id": "56985fe7",
   "metadata": {},
   "outputs": [],
   "source": [
    "df_men_gosanke.columns = ['校舎名', '男子御三家合格率']"
   ]
  },
  {
   "cell_type": "code",
   "execution_count": 24,
   "id": "9fb2f9a0",
   "metadata": {},
   "outputs": [],
   "source": [
    "df_women_gosanke.columns = ['校舎名', '女子御三家合格率']\n",
    "df_women_gosanke = df_women_gosanke.drop('校舎名', axis = 1)"
   ]
  },
  {
   "cell_type": "code",
   "execution_count": 25,
   "id": "2036382e",
   "metadata": {},
   "outputs": [
    {
     "data": {
      "text/html": [
       "<div>\n",
       "<style scoped>\n",
       "    .dataframe tbody tr th:only-of-type {\n",
       "        vertical-align: middle;\n",
       "    }\n",
       "\n",
       "    .dataframe tbody tr th {\n",
       "        vertical-align: top;\n",
       "    }\n",
       "\n",
       "    .dataframe thead th {\n",
       "        text-align: right;\n",
       "    }\n",
       "</style>\n",
       "<table border=\"1\" class=\"dataframe\">\n",
       "  <thead>\n",
       "    <tr style=\"text-align: right;\">\n",
       "      <th></th>\n",
       "      <th>校舎名</th>\n",
       "      <th>男子御三家合格率</th>\n",
       "      <th>女子御三家合格率</th>\n",
       "    </tr>\n",
       "  </thead>\n",
       "  <tbody>\n",
       "    <tr>\n",
       "      <th>5</th>\n",
       "      <td>東京</td>\n",
       "      <td>10.41</td>\n",
       "      <td>6.11</td>\n",
       "    </tr>\n",
       "    <tr>\n",
       "      <th>6</th>\n",
       "      <td>自由が丘</td>\n",
       "      <td>7.69</td>\n",
       "      <td>8.35</td>\n",
       "    </tr>\n",
       "    <tr>\n",
       "      <th>7</th>\n",
       "      <td>吉祥寺</td>\n",
       "      <td>7.92</td>\n",
       "      <td>5.80</td>\n",
       "    </tr>\n",
       "    <tr>\n",
       "      <th>8</th>\n",
       "      <td>横浜</td>\n",
       "      <td>4.98</td>\n",
       "      <td>2.95</td>\n",
       "    </tr>\n",
       "    <tr>\n",
       "      <th>9</th>\n",
       "      <td>巣鴨</td>\n",
       "      <td>4.30</td>\n",
       "      <td>8.10</td>\n",
       "    </tr>\n",
       "    <tr>\n",
       "      <th>10</th>\n",
       "      <td>練馬</td>\n",
       "      <td>4.75</td>\n",
       "      <td>5.35</td>\n",
       "    </tr>\n",
       "    <tr>\n",
       "      <th>11</th>\n",
       "      <td>大井町</td>\n",
       "      <td>2.71</td>\n",
       "      <td>2.51</td>\n",
       "    </tr>\n",
       "    <tr>\n",
       "      <th>12</th>\n",
       "      <td>王子</td>\n",
       "      <td>2.49</td>\n",
       "      <td>4.65</td>\n",
       "    </tr>\n",
       "    <tr>\n",
       "      <th>13</th>\n",
       "      <td>用賀</td>\n",
       "      <td>2.71</td>\n",
       "      <td>9.64</td>\n",
       "    </tr>\n",
       "    <tr>\n",
       "      <th>14</th>\n",
       "      <td>大船</td>\n",
       "      <td>2.49</td>\n",
       "      <td>1.28</td>\n",
       "    </tr>\n",
       "    <tr>\n",
       "      <th>15</th>\n",
       "      <td>白金高輪</td>\n",
       "      <td>4.75</td>\n",
       "      <td>6.42</td>\n",
       "    </tr>\n",
       "    <tr>\n",
       "      <th>16</th>\n",
       "      <td>西船</td>\n",
       "      <td>4.30</td>\n",
       "      <td>5.74</td>\n",
       "    </tr>\n",
       "    <tr>\n",
       "      <th>17</th>\n",
       "      <td>渋谷</td>\n",
       "      <td>4.07</td>\n",
       "      <td>5.71</td>\n",
       "    </tr>\n",
       "    <tr>\n",
       "      <th>18</th>\n",
       "      <td>たまプラーザ*\\n宮前平校と合算</td>\n",
       "      <td>2.94</td>\n",
       "      <td>7.65</td>\n",
       "    </tr>\n",
       "    <tr>\n",
       "      <th>19</th>\n",
       "      <td>お茶の水</td>\n",
       "      <td>4.30</td>\n",
       "      <td>10.00</td>\n",
       "    </tr>\n",
       "    <tr>\n",
       "      <th>20</th>\n",
       "      <td>中野</td>\n",
       "      <td>2.04</td>\n",
       "      <td>4.85</td>\n",
       "    </tr>\n",
       "    <tr>\n",
       "      <th>21</th>\n",
       "      <td>南浦和</td>\n",
       "      <td>4.07</td>\n",
       "      <td>7.78</td>\n",
       "    </tr>\n",
       "    <tr>\n",
       "      <th>22</th>\n",
       "      <td>武蔵小杉</td>\n",
       "      <td>2.26</td>\n",
       "      <td>3.82</td>\n",
       "    </tr>\n",
       "    <tr>\n",
       "      <th>23</th>\n",
       "      <td>豊洲</td>\n",
       "      <td>5.43</td>\n",
       "      <td>7.35</td>\n",
       "    </tr>\n",
       "    <tr>\n",
       "      <th>24</th>\n",
       "      <td>柏</td>\n",
       "      <td>2.49</td>\n",
       "      <td>8.13</td>\n",
       "    </tr>\n",
       "    <tr>\n",
       "      <th>25</th>\n",
       "      <td>千葉</td>\n",
       "      <td>1.81</td>\n",
       "      <td>4.95</td>\n",
       "    </tr>\n",
       "    <tr>\n",
       "      <th>26</th>\n",
       "      <td>日吉</td>\n",
       "      <td>0.90</td>\n",
       "      <td>10.77</td>\n",
       "    </tr>\n",
       "    <tr>\n",
       "      <th>27</th>\n",
       "      <td>成城</td>\n",
       "      <td>6.79</td>\n",
       "      <td>4.71</td>\n",
       "    </tr>\n",
       "    <tr>\n",
       "      <th>28</th>\n",
       "      <td>国立</td>\n",
       "      <td>1.81</td>\n",
       "      <td>11.32</td>\n",
       "    </tr>\n",
       "    <tr>\n",
       "      <th>29</th>\n",
       "      <td>新浦安</td>\n",
       "      <td>0.45</td>\n",
       "      <td>7.62</td>\n",
       "    </tr>\n",
       "    <tr>\n",
       "      <th>30</th>\n",
       "      <td>青葉台</td>\n",
       "      <td>1.13</td>\n",
       "      <td>2.25</td>\n",
       "    </tr>\n",
       "    <tr>\n",
       "      <th>31</th>\n",
       "      <td>仙川</td>\n",
       "      <td>3.17</td>\n",
       "      <td>0.81</td>\n",
       "    </tr>\n",
       "    <tr>\n",
       "      <th>32</th>\n",
       "      <td>町田</td>\n",
       "      <td>0.45</td>\n",
       "      <td>3.03</td>\n",
       "    </tr>\n",
       "    <tr>\n",
       "      <th>33</th>\n",
       "      <td>高田馬場</td>\n",
       "      <td>1.58</td>\n",
       "      <td>2.25</td>\n",
       "    </tr>\n",
       "    <tr>\n",
       "      <th>34</th>\n",
       "      <td>海浜幕張</td>\n",
       "      <td>1.13</td>\n",
       "      <td>5.26</td>\n",
       "    </tr>\n",
       "    <tr>\n",
       "      <th>35</th>\n",
       "      <td>下高井戸</td>\n",
       "      <td>0.23</td>\n",
       "      <td>5.81</td>\n",
       "    </tr>\n",
       "    <tr>\n",
       "      <th>36</th>\n",
       "      <td>茗荷谷</td>\n",
       "      <td>3.39</td>\n",
       "      <td>7.91</td>\n",
       "    </tr>\n",
       "    <tr>\n",
       "      <th>37</th>\n",
       "      <td>永福町</td>\n",
       "      <td>1.36</td>\n",
       "      <td>2.97</td>\n",
       "    </tr>\n",
       "    <tr>\n",
       "      <th>38</th>\n",
       "      <td>センター南</td>\n",
       "      <td>0.45</td>\n",
       "      <td>1.56</td>\n",
       "    </tr>\n",
       "    <tr>\n",
       "      <th>39</th>\n",
       "      <td>大宮</td>\n",
       "      <td>2.04</td>\n",
       "      <td>12.66</td>\n",
       "    </tr>\n",
       "    <tr>\n",
       "      <th>40</th>\n",
       "      <td>東戸塚</td>\n",
       "      <td>1.81</td>\n",
       "      <td>2.60</td>\n",
       "    </tr>\n",
       "    <tr>\n",
       "      <th>41</th>\n",
       "      <td>若葉台</td>\n",
       "      <td>0.90</td>\n",
       "      <td>6.49</td>\n",
       "    </tr>\n",
       "    <tr>\n",
       "      <th>42</th>\n",
       "      <td>上大岡</td>\n",
       "      <td>0.45</td>\n",
       "      <td>4.76</td>\n",
       "    </tr>\n",
       "    <tr>\n",
       "      <th>43</th>\n",
       "      <td>宮前平(閉鎖)</td>\n",
       "      <td>0.00</td>\n",
       "      <td>#DIV/0!</td>\n",
       "    </tr>\n",
       "    <tr>\n",
       "      <th>44</th>\n",
       "      <td>茅ヶ崎</td>\n",
       "      <td>0.45</td>\n",
       "      <td>0.00</td>\n",
       "    </tr>\n",
       "    <tr>\n",
       "      <th>45</th>\n",
       "      <td>所沢</td>\n",
       "      <td>1.13</td>\n",
       "      <td>6.90</td>\n",
       "    </tr>\n",
       "    <tr>\n",
       "      <th>46</th>\n",
       "      <td>新越谷</td>\n",
       "      <td>1.13</td>\n",
       "      <td>6.67</td>\n",
       "    </tr>\n",
       "    <tr>\n",
       "      <th>47</th>\n",
       "      <td>松戸</td>\n",
       "      <td>1.81</td>\n",
       "      <td>3.51</td>\n",
       "    </tr>\n",
       "  </tbody>\n",
       "</table>\n",
       "</div>"
      ],
      "text/plain": [
       "                 校舎名 男子御三家合格率 女子御三家合格率\n",
       "5                 東京    10.41     6.11\n",
       "6               自由が丘     7.69     8.35\n",
       "7              吉祥寺       7.92     5.80\n",
       "8                 横浜     4.98     2.95\n",
       "9                 巣鴨     4.30     8.10\n",
       "10                練馬     4.75     5.35\n",
       "11               大井町     2.71     2.51\n",
       "12                王子     2.49     4.65\n",
       "13                用賀     2.71     9.64\n",
       "14                大船     2.49     1.28\n",
       "15              白金高輪     4.75     6.42\n",
       "16                西船     4.30     5.74\n",
       "17                渋谷     4.07     5.71\n",
       "18  たまプラーザ*\\n宮前平校と合算     2.94     7.65\n",
       "19              お茶の水     4.30    10.00\n",
       "20                中野     2.04     4.85\n",
       "21               南浦和     4.07     7.78\n",
       "22              武蔵小杉     2.26     3.82\n",
       "23                豊洲     5.43     7.35\n",
       "24                 柏     2.49     8.13\n",
       "25                千葉     1.81     4.95\n",
       "26                日吉     0.90    10.77\n",
       "27                成城     6.79     4.71\n",
       "28                国立     1.81    11.32\n",
       "29               新浦安     0.45     7.62\n",
       "30               青葉台     1.13     2.25\n",
       "31                仙川     3.17     0.81\n",
       "32                町田     0.45     3.03\n",
       "33              高田馬場     1.58     2.25\n",
       "34              海浜幕張     1.13     5.26\n",
       "35              下高井戸     0.23     5.81\n",
       "36               茗荷谷     3.39     7.91\n",
       "37               永福町     1.36     2.97\n",
       "38             センター南     0.45     1.56\n",
       "39                大宮     2.04    12.66\n",
       "40               東戸塚     1.81     2.60\n",
       "41               若葉台     0.90     6.49\n",
       "42               上大岡     0.45     4.76\n",
       "43           宮前平(閉鎖)     0.00  #DIV/0!\n",
       "44               茅ヶ崎     0.45     0.00\n",
       "45                所沢     1.13     6.90\n",
       "46               新越谷     1.13     6.67\n",
       "47                松戸     1.81     3.51"
      ]
     },
     "execution_count": 25,
     "metadata": {},
     "output_type": "execute_result"
    }
   ],
   "source": [
    "df_concat_gosanke = pd.concat([df_men_gosanke,df_women_gosanke], axis=1)\n",
    "df_concat_gosanke"
   ]
  },
  {
   "cell_type": "code",
   "execution_count": 26,
   "id": "c31e661e",
   "metadata": {},
   "outputs": [],
   "source": [
    "df_concat_gosanke = pd.melt(df_concat_gosanke, id_vars=['校舎名'])"
   ]
  },
  {
   "cell_type": "code",
   "execution_count": 27,
   "id": "b226af71",
   "metadata": {},
   "outputs": [
    {
     "data": {
      "text/html": [
       "<div>\n",
       "<style scoped>\n",
       "    .dataframe tbody tr th:only-of-type {\n",
       "        vertical-align: middle;\n",
       "    }\n",
       "\n",
       "    .dataframe tbody tr th {\n",
       "        vertical-align: top;\n",
       "    }\n",
       "\n",
       "    .dataframe thead th {\n",
       "        text-align: right;\n",
       "    }\n",
       "</style>\n",
       "<table border=\"1\" class=\"dataframe\">\n",
       "  <thead>\n",
       "    <tr style=\"text-align: right;\">\n",
       "      <th></th>\n",
       "      <th>校舎名</th>\n",
       "      <th>variable</th>\n",
       "      <th>value</th>\n",
       "    </tr>\n",
       "  </thead>\n",
       "  <tbody>\n",
       "    <tr>\n",
       "      <th>0</th>\n",
       "      <td>東京</td>\n",
       "      <td>男子御三家合格率</td>\n",
       "      <td>10.41</td>\n",
       "    </tr>\n",
       "    <tr>\n",
       "      <th>1</th>\n",
       "      <td>自由が丘</td>\n",
       "      <td>男子御三家合格率</td>\n",
       "      <td>7.69</td>\n",
       "    </tr>\n",
       "    <tr>\n",
       "      <th>2</th>\n",
       "      <td>吉祥寺</td>\n",
       "      <td>男子御三家合格率</td>\n",
       "      <td>7.92</td>\n",
       "    </tr>\n",
       "    <tr>\n",
       "      <th>3</th>\n",
       "      <td>横浜</td>\n",
       "      <td>男子御三家合格率</td>\n",
       "      <td>4.98</td>\n",
       "    </tr>\n",
       "    <tr>\n",
       "      <th>4</th>\n",
       "      <td>巣鴨</td>\n",
       "      <td>男子御三家合格率</td>\n",
       "      <td>4.30</td>\n",
       "    </tr>\n",
       "    <tr>\n",
       "      <th>...</th>\n",
       "      <td>...</td>\n",
       "      <td>...</td>\n",
       "      <td>...</td>\n",
       "    </tr>\n",
       "    <tr>\n",
       "      <th>81</th>\n",
       "      <td>宮前平(閉鎖)</td>\n",
       "      <td>女子御三家合格率</td>\n",
       "      <td>#DIV/0!</td>\n",
       "    </tr>\n",
       "    <tr>\n",
       "      <th>82</th>\n",
       "      <td>茅ヶ崎</td>\n",
       "      <td>女子御三家合格率</td>\n",
       "      <td>0.00</td>\n",
       "    </tr>\n",
       "    <tr>\n",
       "      <th>83</th>\n",
       "      <td>所沢</td>\n",
       "      <td>女子御三家合格率</td>\n",
       "      <td>6.90</td>\n",
       "    </tr>\n",
       "    <tr>\n",
       "      <th>84</th>\n",
       "      <td>新越谷</td>\n",
       "      <td>女子御三家合格率</td>\n",
       "      <td>6.67</td>\n",
       "    </tr>\n",
       "    <tr>\n",
       "      <th>85</th>\n",
       "      <td>松戸</td>\n",
       "      <td>女子御三家合格率</td>\n",
       "      <td>3.51</td>\n",
       "    </tr>\n",
       "  </tbody>\n",
       "</table>\n",
       "<p>86 rows × 3 columns</p>\n",
       "</div>"
      ],
      "text/plain": [
       "        校舎名  variable    value\n",
       "0        東京  男子御三家合格率    10.41\n",
       "1      自由が丘  男子御三家合格率     7.69\n",
       "2     吉祥寺    男子御三家合格率     7.92\n",
       "3        横浜  男子御三家合格率     4.98\n",
       "4        巣鴨  男子御三家合格率     4.30\n",
       "..      ...       ...      ...\n",
       "81  宮前平(閉鎖)  女子御三家合格率  #DIV/0!\n",
       "82      茅ヶ崎  女子御三家合格率     0.00\n",
       "83       所沢  女子御三家合格率     6.90\n",
       "84      新越谷  女子御三家合格率     6.67\n",
       "85       松戸  女子御三家合格率     3.51\n",
       "\n",
       "[86 rows x 3 columns]"
      ]
     },
     "execution_count": 27,
     "metadata": {},
     "output_type": "execute_result"
    }
   ],
   "source": [
    "df_concat_gosanke"
   ]
  },
  {
   "cell_type": "code",
   "execution_count": 28,
   "id": "baad3737",
   "metadata": {},
   "outputs": [
    {
     "ename": "NameError",
     "evalue": "name 'pass_rate' is not defined",
     "output_type": "error",
     "traceback": [
      "\u001b[1;31m---------------------------------------------------------------------------\u001b[0m",
      "\u001b[1;31mNameError\u001b[0m                                 Traceback (most recent call last)",
      "\u001b[1;32m~\\AppData\\Local\\Temp\\ipykernel_16516\\1696045733.py\u001b[0m in \u001b[0;36m<module>\u001b[1;34m\u001b[0m\n\u001b[0;32m      5\u001b[0m             \u001b[0mx\u001b[0m\u001b[1;33m=\u001b[0m\u001b[1;34m'校舎名'\u001b[0m\u001b[1;33m,\u001b[0m\u001b[1;33m\u001b[0m\u001b[1;33m\u001b[0m\u001b[0m\n\u001b[0;32m      6\u001b[0m             \u001b[0my\u001b[0m\u001b[1;33m=\u001b[0m\u001b[0malt\u001b[0m\u001b[1;33m.\u001b[0m\u001b[0mY\u001b[0m\u001b[1;33m(\u001b[0m\u001b[1;34m'value'\u001b[0m\u001b[1;33m,\u001b[0m \u001b[0mstack\u001b[0m\u001b[1;33m=\u001b[0m\u001b[1;32mNone\u001b[0m\u001b[1;33m)\u001b[0m\u001b[1;33m,\u001b[0m\u001b[1;33m\u001b[0m\u001b[1;33m\u001b[0m\u001b[0m\n\u001b[1;32m----> 7\u001b[1;33m             \u001b[0mcolor\u001b[0m\u001b[1;33m=\u001b[0m\u001b[0malt\u001b[0m\u001b[1;33m.\u001b[0m\u001b[0mColor\u001b[0m\u001b[1;33m(\u001b[0m\u001b[1;34m'variable'\u001b[0m\u001b[1;33m,\u001b[0m \u001b[0mscale\u001b[0m\u001b[1;33m=\u001b[0m\u001b[0malt\u001b[0m\u001b[1;33m.\u001b[0m\u001b[0mScale\u001b[0m\u001b[1;33m(\u001b[0m\u001b[0mdomain\u001b[0m\u001b[1;33m=\u001b[0m\u001b[0mpass_rate\u001b[0m\u001b[1;33m,\u001b[0m \u001b[0mrange\u001b[0m\u001b[1;33m=\u001b[0m\u001b[1;33m[\u001b[0m\u001b[1;34m\"blue\"\u001b[0m\u001b[1;33m,\u001b[0m \u001b[1;34m\"red\"\u001b[0m\u001b[1;33m]\u001b[0m\u001b[1;33m)\u001b[0m\u001b[1;33m)\u001b[0m\u001b[1;33m\u001b[0m\u001b[1;33m\u001b[0m\u001b[0m\n\u001b[0m\u001b[0;32m      8\u001b[0m         )\n\u001b[0;32m      9\u001b[0m )\n",
      "\u001b[1;31mNameError\u001b[0m: name 'pass_rate' is not defined"
     ]
    }
   ],
   "source": [
    "chart = (\n",
    "        alt.Chart(df_concat_gosanke)\n",
    "        .mark_line(opacity=0.8)\n",
    "        .encode(\n",
    "            x='校舎名',\n",
    "            y=alt.Y('value', stack=None),\n",
    "            color=alt.Color('variable', scale=alt.Scale(domain=pass_rate, range=[\"blue\", \"red\"]))\n",
    "        )\n",
    ")"
   ]
  },
  {
   "cell_type": "code",
   "execution_count": null,
   "id": "c98ffb12",
   "metadata": {},
   "outputs": [],
   "source": [
    "df_concat_men = df.loc[5:9, [\"実績入力以外の編集禁止\", \"女子御三家率\"]]"
   ]
  },
  {
   "cell_type": "code",
   "execution_count": null,
   "id": "8224c5d2",
   "metadata": {},
   "outputs": [],
   "source": [
    "df_concat_women = df.loc[5:9, [\"実績入力以外の編集禁止\", \"男子御三家率\"]]\n",
    "df_concat_women = df_concat_women.drop('実績入力以外の編集禁止', axis = 1)"
   ]
  },
  {
   "cell_type": "code",
   "execution_count": null,
   "id": "6ddf0bf6",
   "metadata": {},
   "outputs": [],
   "source": [
    "df_concat_gosanke = pd.concat([df_concat_men, df_concat_women], axis = 1)"
   ]
  },
  {
   "cell_type": "code",
   "execution_count": null,
   "id": "4c11add3",
   "metadata": {},
   "outputs": [],
   "source": [
    "df_concat_gosanke.rename(columns={'実績入力以外の編集禁止':'校舎名'})"
   ]
  },
  {
   "cell_type": "code",
   "execution_count": null,
   "id": "97344b0c",
   "metadata": {},
   "outputs": [],
   "source": []
  },
  {
   "cell_type": "code",
   "execution_count": null,
   "id": "33fc207b",
   "metadata": {},
   "outputs": [],
   "source": [
    "df_concat_gosanke = pd.melt(df_concat_gosanke, id_vars=['実績入力以外の編集禁止'])"
   ]
  },
  {
   "cell_type": "code",
   "execution_count": null,
   "id": "107149ac",
   "metadata": {},
   "outputs": [],
   "source": []
  },
  {
   "cell_type": "code",
   "execution_count": null,
   "id": "0a158073",
   "metadata": {},
   "outputs": [],
   "source": []
  },
  {
   "cell_type": "code",
   "execution_count": 29,
   "id": "ddcd7947",
   "metadata": {},
   "outputs": [
    {
     "data": {
      "text/html": [
       "<div>\n",
       "<style scoped>\n",
       "    .dataframe tbody tr th:only-of-type {\n",
       "        vertical-align: middle;\n",
       "    }\n",
       "\n",
       "    .dataframe tbody tr th {\n",
       "        vertical-align: top;\n",
       "    }\n",
       "\n",
       "    .dataframe thead th {\n",
       "        text-align: right;\n",
       "    }\n",
       "</style>\n",
       "<table border=\"1\" class=\"dataframe\">\n",
       "  <thead>\n",
       "    <tr style=\"text-align: right;\">\n",
       "      <th></th>\n",
       "      <th>校舎名</th>\n",
       "      <th>variable</th>\n",
       "      <th>value</th>\n",
       "    </tr>\n",
       "  </thead>\n",
       "  <tbody>\n",
       "    <tr>\n",
       "      <th>0</th>\n",
       "      <td>東京</td>\n",
       "      <td>男子御三家合格率</td>\n",
       "      <td>10.41</td>\n",
       "    </tr>\n",
       "    <tr>\n",
       "      <th>1</th>\n",
       "      <td>自由が丘</td>\n",
       "      <td>男子御三家合格率</td>\n",
       "      <td>7.69</td>\n",
       "    </tr>\n",
       "    <tr>\n",
       "      <th>2</th>\n",
       "      <td>吉祥寺</td>\n",
       "      <td>男子御三家合格率</td>\n",
       "      <td>7.92</td>\n",
       "    </tr>\n",
       "    <tr>\n",
       "      <th>3</th>\n",
       "      <td>横浜</td>\n",
       "      <td>男子御三家合格率</td>\n",
       "      <td>4.98</td>\n",
       "    </tr>\n",
       "    <tr>\n",
       "      <th>4</th>\n",
       "      <td>巣鴨</td>\n",
       "      <td>男子御三家合格率</td>\n",
       "      <td>4.30</td>\n",
       "    </tr>\n",
       "    <tr>\n",
       "      <th>...</th>\n",
       "      <td>...</td>\n",
       "      <td>...</td>\n",
       "      <td>...</td>\n",
       "    </tr>\n",
       "    <tr>\n",
       "      <th>81</th>\n",
       "      <td>宮前平(閉鎖)</td>\n",
       "      <td>女子御三家合格率</td>\n",
       "      <td>#DIV/0!</td>\n",
       "    </tr>\n",
       "    <tr>\n",
       "      <th>82</th>\n",
       "      <td>茅ヶ崎</td>\n",
       "      <td>女子御三家合格率</td>\n",
       "      <td>0.00</td>\n",
       "    </tr>\n",
       "    <tr>\n",
       "      <th>83</th>\n",
       "      <td>所沢</td>\n",
       "      <td>女子御三家合格率</td>\n",
       "      <td>6.90</td>\n",
       "    </tr>\n",
       "    <tr>\n",
       "      <th>84</th>\n",
       "      <td>新越谷</td>\n",
       "      <td>女子御三家合格率</td>\n",
       "      <td>6.67</td>\n",
       "    </tr>\n",
       "    <tr>\n",
       "      <th>85</th>\n",
       "      <td>松戸</td>\n",
       "      <td>女子御三家合格率</td>\n",
       "      <td>3.51</td>\n",
       "    </tr>\n",
       "  </tbody>\n",
       "</table>\n",
       "<p>86 rows × 3 columns</p>\n",
       "</div>"
      ],
      "text/plain": [
       "        校舎名  variable    value\n",
       "0        東京  男子御三家合格率    10.41\n",
       "1      自由が丘  男子御三家合格率     7.69\n",
       "2     吉祥寺    男子御三家合格率     7.92\n",
       "3        横浜  男子御三家合格率     4.98\n",
       "4        巣鴨  男子御三家合格率     4.30\n",
       "..      ...       ...      ...\n",
       "81  宮前平(閉鎖)  女子御三家合格率  #DIV/0!\n",
       "82      茅ヶ崎  女子御三家合格率     0.00\n",
       "83       所沢  女子御三家合格率     6.90\n",
       "84      新越谷  女子御三家合格率     6.67\n",
       "85       松戸  女子御三家合格率     3.51\n",
       "\n",
       "[86 rows x 3 columns]"
      ]
     },
     "execution_count": 29,
     "metadata": {},
     "output_type": "execute_result"
    }
   ],
   "source": [
    "df_concat_gosanke"
   ]
  },
  {
   "cell_type": "code",
   "execution_count": 30,
   "id": "22b01106",
   "metadata": {},
   "outputs": [],
   "source": [
    "chart = (\n",
    "    alt.Chart(df_concat_gosanke)\n",
    "    .mark_line(opacity=0.8)\n",
    "    .encode(\n",
    "        x='実績入力以外の編集禁止',\n",
    "        y=alt.Y('value:Q', stack=None),\n",
    "        color=alt.Color('Name:N')\n",
    "    )\n",
    ")"
   ]
  },
  {
   "cell_type": "code",
   "execution_count": 31,
   "id": "b989d9e1",
   "metadata": {},
   "outputs": [
    {
     "ename": "ValueError",
     "evalue": "実績入力以外の編集禁止 encoding field is specified without a type; the type cannot be inferred because it does not match any column in the data.",
     "output_type": "error",
     "traceback": [
      "\u001b[1;31m---------------------------------------------------------------------------\u001b[0m",
      "\u001b[1;31mValueError\u001b[0m                                Traceback (most recent call last)",
      "\u001b[1;32m~\\anaconda3\\lib\\site-packages\\altair\\vegalite\\v4\\api.py\u001b[0m in \u001b[0;36mto_dict\u001b[1;34m(self, *args, **kwargs)\u001b[0m\n\u001b[0;32m   2018\u001b[0m             \u001b[0mcopy\u001b[0m\u001b[1;33m.\u001b[0m\u001b[0mdata\u001b[0m \u001b[1;33m=\u001b[0m \u001b[0mcore\u001b[0m\u001b[1;33m.\u001b[0m\u001b[0mInlineData\u001b[0m\u001b[1;33m(\u001b[0m\u001b[0mvalues\u001b[0m\u001b[1;33m=\u001b[0m\u001b[1;33m[\u001b[0m\u001b[1;33m{\u001b[0m\u001b[1;33m}\u001b[0m\u001b[1;33m]\u001b[0m\u001b[1;33m)\u001b[0m\u001b[1;33m\u001b[0m\u001b[1;33m\u001b[0m\u001b[0m\n\u001b[0;32m   2019\u001b[0m             \u001b[1;32mreturn\u001b[0m \u001b[0msuper\u001b[0m\u001b[1;33m(\u001b[0m\u001b[0mChart\u001b[0m\u001b[1;33m,\u001b[0m \u001b[0mcopy\u001b[0m\u001b[1;33m)\u001b[0m\u001b[1;33m.\u001b[0m\u001b[0mto_dict\u001b[0m\u001b[1;33m(\u001b[0m\u001b[1;33m*\u001b[0m\u001b[0margs\u001b[0m\u001b[1;33m,\u001b[0m \u001b[1;33m**\u001b[0m\u001b[0mkwargs\u001b[0m\u001b[1;33m)\u001b[0m\u001b[1;33m\u001b[0m\u001b[1;33m\u001b[0m\u001b[0m\n\u001b[1;32m-> 2020\u001b[1;33m         \u001b[1;32mreturn\u001b[0m \u001b[0msuper\u001b[0m\u001b[1;33m(\u001b[0m\u001b[1;33m)\u001b[0m\u001b[1;33m.\u001b[0m\u001b[0mto_dict\u001b[0m\u001b[1;33m(\u001b[0m\u001b[1;33m*\u001b[0m\u001b[0margs\u001b[0m\u001b[1;33m,\u001b[0m \u001b[1;33m**\u001b[0m\u001b[0mkwargs\u001b[0m\u001b[1;33m)\u001b[0m\u001b[1;33m\u001b[0m\u001b[1;33m\u001b[0m\u001b[0m\n\u001b[0m\u001b[0;32m   2021\u001b[0m \u001b[1;33m\u001b[0m\u001b[0m\n\u001b[0;32m   2022\u001b[0m     \u001b[1;32mdef\u001b[0m \u001b[0madd_selection\u001b[0m\u001b[1;33m(\u001b[0m\u001b[0mself\u001b[0m\u001b[1;33m,\u001b[0m \u001b[1;33m*\u001b[0m\u001b[0mselections\u001b[0m\u001b[1;33m)\u001b[0m\u001b[1;33m:\u001b[0m\u001b[1;33m\u001b[0m\u001b[1;33m\u001b[0m\u001b[0m\n",
      "\u001b[1;32m~\\anaconda3\\lib\\site-packages\\altair\\vegalite\\v4\\api.py\u001b[0m in \u001b[0;36mto_dict\u001b[1;34m(self, *args, **kwargs)\u001b[0m\n\u001b[0;32m    382\u001b[0m \u001b[1;33m\u001b[0m\u001b[0m\n\u001b[0;32m    383\u001b[0m         \u001b[1;32mtry\u001b[0m\u001b[1;33m:\u001b[0m\u001b[1;33m\u001b[0m\u001b[1;33m\u001b[0m\u001b[0m\n\u001b[1;32m--> 384\u001b[1;33m             \u001b[0mdct\u001b[0m \u001b[1;33m=\u001b[0m \u001b[0msuper\u001b[0m\u001b[1;33m(\u001b[0m\u001b[0mTopLevelMixin\u001b[0m\u001b[1;33m,\u001b[0m \u001b[0mcopy\u001b[0m\u001b[1;33m)\u001b[0m\u001b[1;33m.\u001b[0m\u001b[0mto_dict\u001b[0m\u001b[1;33m(\u001b[0m\u001b[1;33m*\u001b[0m\u001b[0margs\u001b[0m\u001b[1;33m,\u001b[0m \u001b[1;33m**\u001b[0m\u001b[0mkwargs\u001b[0m\u001b[1;33m)\u001b[0m\u001b[1;33m\u001b[0m\u001b[1;33m\u001b[0m\u001b[0m\n\u001b[0m\u001b[0;32m    385\u001b[0m         \u001b[1;32mexcept\u001b[0m \u001b[0mjsonschema\u001b[0m\u001b[1;33m.\u001b[0m\u001b[0mValidationError\u001b[0m\u001b[1;33m:\u001b[0m\u001b[1;33m\u001b[0m\u001b[1;33m\u001b[0m\u001b[0m\n\u001b[0;32m    386\u001b[0m             \u001b[0mdct\u001b[0m \u001b[1;33m=\u001b[0m \u001b[1;32mNone\u001b[0m\u001b[1;33m\u001b[0m\u001b[1;33m\u001b[0m\u001b[0m\n",
      "\u001b[1;32m~\\anaconda3\\lib\\site-packages\\altair\\utils\\schemapi.py\u001b[0m in \u001b[0;36mto_dict\u001b[1;34m(self, validate, ignore, context)\u001b[0m\n\u001b[0;32m    324\u001b[0m             \u001b[0mresult\u001b[0m \u001b[1;33m=\u001b[0m \u001b[0m_todict\u001b[0m\u001b[1;33m(\u001b[0m\u001b[0mself\u001b[0m\u001b[1;33m.\u001b[0m\u001b[0m_args\u001b[0m\u001b[1;33m[\u001b[0m\u001b[1;36m0\u001b[0m\u001b[1;33m]\u001b[0m\u001b[1;33m,\u001b[0m \u001b[0mvalidate\u001b[0m\u001b[1;33m=\u001b[0m\u001b[0msub_validate\u001b[0m\u001b[1;33m,\u001b[0m \u001b[0mcontext\u001b[0m\u001b[1;33m=\u001b[0m\u001b[0mcontext\u001b[0m\u001b[1;33m)\u001b[0m\u001b[1;33m\u001b[0m\u001b[1;33m\u001b[0m\u001b[0m\n\u001b[0;32m    325\u001b[0m         \u001b[1;32melif\u001b[0m \u001b[1;32mnot\u001b[0m \u001b[0mself\u001b[0m\u001b[1;33m.\u001b[0m\u001b[0m_args\u001b[0m\u001b[1;33m:\u001b[0m\u001b[1;33m\u001b[0m\u001b[1;33m\u001b[0m\u001b[0m\n\u001b[1;32m--> 326\u001b[1;33m             result = _todict(\n\u001b[0m\u001b[0;32m    327\u001b[0m                 \u001b[1;33m{\u001b[0m\u001b[0mk\u001b[0m\u001b[1;33m:\u001b[0m \u001b[0mv\u001b[0m \u001b[1;32mfor\u001b[0m \u001b[0mk\u001b[0m\u001b[1;33m,\u001b[0m \u001b[0mv\u001b[0m \u001b[1;32min\u001b[0m \u001b[0mself\u001b[0m\u001b[1;33m.\u001b[0m\u001b[0m_kwds\u001b[0m\u001b[1;33m.\u001b[0m\u001b[0mitems\u001b[0m\u001b[1;33m(\u001b[0m\u001b[1;33m)\u001b[0m \u001b[1;32mif\u001b[0m \u001b[0mk\u001b[0m \u001b[1;32mnot\u001b[0m \u001b[1;32min\u001b[0m \u001b[0mignore\u001b[0m\u001b[1;33m}\u001b[0m\u001b[1;33m,\u001b[0m\u001b[1;33m\u001b[0m\u001b[1;33m\u001b[0m\u001b[0m\n\u001b[0;32m    328\u001b[0m                 \u001b[0mvalidate\u001b[0m\u001b[1;33m=\u001b[0m\u001b[0msub_validate\u001b[0m\u001b[1;33m,\u001b[0m\u001b[1;33m\u001b[0m\u001b[1;33m\u001b[0m\u001b[0m\n",
      "\u001b[1;32m~\\anaconda3\\lib\\site-packages\\altair\\utils\\schemapi.py\u001b[0m in \u001b[0;36m_todict\u001b[1;34m(obj, validate, context)\u001b[0m\n\u001b[0;32m     58\u001b[0m         \u001b[1;32mreturn\u001b[0m \u001b[1;33m[\u001b[0m\u001b[0m_todict\u001b[0m\u001b[1;33m(\u001b[0m\u001b[0mv\u001b[0m\u001b[1;33m,\u001b[0m \u001b[0mvalidate\u001b[0m\u001b[1;33m,\u001b[0m \u001b[0mcontext\u001b[0m\u001b[1;33m)\u001b[0m \u001b[1;32mfor\u001b[0m \u001b[0mv\u001b[0m \u001b[1;32min\u001b[0m \u001b[0mobj\u001b[0m\u001b[1;33m]\u001b[0m\u001b[1;33m\u001b[0m\u001b[1;33m\u001b[0m\u001b[0m\n\u001b[0;32m     59\u001b[0m     \u001b[1;32melif\u001b[0m \u001b[0misinstance\u001b[0m\u001b[1;33m(\u001b[0m\u001b[0mobj\u001b[0m\u001b[1;33m,\u001b[0m \u001b[0mdict\u001b[0m\u001b[1;33m)\u001b[0m\u001b[1;33m:\u001b[0m\u001b[1;33m\u001b[0m\u001b[1;33m\u001b[0m\u001b[0m\n\u001b[1;32m---> 60\u001b[1;33m         return {\n\u001b[0m\u001b[0;32m     61\u001b[0m             \u001b[0mk\u001b[0m\u001b[1;33m:\u001b[0m \u001b[0m_todict\u001b[0m\u001b[1;33m(\u001b[0m\u001b[0mv\u001b[0m\u001b[1;33m,\u001b[0m \u001b[0mvalidate\u001b[0m\u001b[1;33m,\u001b[0m \u001b[0mcontext\u001b[0m\u001b[1;33m)\u001b[0m\u001b[1;33m\u001b[0m\u001b[1;33m\u001b[0m\u001b[0m\n\u001b[0;32m     62\u001b[0m             \u001b[1;32mfor\u001b[0m \u001b[0mk\u001b[0m\u001b[1;33m,\u001b[0m \u001b[0mv\u001b[0m \u001b[1;32min\u001b[0m \u001b[0mobj\u001b[0m\u001b[1;33m.\u001b[0m\u001b[0mitems\u001b[0m\u001b[1;33m(\u001b[0m\u001b[1;33m)\u001b[0m\u001b[1;33m\u001b[0m\u001b[1;33m\u001b[0m\u001b[0m\n",
      "\u001b[1;32m~\\anaconda3\\lib\\site-packages\\altair\\utils\\schemapi.py\u001b[0m in \u001b[0;36m<dictcomp>\u001b[1;34m(.0)\u001b[0m\n\u001b[0;32m     59\u001b[0m     \u001b[1;32melif\u001b[0m \u001b[0misinstance\u001b[0m\u001b[1;33m(\u001b[0m\u001b[0mobj\u001b[0m\u001b[1;33m,\u001b[0m \u001b[0mdict\u001b[0m\u001b[1;33m)\u001b[0m\u001b[1;33m:\u001b[0m\u001b[1;33m\u001b[0m\u001b[1;33m\u001b[0m\u001b[0m\n\u001b[0;32m     60\u001b[0m         return {\n\u001b[1;32m---> 61\u001b[1;33m             \u001b[0mk\u001b[0m\u001b[1;33m:\u001b[0m \u001b[0m_todict\u001b[0m\u001b[1;33m(\u001b[0m\u001b[0mv\u001b[0m\u001b[1;33m,\u001b[0m \u001b[0mvalidate\u001b[0m\u001b[1;33m,\u001b[0m \u001b[0mcontext\u001b[0m\u001b[1;33m)\u001b[0m\u001b[1;33m\u001b[0m\u001b[1;33m\u001b[0m\u001b[0m\n\u001b[0m\u001b[0;32m     62\u001b[0m             \u001b[1;32mfor\u001b[0m \u001b[0mk\u001b[0m\u001b[1;33m,\u001b[0m \u001b[0mv\u001b[0m \u001b[1;32min\u001b[0m \u001b[0mobj\u001b[0m\u001b[1;33m.\u001b[0m\u001b[0mitems\u001b[0m\u001b[1;33m(\u001b[0m\u001b[1;33m)\u001b[0m\u001b[1;33m\u001b[0m\u001b[1;33m\u001b[0m\u001b[0m\n\u001b[0;32m     63\u001b[0m             \u001b[1;32mif\u001b[0m \u001b[0mv\u001b[0m \u001b[1;32mis\u001b[0m \u001b[1;32mnot\u001b[0m \u001b[0mUndefined\u001b[0m\u001b[1;33m\u001b[0m\u001b[1;33m\u001b[0m\u001b[0m\n",
      "\u001b[1;32m~\\anaconda3\\lib\\site-packages\\altair\\utils\\schemapi.py\u001b[0m in \u001b[0;36m_todict\u001b[1;34m(obj, validate, context)\u001b[0m\n\u001b[0;32m     54\u001b[0m     \u001b[1;34m\"\"\"Convert an object to a dict representation.\"\"\"\u001b[0m\u001b[1;33m\u001b[0m\u001b[1;33m\u001b[0m\u001b[0m\n\u001b[0;32m     55\u001b[0m     \u001b[1;32mif\u001b[0m \u001b[0misinstance\u001b[0m\u001b[1;33m(\u001b[0m\u001b[0mobj\u001b[0m\u001b[1;33m,\u001b[0m \u001b[0mSchemaBase\u001b[0m\u001b[1;33m)\u001b[0m\u001b[1;33m:\u001b[0m\u001b[1;33m\u001b[0m\u001b[1;33m\u001b[0m\u001b[0m\n\u001b[1;32m---> 56\u001b[1;33m         \u001b[1;32mreturn\u001b[0m \u001b[0mobj\u001b[0m\u001b[1;33m.\u001b[0m\u001b[0mto_dict\u001b[0m\u001b[1;33m(\u001b[0m\u001b[0mvalidate\u001b[0m\u001b[1;33m=\u001b[0m\u001b[0mvalidate\u001b[0m\u001b[1;33m,\u001b[0m \u001b[0mcontext\u001b[0m\u001b[1;33m=\u001b[0m\u001b[0mcontext\u001b[0m\u001b[1;33m)\u001b[0m\u001b[1;33m\u001b[0m\u001b[1;33m\u001b[0m\u001b[0m\n\u001b[0m\u001b[0;32m     57\u001b[0m     \u001b[1;32melif\u001b[0m \u001b[0misinstance\u001b[0m\u001b[1;33m(\u001b[0m\u001b[0mobj\u001b[0m\u001b[1;33m,\u001b[0m \u001b[1;33m(\u001b[0m\u001b[0mlist\u001b[0m\u001b[1;33m,\u001b[0m \u001b[0mtuple\u001b[0m\u001b[1;33m,\u001b[0m \u001b[0mnp\u001b[0m\u001b[1;33m.\u001b[0m\u001b[0mndarray\u001b[0m\u001b[1;33m)\u001b[0m\u001b[1;33m)\u001b[0m\u001b[1;33m:\u001b[0m\u001b[1;33m\u001b[0m\u001b[1;33m\u001b[0m\u001b[0m\n\u001b[0;32m     58\u001b[0m         \u001b[1;32mreturn\u001b[0m \u001b[1;33m[\u001b[0m\u001b[0m_todict\u001b[0m\u001b[1;33m(\u001b[0m\u001b[0mv\u001b[0m\u001b[1;33m,\u001b[0m \u001b[0mvalidate\u001b[0m\u001b[1;33m,\u001b[0m \u001b[0mcontext\u001b[0m\u001b[1;33m)\u001b[0m \u001b[1;32mfor\u001b[0m \u001b[0mv\u001b[0m \u001b[1;32min\u001b[0m \u001b[0mobj\u001b[0m\u001b[1;33m]\u001b[0m\u001b[1;33m\u001b[0m\u001b[1;33m\u001b[0m\u001b[0m\n",
      "\u001b[1;32m~\\anaconda3\\lib\\site-packages\\altair\\utils\\schemapi.py\u001b[0m in \u001b[0;36mto_dict\u001b[1;34m(self, validate, ignore, context)\u001b[0m\n\u001b[0;32m    324\u001b[0m             \u001b[0mresult\u001b[0m \u001b[1;33m=\u001b[0m \u001b[0m_todict\u001b[0m\u001b[1;33m(\u001b[0m\u001b[0mself\u001b[0m\u001b[1;33m.\u001b[0m\u001b[0m_args\u001b[0m\u001b[1;33m[\u001b[0m\u001b[1;36m0\u001b[0m\u001b[1;33m]\u001b[0m\u001b[1;33m,\u001b[0m \u001b[0mvalidate\u001b[0m\u001b[1;33m=\u001b[0m\u001b[0msub_validate\u001b[0m\u001b[1;33m,\u001b[0m \u001b[0mcontext\u001b[0m\u001b[1;33m=\u001b[0m\u001b[0mcontext\u001b[0m\u001b[1;33m)\u001b[0m\u001b[1;33m\u001b[0m\u001b[1;33m\u001b[0m\u001b[0m\n\u001b[0;32m    325\u001b[0m         \u001b[1;32melif\u001b[0m \u001b[1;32mnot\u001b[0m \u001b[0mself\u001b[0m\u001b[1;33m.\u001b[0m\u001b[0m_args\u001b[0m\u001b[1;33m:\u001b[0m\u001b[1;33m\u001b[0m\u001b[1;33m\u001b[0m\u001b[0m\n\u001b[1;32m--> 326\u001b[1;33m             result = _todict(\n\u001b[0m\u001b[0;32m    327\u001b[0m                 \u001b[1;33m{\u001b[0m\u001b[0mk\u001b[0m\u001b[1;33m:\u001b[0m \u001b[0mv\u001b[0m \u001b[1;32mfor\u001b[0m \u001b[0mk\u001b[0m\u001b[1;33m,\u001b[0m \u001b[0mv\u001b[0m \u001b[1;32min\u001b[0m \u001b[0mself\u001b[0m\u001b[1;33m.\u001b[0m\u001b[0m_kwds\u001b[0m\u001b[1;33m.\u001b[0m\u001b[0mitems\u001b[0m\u001b[1;33m(\u001b[0m\u001b[1;33m)\u001b[0m \u001b[1;32mif\u001b[0m \u001b[0mk\u001b[0m \u001b[1;32mnot\u001b[0m \u001b[1;32min\u001b[0m \u001b[0mignore\u001b[0m\u001b[1;33m}\u001b[0m\u001b[1;33m,\u001b[0m\u001b[1;33m\u001b[0m\u001b[1;33m\u001b[0m\u001b[0m\n\u001b[0;32m    328\u001b[0m                 \u001b[0mvalidate\u001b[0m\u001b[1;33m=\u001b[0m\u001b[0msub_validate\u001b[0m\u001b[1;33m,\u001b[0m\u001b[1;33m\u001b[0m\u001b[1;33m\u001b[0m\u001b[0m\n",
      "\u001b[1;32m~\\anaconda3\\lib\\site-packages\\altair\\utils\\schemapi.py\u001b[0m in \u001b[0;36m_todict\u001b[1;34m(obj, validate, context)\u001b[0m\n\u001b[0;32m     58\u001b[0m         \u001b[1;32mreturn\u001b[0m \u001b[1;33m[\u001b[0m\u001b[0m_todict\u001b[0m\u001b[1;33m(\u001b[0m\u001b[0mv\u001b[0m\u001b[1;33m,\u001b[0m \u001b[0mvalidate\u001b[0m\u001b[1;33m,\u001b[0m \u001b[0mcontext\u001b[0m\u001b[1;33m)\u001b[0m \u001b[1;32mfor\u001b[0m \u001b[0mv\u001b[0m \u001b[1;32min\u001b[0m \u001b[0mobj\u001b[0m\u001b[1;33m]\u001b[0m\u001b[1;33m\u001b[0m\u001b[1;33m\u001b[0m\u001b[0m\n\u001b[0;32m     59\u001b[0m     \u001b[1;32melif\u001b[0m \u001b[0misinstance\u001b[0m\u001b[1;33m(\u001b[0m\u001b[0mobj\u001b[0m\u001b[1;33m,\u001b[0m \u001b[0mdict\u001b[0m\u001b[1;33m)\u001b[0m\u001b[1;33m:\u001b[0m\u001b[1;33m\u001b[0m\u001b[1;33m\u001b[0m\u001b[0m\n\u001b[1;32m---> 60\u001b[1;33m         return {\n\u001b[0m\u001b[0;32m     61\u001b[0m             \u001b[0mk\u001b[0m\u001b[1;33m:\u001b[0m \u001b[0m_todict\u001b[0m\u001b[1;33m(\u001b[0m\u001b[0mv\u001b[0m\u001b[1;33m,\u001b[0m \u001b[0mvalidate\u001b[0m\u001b[1;33m,\u001b[0m \u001b[0mcontext\u001b[0m\u001b[1;33m)\u001b[0m\u001b[1;33m\u001b[0m\u001b[1;33m\u001b[0m\u001b[0m\n\u001b[0;32m     62\u001b[0m             \u001b[1;32mfor\u001b[0m \u001b[0mk\u001b[0m\u001b[1;33m,\u001b[0m \u001b[0mv\u001b[0m \u001b[1;32min\u001b[0m \u001b[0mobj\u001b[0m\u001b[1;33m.\u001b[0m\u001b[0mitems\u001b[0m\u001b[1;33m(\u001b[0m\u001b[1;33m)\u001b[0m\u001b[1;33m\u001b[0m\u001b[1;33m\u001b[0m\u001b[0m\n",
      "\u001b[1;32m~\\anaconda3\\lib\\site-packages\\altair\\utils\\schemapi.py\u001b[0m in \u001b[0;36m<dictcomp>\u001b[1;34m(.0)\u001b[0m\n\u001b[0;32m     59\u001b[0m     \u001b[1;32melif\u001b[0m \u001b[0misinstance\u001b[0m\u001b[1;33m(\u001b[0m\u001b[0mobj\u001b[0m\u001b[1;33m,\u001b[0m \u001b[0mdict\u001b[0m\u001b[1;33m)\u001b[0m\u001b[1;33m:\u001b[0m\u001b[1;33m\u001b[0m\u001b[1;33m\u001b[0m\u001b[0m\n\u001b[0;32m     60\u001b[0m         return {\n\u001b[1;32m---> 61\u001b[1;33m             \u001b[0mk\u001b[0m\u001b[1;33m:\u001b[0m \u001b[0m_todict\u001b[0m\u001b[1;33m(\u001b[0m\u001b[0mv\u001b[0m\u001b[1;33m,\u001b[0m \u001b[0mvalidate\u001b[0m\u001b[1;33m,\u001b[0m \u001b[0mcontext\u001b[0m\u001b[1;33m)\u001b[0m\u001b[1;33m\u001b[0m\u001b[1;33m\u001b[0m\u001b[0m\n\u001b[0m\u001b[0;32m     62\u001b[0m             \u001b[1;32mfor\u001b[0m \u001b[0mk\u001b[0m\u001b[1;33m,\u001b[0m \u001b[0mv\u001b[0m \u001b[1;32min\u001b[0m \u001b[0mobj\u001b[0m\u001b[1;33m.\u001b[0m\u001b[0mitems\u001b[0m\u001b[1;33m(\u001b[0m\u001b[1;33m)\u001b[0m\u001b[1;33m\u001b[0m\u001b[1;33m\u001b[0m\u001b[0m\n\u001b[0;32m     63\u001b[0m             \u001b[1;32mif\u001b[0m \u001b[0mv\u001b[0m \u001b[1;32mis\u001b[0m \u001b[1;32mnot\u001b[0m \u001b[0mUndefined\u001b[0m\u001b[1;33m\u001b[0m\u001b[1;33m\u001b[0m\u001b[0m\n",
      "\u001b[1;32m~\\anaconda3\\lib\\site-packages\\altair\\utils\\schemapi.py\u001b[0m in \u001b[0;36m_todict\u001b[1;34m(obj, validate, context)\u001b[0m\n\u001b[0;32m     54\u001b[0m     \u001b[1;34m\"\"\"Convert an object to a dict representation.\"\"\"\u001b[0m\u001b[1;33m\u001b[0m\u001b[1;33m\u001b[0m\u001b[0m\n\u001b[0;32m     55\u001b[0m     \u001b[1;32mif\u001b[0m \u001b[0misinstance\u001b[0m\u001b[1;33m(\u001b[0m\u001b[0mobj\u001b[0m\u001b[1;33m,\u001b[0m \u001b[0mSchemaBase\u001b[0m\u001b[1;33m)\u001b[0m\u001b[1;33m:\u001b[0m\u001b[1;33m\u001b[0m\u001b[1;33m\u001b[0m\u001b[0m\n\u001b[1;32m---> 56\u001b[1;33m         \u001b[1;32mreturn\u001b[0m \u001b[0mobj\u001b[0m\u001b[1;33m.\u001b[0m\u001b[0mto_dict\u001b[0m\u001b[1;33m(\u001b[0m\u001b[0mvalidate\u001b[0m\u001b[1;33m=\u001b[0m\u001b[0mvalidate\u001b[0m\u001b[1;33m,\u001b[0m \u001b[0mcontext\u001b[0m\u001b[1;33m=\u001b[0m\u001b[0mcontext\u001b[0m\u001b[1;33m)\u001b[0m\u001b[1;33m\u001b[0m\u001b[1;33m\u001b[0m\u001b[0m\n\u001b[0m\u001b[0;32m     57\u001b[0m     \u001b[1;32melif\u001b[0m \u001b[0misinstance\u001b[0m\u001b[1;33m(\u001b[0m\u001b[0mobj\u001b[0m\u001b[1;33m,\u001b[0m \u001b[1;33m(\u001b[0m\u001b[0mlist\u001b[0m\u001b[1;33m,\u001b[0m \u001b[0mtuple\u001b[0m\u001b[1;33m,\u001b[0m \u001b[0mnp\u001b[0m\u001b[1;33m.\u001b[0m\u001b[0mndarray\u001b[0m\u001b[1;33m)\u001b[0m\u001b[1;33m)\u001b[0m\u001b[1;33m:\u001b[0m\u001b[1;33m\u001b[0m\u001b[1;33m\u001b[0m\u001b[0m\n\u001b[0;32m     58\u001b[0m         \u001b[1;32mreturn\u001b[0m \u001b[1;33m[\u001b[0m\u001b[0m_todict\u001b[0m\u001b[1;33m(\u001b[0m\u001b[0mv\u001b[0m\u001b[1;33m,\u001b[0m \u001b[0mvalidate\u001b[0m\u001b[1;33m,\u001b[0m \u001b[0mcontext\u001b[0m\u001b[1;33m)\u001b[0m \u001b[1;32mfor\u001b[0m \u001b[0mv\u001b[0m \u001b[1;32min\u001b[0m \u001b[0mobj\u001b[0m\u001b[1;33m]\u001b[0m\u001b[1;33m\u001b[0m\u001b[1;33m\u001b[0m\u001b[0m\n",
      "\u001b[1;32m~\\anaconda3\\lib\\site-packages\\altair\\vegalite\\v4\\schema\\channels.py\u001b[0m in \u001b[0;36mto_dict\u001b[1;34m(self, validate, ignore, context)\u001b[0m\n\u001b[0;32m     38\u001b[0m             \u001b[1;32melif\u001b[0m \u001b[1;32mnot\u001b[0m \u001b[1;33m(\u001b[0m\u001b[0mtype_in_shorthand\u001b[0m \u001b[1;32mor\u001b[0m \u001b[0mtype_defined_explicitly\u001b[0m\u001b[1;33m)\u001b[0m\u001b[1;33m:\u001b[0m\u001b[1;33m\u001b[0m\u001b[1;33m\u001b[0m\u001b[0m\n\u001b[0;32m     39\u001b[0m                 \u001b[1;32mif\u001b[0m \u001b[0misinstance\u001b[0m\u001b[1;33m(\u001b[0m\u001b[0mcontext\u001b[0m\u001b[1;33m.\u001b[0m\u001b[0mget\u001b[0m\u001b[1;33m(\u001b[0m\u001b[1;34m'data'\u001b[0m\u001b[1;33m,\u001b[0m \u001b[1;32mNone\u001b[0m\u001b[1;33m)\u001b[0m\u001b[1;33m,\u001b[0m \u001b[0mpd\u001b[0m\u001b[1;33m.\u001b[0m\u001b[0mDataFrame\u001b[0m\u001b[1;33m)\u001b[0m\u001b[1;33m:\u001b[0m\u001b[1;33m\u001b[0m\u001b[1;33m\u001b[0m\u001b[0m\n\u001b[1;32m---> 40\u001b[1;33m                     raise ValueError(\"{} encoding field is specified without a type; \"\n\u001b[0m\u001b[0;32m     41\u001b[0m                                      \u001b[1;34m\"the type cannot be inferred because it does not \"\u001b[0m\u001b[1;33m\u001b[0m\u001b[1;33m\u001b[0m\u001b[0m\n\u001b[0;32m     42\u001b[0m                                      \"match any column in the data.\".format(shorthand))\n",
      "\u001b[1;31mValueError\u001b[0m: 実績入力以外の編集禁止 encoding field is specified without a type; the type cannot be inferred because it does not match any column in the data."
     ]
    },
    {
     "data": {
      "text/plain": [
       "alt.Chart(...)"
      ]
     },
     "execution_count": 31,
     "metadata": {},
     "output_type": "execute_result"
    }
   ],
   "source": [
    "chart"
   ]
  },
  {
   "cell_type": "code",
   "execution_count": null,
   "id": "0cebd41e",
   "metadata": {},
   "outputs": [],
   "source": []
  },
  {
   "cell_type": "code",
   "execution_count": null,
   "id": "09c3dd9d",
   "metadata": {},
   "outputs": [],
   "source": []
  },
  {
   "cell_type": "code",
   "execution_count": 32,
   "id": "0e230368",
   "metadata": {
    "scrolled": true
   },
   "outputs": [],
   "source": [
    "df_pass_rate_men = df.loc[5:47, [\"実績入力以外の編集禁止\", \"男子御三家率\", \"男四天王\", \"筑駒率\", \"開成率\", \"1日8校率\", \"開桜率\"]]\n",
    "df_pass_rate_women = df.loc[5:47, [\"実績入力以外の編集禁止\", \"女子御三家率\", \"女四天王\", \"桜蔭率\", \"1日8校率\", \"開桜率\"]]"
   ]
  },
  {
   "cell_type": "code",
   "execution_count": 33,
   "id": "d217cfc5",
   "metadata": {},
   "outputs": [
    {
     "data": {
      "text/html": [
       "\n",
       "<div id=\"altair-viz-9f4f4036ac704de5a53f264abd0a67c9\"></div>\n",
       "<script type=\"text/javascript\">\n",
       "  var VEGA_DEBUG = (typeof VEGA_DEBUG == \"undefined\") ? {} : VEGA_DEBUG;\n",
       "  (function(spec, embedOpt){\n",
       "    let outputDiv = document.currentScript.previousElementSibling;\n",
       "    if (outputDiv.id !== \"altair-viz-9f4f4036ac704de5a53f264abd0a67c9\") {\n",
       "      outputDiv = document.getElementById(\"altair-viz-9f4f4036ac704de5a53f264abd0a67c9\");\n",
       "    }\n",
       "    const paths = {\n",
       "      \"vega\": \"https://cdn.jsdelivr.net/npm//vega@5?noext\",\n",
       "      \"vega-lib\": \"https://cdn.jsdelivr.net/npm//vega-lib?noext\",\n",
       "      \"vega-lite\": \"https://cdn.jsdelivr.net/npm//vega-lite@4.17.0?noext\",\n",
       "      \"vega-embed\": \"https://cdn.jsdelivr.net/npm//vega-embed@6?noext\",\n",
       "    };\n",
       "\n",
       "    function maybeLoadScript(lib, version) {\n",
       "      var key = `${lib.replace(\"-\", \"\")}_version`;\n",
       "      return (VEGA_DEBUG[key] == version) ?\n",
       "        Promise.resolve(paths[lib]) :\n",
       "        new Promise(function(resolve, reject) {\n",
       "          var s = document.createElement('script');\n",
       "          document.getElementsByTagName(\"head\")[0].appendChild(s);\n",
       "          s.async = true;\n",
       "          s.onload = () => {\n",
       "            VEGA_DEBUG[key] = version;\n",
       "            return resolve(paths[lib]);\n",
       "          };\n",
       "          s.onerror = () => reject(`Error loading script: ${paths[lib]}`);\n",
       "          s.src = paths[lib];\n",
       "        });\n",
       "    }\n",
       "\n",
       "    function showError(err) {\n",
       "      outputDiv.innerHTML = `<div class=\"error\" style=\"color:red;\">${err}</div>`;\n",
       "      throw err;\n",
       "    }\n",
       "\n",
       "    function displayChart(vegaEmbed) {\n",
       "      vegaEmbed(outputDiv, spec, embedOpt)\n",
       "        .catch(err => showError(`Javascript Error: ${err.message}<br>This usually means there's a typo in your chart specification. See the javascript console for the full traceback.`));\n",
       "    }\n",
       "\n",
       "    if(typeof define === \"function\" && define.amd) {\n",
       "      requirejs.config({paths});\n",
       "      require([\"vega-embed\"], displayChart, err => showError(`Error loading script: ${err.message}`));\n",
       "    } else {\n",
       "      maybeLoadScript(\"vega\", \"5\")\n",
       "        .then(() => maybeLoadScript(\"vega-lite\", \"4.17.0\"))\n",
       "        .then(() => maybeLoadScript(\"vega-embed\", \"6\"))\n",
       "        .catch(showError)\n",
       "        .then(() => displayChart(vegaEmbed));\n",
       "    }\n",
       "  })({\"config\": {\"view\": {\"continuousWidth\": 400, \"continuousHeight\": 300}}, \"data\": {\"name\": \"data-28427fae0b46eb5d08ac07afd9830c33\"}, \"mark\": {\"type\": \"line\", \"opacity\": 0.8}, \"encoding\": {\"color\": {\"field\": \"variable\", \"scale\": {\"range\": [\"purple\", \"blue\", \"green\", \"orange\", \"red\", \"pink\"]}, \"type\": \"nominal\"}, \"x\": {\"field\": \"\\u6821\\u820e\\u540d\", \"type\": \"nominal\"}, \"y\": {\"field\": \"value\", \"stack\": null, \"type\": \"quantitative\"}}, \"$schema\": \"https://vega.github.io/schema/vega-lite/v4.17.0.json\", \"datasets\": {\"data-28427fae0b46eb5d08ac07afd9830c33\": [{\"\\u6821\\u820e\\u540d\": \"\\u6771\\u4eac\", \"variable\": \"\\u7537\\u5b50\\u5fa1\\u4e09\\u5bb6\\u7387\", \"value\": \"10.41\"}, {\"\\u6821\\u820e\\u540d\": \"\\u81ea\\u7531\\u304c\\u4e18\", \"variable\": \"\\u7537\\u5b50\\u5fa1\\u4e09\\u5bb6\\u7387\", \"value\": \"7.69\"}, {\"\\u6821\\u820e\\u540d\": \"\\u5409\\u7965\\u5bfa  \", \"variable\": \"\\u7537\\u5b50\\u5fa1\\u4e09\\u5bb6\\u7387\", \"value\": \"7.92\"}, {\"\\u6821\\u820e\\u540d\": \"\\u6a2a\\u6d5c\", \"variable\": \"\\u7537\\u5b50\\u5fa1\\u4e09\\u5bb6\\u7387\", \"value\": \"4.98\"}, {\"\\u6821\\u820e\\u540d\": \"\\u5de3\\u9d28\", \"variable\": \"\\u7537\\u5b50\\u5fa1\\u4e09\\u5bb6\\u7387\", \"value\": \"4.30\"}, {\"\\u6821\\u820e\\u540d\": \"\\u7df4\\u99ac\", \"variable\": \"\\u7537\\u5b50\\u5fa1\\u4e09\\u5bb6\\u7387\", \"value\": \"4.75\"}, {\"\\u6821\\u820e\\u540d\": \"\\u5927\\u4e95\\u753a\", \"variable\": \"\\u7537\\u5b50\\u5fa1\\u4e09\\u5bb6\\u7387\", \"value\": \"2.71\"}, {\"\\u6821\\u820e\\u540d\": \"\\u738b\\u5b50\", \"variable\": \"\\u7537\\u5b50\\u5fa1\\u4e09\\u5bb6\\u7387\", \"value\": \"2.49\"}, {\"\\u6821\\u820e\\u540d\": \"\\u7528\\u8cc0\", \"variable\": \"\\u7537\\u5b50\\u5fa1\\u4e09\\u5bb6\\u7387\", \"value\": \"2.71\"}, {\"\\u6821\\u820e\\u540d\": \"\\u5927\\u8239\", \"variable\": \"\\u7537\\u5b50\\u5fa1\\u4e09\\u5bb6\\u7387\", \"value\": \"2.49\"}, {\"\\u6821\\u820e\\u540d\": \"\\u767d\\u91d1\\u9ad8\\u8f2a\", \"variable\": \"\\u7537\\u5b50\\u5fa1\\u4e09\\u5bb6\\u7387\", \"value\": \"4.75\"}, {\"\\u6821\\u820e\\u540d\": \"\\u897f\\u8239\", \"variable\": \"\\u7537\\u5b50\\u5fa1\\u4e09\\u5bb6\\u7387\", \"value\": \"4.30\"}, {\"\\u6821\\u820e\\u540d\": \"\\u6e0b\\u8c37\", \"variable\": \"\\u7537\\u5b50\\u5fa1\\u4e09\\u5bb6\\u7387\", \"value\": \"4.07\"}, {\"\\u6821\\u820e\\u540d\": \"\\u305f\\u307e\\u30d7\\u30e9\\u30fc\\u30b6*\\n\\u5bae\\u524d\\u5e73\\u6821\\u3068\\u5408\\u7b97\", \"variable\": \"\\u7537\\u5b50\\u5fa1\\u4e09\\u5bb6\\u7387\", \"value\": \"2.94\"}, {\"\\u6821\\u820e\\u540d\": \"\\u304a\\u8336\\u306e\\u6c34\", \"variable\": \"\\u7537\\u5b50\\u5fa1\\u4e09\\u5bb6\\u7387\", \"value\": \"4.30\"}, {\"\\u6821\\u820e\\u540d\": \"\\u4e2d\\u91ce\", \"variable\": \"\\u7537\\u5b50\\u5fa1\\u4e09\\u5bb6\\u7387\", \"value\": \"2.04\"}, {\"\\u6821\\u820e\\u540d\": \"\\u5357\\u6d66\\u548c\", \"variable\": \"\\u7537\\u5b50\\u5fa1\\u4e09\\u5bb6\\u7387\", \"value\": \"4.07\"}, {\"\\u6821\\u820e\\u540d\": \"\\u6b66\\u8535\\u5c0f\\u6749\", \"variable\": \"\\u7537\\u5b50\\u5fa1\\u4e09\\u5bb6\\u7387\", \"value\": \"2.26\"}, {\"\\u6821\\u820e\\u540d\": \"\\u8c4a\\u6d32\", \"variable\": \"\\u7537\\u5b50\\u5fa1\\u4e09\\u5bb6\\u7387\", \"value\": \"5.43\"}, {\"\\u6821\\u820e\\u540d\": \"\\u67cf\", \"variable\": \"\\u7537\\u5b50\\u5fa1\\u4e09\\u5bb6\\u7387\", \"value\": \"2.49\"}, {\"\\u6821\\u820e\\u540d\": \"\\u5343\\u8449\", \"variable\": \"\\u7537\\u5b50\\u5fa1\\u4e09\\u5bb6\\u7387\", \"value\": \"1.81\"}, {\"\\u6821\\u820e\\u540d\": \"\\u65e5\\u5409\", \"variable\": \"\\u7537\\u5b50\\u5fa1\\u4e09\\u5bb6\\u7387\", \"value\": \"0.90\"}, {\"\\u6821\\u820e\\u540d\": \"\\u6210\\u57ce\", \"variable\": \"\\u7537\\u5b50\\u5fa1\\u4e09\\u5bb6\\u7387\", \"value\": \"6.79\"}, {\"\\u6821\\u820e\\u540d\": \"\\u56fd\\u7acb\", \"variable\": \"\\u7537\\u5b50\\u5fa1\\u4e09\\u5bb6\\u7387\", \"value\": \"1.81\"}, {\"\\u6821\\u820e\\u540d\": \"\\u65b0\\u6d66\\u5b89\", \"variable\": \"\\u7537\\u5b50\\u5fa1\\u4e09\\u5bb6\\u7387\", \"value\": \"0.45\"}, {\"\\u6821\\u820e\\u540d\": \"\\u9752\\u8449\\u53f0\", \"variable\": \"\\u7537\\u5b50\\u5fa1\\u4e09\\u5bb6\\u7387\", \"value\": \"1.13\"}, {\"\\u6821\\u820e\\u540d\": \"\\u4ed9\\u5ddd\", \"variable\": \"\\u7537\\u5b50\\u5fa1\\u4e09\\u5bb6\\u7387\", \"value\": \"3.17\"}, {\"\\u6821\\u820e\\u540d\": \"\\u753a\\u7530\", \"variable\": \"\\u7537\\u5b50\\u5fa1\\u4e09\\u5bb6\\u7387\", \"value\": \"0.45\"}, {\"\\u6821\\u820e\\u540d\": \"\\u9ad8\\u7530\\u99ac\\u5834\", \"variable\": \"\\u7537\\u5b50\\u5fa1\\u4e09\\u5bb6\\u7387\", \"value\": \"1.58\"}, {\"\\u6821\\u820e\\u540d\": \"\\u6d77\\u6d5c\\u5e55\\u5f35\", \"variable\": \"\\u7537\\u5b50\\u5fa1\\u4e09\\u5bb6\\u7387\", \"value\": \"1.13\"}, {\"\\u6821\\u820e\\u540d\": \"\\u4e0b\\u9ad8\\u4e95\\u6238\", \"variable\": \"\\u7537\\u5b50\\u5fa1\\u4e09\\u5bb6\\u7387\", \"value\": \"0.23\"}, {\"\\u6821\\u820e\\u540d\": \"\\u8317\\u8377\\u8c37\", \"variable\": \"\\u7537\\u5b50\\u5fa1\\u4e09\\u5bb6\\u7387\", \"value\": \"3.39\"}, {\"\\u6821\\u820e\\u540d\": \"\\u6c38\\u798f\\u753a\", \"variable\": \"\\u7537\\u5b50\\u5fa1\\u4e09\\u5bb6\\u7387\", \"value\": \"1.36\"}, {\"\\u6821\\u820e\\u540d\": \"\\u30bb\\u30f3\\u30bf\\u30fc\\u5357\", \"variable\": \"\\u7537\\u5b50\\u5fa1\\u4e09\\u5bb6\\u7387\", \"value\": \"0.45\"}, {\"\\u6821\\u820e\\u540d\": \"\\u5927\\u5bae\", \"variable\": \"\\u7537\\u5b50\\u5fa1\\u4e09\\u5bb6\\u7387\", \"value\": \"2.04\"}, {\"\\u6821\\u820e\\u540d\": \"\\u6771\\u6238\\u585a\", \"variable\": \"\\u7537\\u5b50\\u5fa1\\u4e09\\u5bb6\\u7387\", \"value\": \"1.81\"}, {\"\\u6821\\u820e\\u540d\": \"\\u82e5\\u8449\\u53f0\", \"variable\": \"\\u7537\\u5b50\\u5fa1\\u4e09\\u5bb6\\u7387\", \"value\": \"0.90\"}, {\"\\u6821\\u820e\\u540d\": \"\\u4e0a\\u5927\\u5ca1\", \"variable\": \"\\u7537\\u5b50\\u5fa1\\u4e09\\u5bb6\\u7387\", \"value\": \"0.45\"}, {\"\\u6821\\u820e\\u540d\": \"\\u5bae\\u524d\\u5e73(\\u9589\\u9396)\", \"variable\": \"\\u7537\\u5b50\\u5fa1\\u4e09\\u5bb6\\u7387\", \"value\": \"0.00\"}, {\"\\u6821\\u820e\\u540d\": \"\\u8305\\u30f6\\u5d0e\", \"variable\": \"\\u7537\\u5b50\\u5fa1\\u4e09\\u5bb6\\u7387\", \"value\": \"0.45\"}, {\"\\u6821\\u820e\\u540d\": \"\\u6240\\u6ca2\", \"variable\": \"\\u7537\\u5b50\\u5fa1\\u4e09\\u5bb6\\u7387\", \"value\": \"1.13\"}, {\"\\u6821\\u820e\\u540d\": \"\\u65b0\\u8d8a\\u8c37\", \"variable\": \"\\u7537\\u5b50\\u5fa1\\u4e09\\u5bb6\\u7387\", \"value\": \"1.13\"}, {\"\\u6821\\u820e\\u540d\": \"\\u677e\\u6238\", \"variable\": \"\\u7537\\u5b50\\u5fa1\\u4e09\\u5bb6\\u7387\", \"value\": \"1.81\"}, {\"\\u6821\\u820e\\u540d\": \"\\u6771\\u4eac\", \"variable\": \"\\u7537\\u56db\\u5929\\u738b\", \"value\": \"12.67\"}, {\"\\u6821\\u820e\\u540d\": \"\\u81ea\\u7531\\u304c\\u4e18\", \"variable\": \"\\u7537\\u56db\\u5929\\u738b\", \"value\": \"11.46\"}, {\"\\u6821\\u820e\\u540d\": \"\\u5409\\u7965\\u5bfa  \", \"variable\": \"\\u7537\\u56db\\u5929\\u738b\", \"value\": \"17.75\"}, {\"\\u6821\\u820e\\u540d\": \"\\u6a2a\\u6d5c\", \"variable\": \"\\u7537\\u56db\\u5929\\u738b\", \"value\": \"10.55\"}, {\"\\u6821\\u820e\\u540d\": \"\\u5de3\\u9d28\", \"variable\": \"\\u7537\\u56db\\u5929\\u738b\", \"value\": \"10.00\"}, {\"\\u6821\\u820e\\u540d\": \"\\u7df4\\u99ac\", \"variable\": \"\\u7537\\u56db\\u5929\\u738b\", \"value\": \"8.64\"}, {\"\\u6821\\u820e\\u540d\": \"\\u5927\\u4e95\\u753a\", \"variable\": \"\\u7537\\u56db\\u5929\\u738b\", \"value\": \"12.06\"}, {\"\\u6821\\u820e\\u540d\": \"\\u738b\\u5b50\", \"variable\": \"\\u7537\\u56db\\u5929\\u738b\", \"value\": \"11.63\"}, {\"\\u6821\\u820e\\u540d\": \"\\u7528\\u8cc0\", \"variable\": \"\\u7537\\u56db\\u5929\\u738b\", \"value\": \"13.25\"}, {\"\\u6821\\u820e\\u540d\": \"\\u5927\\u8239\", \"variable\": \"\\u7537\\u56db\\u5929\\u738b\", \"value\": \"7.05\"}, {\"\\u6821\\u820e\\u540d\": \"\\u767d\\u91d1\\u9ad8\\u8f2a\", \"variable\": \"\\u7537\\u56db\\u5929\\u738b\", \"value\": \"13.37\"}, {\"\\u6821\\u820e\\u540d\": \"\\u897f\\u8239\", \"variable\": \"\\u7537\\u56db\\u5929\\u738b\", \"value\": \"9.57\"}, {\"\\u6821\\u820e\\u540d\": \"\\u6e0b\\u8c37\", \"variable\": \"\\u7537\\u56db\\u5929\\u738b\", \"value\": \"15.43\"}, {\"\\u6821\\u820e\\u540d\": \"\\u305f\\u307e\\u30d7\\u30e9\\u30fc\\u30b6*\\n\\u5bae\\u524d\\u5e73\\u6821\\u3068\\u5408\\u7b97\", \"variable\": \"\\u7537\\u56db\\u5929\\u738b\", \"value\": \"17.35\"}, {\"\\u6821\\u820e\\u540d\": \"\\u304a\\u8336\\u306e\\u6c34\", \"variable\": \"\\u7537\\u56db\\u5929\\u738b\", \"value\": \"11.11\"}, {\"\\u6821\\u820e\\u540d\": \"\\u4e2d\\u91ce\", \"variable\": \"\\u7537\\u56db\\u5929\\u738b\", \"value\": \"9.09\"}, {\"\\u6821\\u820e\\u540d\": \"\\u5357\\u6d66\\u548c\", \"variable\": \"\\u7537\\u56db\\u5929\\u738b\", \"value\": \"10.00\"}, {\"\\u6821\\u820e\\u540d\": \"\\u6b66\\u8535\\u5c0f\\u6749\", \"variable\": \"\\u7537\\u56db\\u5929\\u738b\", \"value\": \"12.98\"}, {\"\\u6821\\u820e\\u540d\": \"\\u8c4a\\u6d32\", \"variable\": \"\\u7537\\u56db\\u5929\\u738b\", \"value\": \"13.73\"}, {\"\\u6821\\u820e\\u540d\": \"\\u67cf\", \"variable\": \"\\u7537\\u56db\\u5929\\u738b\", \"value\": \"8.94\"}, {\"\\u6821\\u820e\\u540d\": \"\\u5343\\u8449\", \"variable\": \"\\u7537\\u56db\\u5929\\u738b\", \"value\": \"7.92\"}, {\"\\u6821\\u820e\\u540d\": \"\\u65e5\\u5409\", \"variable\": \"\\u7537\\u56db\\u5929\\u738b\", \"value\": \"6.92\"}, {\"\\u6821\\u820e\\u540d\": \"\\u6210\\u57ce\", \"variable\": \"\\u7537\\u56db\\u5929\\u738b\", \"value\": \"16.86\"}, {\"\\u6821\\u820e\\u540d\": \"\\u56fd\\u7acb\", \"variable\": \"\\u7537\\u56db\\u5929\\u738b\", \"value\": \"12.26\"}, {\"\\u6821\\u820e\\u540d\": \"\\u65b0\\u6d66\\u5b89\", \"variable\": \"\\u7537\\u56db\\u5929\\u738b\", \"value\": \"3.81\"}, {\"\\u6821\\u820e\\u540d\": \"\\u9752\\u8449\\u53f0\", \"variable\": \"\\u7537\\u56db\\u5929\\u738b\", \"value\": \"14.61\"}, {\"\\u6821\\u820e\\u540d\": \"\\u4ed9\\u5ddd\", \"variable\": \"\\u7537\\u56db\\u5929\\u738b\", \"value\": \"18.70\"}, {\"\\u6821\\u820e\\u540d\": \"\\u753a\\u7530\", \"variable\": \"\\u7537\\u56db\\u5929\\u738b\", \"value\": \"11.11\"}, {\"\\u6821\\u820e\\u540d\": \"\\u9ad8\\u7530\\u99ac\\u5834\", \"variable\": \"\\u7537\\u56db\\u5929\\u738b\", \"value\": \"8.99\"}, {\"\\u6821\\u820e\\u540d\": \"\\u6d77\\u6d5c\\u5e55\\u5f35\", \"variable\": \"\\u7537\\u56db\\u5929\\u738b\", \"value\": \"6.58\"}, {\"\\u6821\\u820e\\u540d\": \"\\u4e0b\\u9ad8\\u4e95\\u6238\", \"variable\": \"\\u7537\\u56db\\u5929\\u738b\", \"value\": \"5.81\"}, {\"\\u6821\\u820e\\u540d\": \"\\u8317\\u8377\\u8c37\", \"variable\": \"\\u7537\\u56db\\u5929\\u738b\", \"value\": \"11.51\"}, {\"\\u6821\\u820e\\u540d\": \"\\u6c38\\u798f\\u753a\", \"variable\": \"\\u7537\\u56db\\u5929\\u738b\", \"value\": \"15.84\"}, {\"\\u6821\\u820e\\u540d\": \"\\u30bb\\u30f3\\u30bf\\u30fc\\u5357\", \"variable\": \"\\u7537\\u56db\\u5929\\u738b\", \"value\": \"7.81\"}, {\"\\u6821\\u820e\\u540d\": \"\\u5927\\u5bae\", \"variable\": \"\\u7537\\u56db\\u5929\\u738b\", \"value\": \"11.39\"}, {\"\\u6821\\u820e\\u540d\": \"\\u6771\\u6238\\u585a\", \"variable\": \"\\u7537\\u56db\\u5929\\u738b\", \"value\": \"10.39\"}, {\"\\u6821\\u820e\\u540d\": \"\\u82e5\\u8449\\u53f0\", \"variable\": \"\\u7537\\u56db\\u5929\\u738b\", \"value\": \"14.29\"}, {\"\\u6821\\u820e\\u540d\": \"\\u4e0a\\u5927\\u5ca1\", \"variable\": \"\\u7537\\u56db\\u5929\\u738b\", \"value\": \"4.76\"}, {\"\\u6821\\u820e\\u540d\": \"\\u5bae\\u524d\\u5e73(\\u9589\\u9396)\", \"variable\": \"\\u7537\\u56db\\u5929\\u738b\", \"value\": \"#DIV/0!\"}, {\"\\u6821\\u820e\\u540d\": \"\\u8305\\u30f6\\u5d0e\", \"variable\": \"\\u7537\\u56db\\u5929\\u738b\", \"value\": \"4.26\"}, {\"\\u6821\\u820e\\u540d\": \"\\u6240\\u6ca2\", \"variable\": \"\\u7537\\u56db\\u5929\\u738b\", \"value\": \"8.62\"}, {\"\\u6821\\u820e\\u540d\": \"\\u65b0\\u8d8a\\u8c37\", \"variable\": \"\\u7537\\u56db\\u5929\\u738b\", \"value\": \"11.11\"}, {\"\\u6821\\u820e\\u540d\": \"\\u677e\\u6238\", \"variable\": \"\\u7537\\u56db\\u5929\\u738b\", \"value\": \"7.02\"}, {\"\\u6821\\u820e\\u540d\": \"\\u6771\\u4eac\", \"variable\": \"\\u7b51\\u99d2\\u7387\", \"value\": \"2.71\"}, {\"\\u6821\\u820e\\u540d\": \"\\u81ea\\u7531\\u304c\\u4e18\", \"variable\": \"\\u7b51\\u99d2\\u7387\", \"value\": \"0.72\"}, {\"\\u6821\\u820e\\u540d\": \"\\u5409\\u7965\\u5bfa  \", \"variable\": \"\\u7b51\\u99d2\\u7387\", \"value\": \"4.35\"}, {\"\\u6821\\u820e\\u540d\": \"\\u6a2a\\u6d5c\", \"variable\": \"\\u7b51\\u99d2\\u7387\", \"value\": \"0.84\"}, {\"\\u6821\\u820e\\u540d\": \"\\u5de3\\u9d28\", \"variable\": \"\\u7b51\\u99d2\\u7387\", \"value\": \"1.90\"}, {\"\\u6821\\u820e\\u540d\": \"\\u7df4\\u99ac\", \"variable\": \"\\u7b51\\u99d2\\u7387\", \"value\": \"2.06\"}, {\"\\u6821\\u820e\\u540d\": \"\\u5927\\u4e95\\u753a\", \"variable\": \"\\u7b51\\u99d2\\u7387\", \"value\": \"1.01\"}, {\"\\u6821\\u820e\\u540d\": \"\\u738b\\u5b50\", \"variable\": \"\\u7b51\\u99d2\\u7387\", \"value\": \"2.33\"}, {\"\\u6821\\u820e\\u540d\": \"\\u7528\\u8cc0\", \"variable\": \"\\u7b51\\u99d2\\u7387\", \"value\": \"1.81\"}, {\"\\u6821\\u820e\\u540d\": \"\\u5927\\u8239\", \"variable\": \"\\u7b51\\u99d2\\u7387\", \"value\": \"0.00\"}, {\"\\u6821\\u820e\\u540d\": \"\\u767d\\u91d1\\u9ad8\\u8f2a\", \"variable\": \"\\u7b51\\u99d2\\u7387\", \"value\": \"3.21\"}, {\"\\u6821\\u820e\\u540d\": \"\\u897f\\u8239\", \"variable\": \"\\u7b51\\u99d2\\u7387\", \"value\": \"0.48\"}, {\"\\u6821\\u820e\\u540d\": \"\\u6e0b\\u8c37\", \"variable\": \"\\u7b51\\u99d2\\u7387\", \"value\": \"4.00\"}, {\"\\u6821\\u820e\\u540d\": \"\\u305f\\u307e\\u30d7\\u30e9\\u30fc\\u30b6*\\n\\u5bae\\u524d\\u5e73\\u6821\\u3068\\u5408\\u7b97\", \"variable\": \"\\u7b51\\u99d2\\u7387\", \"value\": \"3.06\"}, {\"\\u6821\\u820e\\u540d\": \"\\u304a\\u8336\\u306e\\u6c34\", \"variable\": \"\\u7b51\\u99d2\\u7387\", \"value\": \"3.33\"}, {\"\\u6821\\u820e\\u540d\": \"\\u4e2d\\u91ce\", \"variable\": \"\\u7b51\\u99d2\\u7387\", \"value\": \"1.21\"}, {\"\\u6821\\u820e\\u540d\": \"\\u5357\\u6d66\\u548c\", \"variable\": \"\\u7b51\\u99d2\\u7387\", \"value\": \"0.00\"}, {\"\\u6821\\u820e\\u540d\": \"\\u6b66\\u8535\\u5c0f\\u6749\", \"variable\": \"\\u7b51\\u99d2\\u7387\", \"value\": \"2.29\"}, {\"\\u6821\\u820e\\u540d\": \"\\u8c4a\\u6d32\", \"variable\": \"\\u7b51\\u99d2\\u7387\", \"value\": \"1.96\"}, {\"\\u6821\\u820e\\u540d\": \"\\u67cf\", \"variable\": \"\\u7b51\\u99d2\\u7387\", \"value\": \"0.00\"}, {\"\\u6821\\u820e\\u540d\": \"\\u5343\\u8449\", \"variable\": \"\\u7b51\\u99d2\\u7387\", \"value\": \"0.00\"}, {\"\\u6821\\u820e\\u540d\": \"\\u65e5\\u5409\", \"variable\": \"\\u7b51\\u99d2\\u7387\", \"value\": \"0.77\"}, {\"\\u6821\\u820e\\u540d\": \"\\u6210\\u57ce\", \"variable\": \"\\u7b51\\u99d2\\u7387\", \"value\": \"0.78\"}, {\"\\u6821\\u820e\\u540d\": \"\\u56fd\\u7acb\", \"variable\": \"\\u7b51\\u99d2\\u7387\", \"value\": \"2.83\"}, {\"\\u6821\\u820e\\u540d\": \"\\u65b0\\u6d66\\u5b89\", \"variable\": \"\\u7b51\\u99d2\\u7387\", \"value\": \"0.95\"}, {\"\\u6821\\u820e\\u540d\": \"\\u9752\\u8449\\u53f0\", \"variable\": \"\\u7b51\\u99d2\\u7387\", \"value\": \"1.12\"}, {\"\\u6821\\u820e\\u540d\": \"\\u4ed9\\u5ddd\", \"variable\": \"\\u7b51\\u99d2\\u7387\", \"value\": \"1.63\"}, {\"\\u6821\\u820e\\u540d\": \"\\u753a\\u7530\", \"variable\": \"\\u7b51\\u99d2\\u7387\", \"value\": \"2.02\"}, {\"\\u6821\\u820e\\u540d\": \"\\u9ad8\\u7530\\u99ac\\u5834\", \"variable\": \"\\u7b51\\u99d2\\u7387\", \"value\": \"2.25\"}, {\"\\u6821\\u820e\\u540d\": \"\\u6d77\\u6d5c\\u5e55\\u5f35\", \"variable\": \"\\u7b51\\u99d2\\u7387\", \"value\": \"0.00\"}, {\"\\u6821\\u820e\\u540d\": \"\\u4e0b\\u9ad8\\u4e95\\u6238\", \"variable\": \"\\u7b51\\u99d2\\u7387\", \"value\": \"0.00\"}, {\"\\u6821\\u820e\\u540d\": \"\\u8317\\u8377\\u8c37\", \"variable\": \"\\u7b51\\u99d2\\u7387\", \"value\": \"2.16\"}, {\"\\u6821\\u820e\\u540d\": \"\\u6c38\\u798f\\u753a\", \"variable\": \"\\u7b51\\u99d2\\u7387\", \"value\": \"0.99\"}, {\"\\u6821\\u820e\\u540d\": \"\\u30bb\\u30f3\\u30bf\\u30fc\\u5357\", \"variable\": \"\\u7b51\\u99d2\\u7387\", \"value\": \"3.13\"}, {\"\\u6821\\u820e\\u540d\": \"\\u5927\\u5bae\", \"variable\": \"\\u7b51\\u99d2\\u7387\", \"value\": \"0.00\"}, {\"\\u6821\\u820e\\u540d\": \"\\u6771\\u6238\\u585a\", \"variable\": \"\\u7b51\\u99d2\\u7387\", \"value\": \"0.00\"}, {\"\\u6821\\u820e\\u540d\": \"\\u82e5\\u8449\\u53f0\", \"variable\": \"\\u7b51\\u99d2\\u7387\", \"value\": \"1.30\"}, {\"\\u6821\\u820e\\u540d\": \"\\u4e0a\\u5927\\u5ca1\", \"variable\": \"\\u7b51\\u99d2\\u7387\", \"value\": \"0.00\"}, {\"\\u6821\\u820e\\u540d\": \"\\u5bae\\u524d\\u5e73(\\u9589\\u9396)\", \"variable\": \"\\u7b51\\u99d2\\u7387\", \"value\": \"#DIV/0!\"}, {\"\\u6821\\u820e\\u540d\": \"\\u8305\\u30f6\\u5d0e\", \"variable\": \"\\u7b51\\u99d2\\u7387\", \"value\": \"0.00\"}, {\"\\u6821\\u820e\\u540d\": \"\\u6240\\u6ca2\", \"variable\": \"\\u7b51\\u99d2\\u7387\", \"value\": \"0.00\"}, {\"\\u6821\\u820e\\u540d\": \"\\u65b0\\u8d8a\\u8c37\", \"variable\": \"\\u7b51\\u99d2\\u7387\", \"value\": \"0.00\"}, {\"\\u6821\\u820e\\u540d\": \"\\u677e\\u6238\", \"variable\": \"\\u7b51\\u99d2\\u7387\", \"value\": \"1.75\"}, {\"\\u6821\\u820e\\u540d\": \"\\u6771\\u4eac\", \"variable\": \"\\u958b\\u6210\\u7387\", \"value\": \"7.47\"}, {\"\\u6821\\u820e\\u540d\": \"\\u81ea\\u7531\\u304c\\u4e18\", \"variable\": \"\\u958b\\u6210\\u7387\", \"value\": \"2.15\"}, {\"\\u6821\\u820e\\u540d\": \"\\u5409\\u7965\\u5bfa  \", \"variable\": \"\\u958b\\u6210\\u7387\", \"value\": \"6.52\"}, {\"\\u6821\\u820e\\u540d\": \"\\u6a2a\\u6d5c\", \"variable\": \"\\u958b\\u6210\\u7387\", \"value\": \"5.06\"}, {\"\\u6821\\u820e\\u540d\": \"\\u5de3\\u9d28\", \"variable\": \"\\u958b\\u6210\\u7387\", \"value\": \"5.71\"}, {\"\\u6821\\u820e\\u540d\": \"\\u7df4\\u99ac\", \"variable\": \"\\u958b\\u6210\\u7387\", \"value\": \"4.53\"}, {\"\\u6821\\u820e\\u540d\": \"\\u5927\\u4e95\\u753a\", \"variable\": \"\\u958b\\u6210\\u7387\", \"value\": \"3.52\"}, {\"\\u6821\\u820e\\u540d\": \"\\u738b\\u5b50\", \"variable\": \"\\u958b\\u6210\\u7387\", \"value\": \"3.10\"}, {\"\\u6821\\u820e\\u540d\": \"\\u7528\\u8cc0\", \"variable\": \"\\u958b\\u6210\\u7387\", \"value\": \"3.61\"}, {\"\\u6821\\u820e\\u540d\": \"\\u5927\\u8239\", \"variable\": \"\\u958b\\u6210\\u7387\", \"value\": \"4.49\"}, {\"\\u6821\\u820e\\u540d\": \"\\u767d\\u91d1\\u9ad8\\u8f2a\", \"variable\": \"\\u958b\\u6210\\u7387\", \"value\": \"6.42\"}, {\"\\u6821\\u820e\\u540d\": \"\\u897f\\u8239\", \"variable\": \"\\u958b\\u6210\\u7387\", \"value\": \"6.70\"}, {\"\\u6821\\u820e\\u540d\": \"\\u6e0b\\u8c37\", \"variable\": \"\\u958b\\u6210\\u7387\", \"value\": \"5.14\"}, {\"\\u6821\\u820e\\u540d\": \"\\u305f\\u307e\\u30d7\\u30e9\\u30fc\\u30b6*\\n\\u5bae\\u524d\\u5e73\\u6821\\u3068\\u5408\\u7b97\", \"variable\": \"\\u958b\\u6210\\u7387\", \"value\": \"4.08\"}, {\"\\u6821\\u820e\\u540d\": \"\\u304a\\u8336\\u306e\\u6c34\", \"variable\": \"\\u958b\\u6210\\u7387\", \"value\": \"6.11\"}, {\"\\u6821\\u820e\\u540d\": \"\\u4e2d\\u91ce\", \"variable\": \"\\u958b\\u6210\\u7387\", \"value\": \"1.21\"}, {\"\\u6821\\u820e\\u540d\": \"\\u5357\\u6d66\\u548c\", \"variable\": \"\\u958b\\u6210\\u7387\", \"value\": \"5.00\"}, {\"\\u6821\\u820e\\u540d\": \"\\u6b66\\u8535\\u5c0f\\u6749\", \"variable\": \"\\u958b\\u6210\\u7387\", \"value\": \"3.05\"}, {\"\\u6821\\u820e\\u540d\": \"\\u8c4a\\u6d32\", \"variable\": \"\\u958b\\u6210\\u7387\", \"value\": \"5.39\"}, {\"\\u6821\\u820e\\u540d\": \"\\u67cf\", \"variable\": \"\\u958b\\u6210\\u7387\", \"value\": \"4.88\"}, {\"\\u6821\\u820e\\u540d\": \"\\u5343\\u8449\", \"variable\": \"\\u958b\\u6210\\u7387\", \"value\": \"5.94\"}, {\"\\u6821\\u820e\\u540d\": \"\\u65e5\\u5409\", \"variable\": \"\\u958b\\u6210\\u7387\", \"value\": \"1.54\"}, {\"\\u6821\\u820e\\u540d\": \"\\u6210\\u57ce\", \"variable\": \"\\u958b\\u6210\\u7387\", \"value\": \"5.49\"}, {\"\\u6821\\u820e\\u540d\": \"\\u56fd\\u7acb\", \"variable\": \"\\u958b\\u6210\\u7387\", \"value\": \"3.77\"}, {\"\\u6821\\u820e\\u540d\": \"\\u65b0\\u6d66\\u5b89\", \"variable\": \"\\u958b\\u6210\\u7387\", \"value\": \"1.90\"}, {\"\\u6821\\u820e\\u540d\": \"\\u9752\\u8449\\u53f0\", \"variable\": \"\\u958b\\u6210\\u7387\", \"value\": \"2.25\"}, {\"\\u6821\\u820e\\u540d\": \"\\u4ed9\\u5ddd\", \"variable\": \"\\u958b\\u6210\\u7387\", \"value\": \"4.88\"}, {\"\\u6821\\u820e\\u540d\": \"\\u753a\\u7530\", \"variable\": \"\\u958b\\u6210\\u7387\", \"value\": \"2.02\"}, {\"\\u6821\\u820e\\u540d\": \"\\u9ad8\\u7530\\u99ac\\u5834\", \"variable\": \"\\u958b\\u6210\\u7387\", \"value\": \"3.37\"}, {\"\\u6821\\u820e\\u540d\": \"\\u6d77\\u6d5c\\u5e55\\u5f35\", \"variable\": \"\\u958b\\u6210\\u7387\", \"value\": \"3.95\"}, {\"\\u6821\\u820e\\u540d\": \"\\u4e0b\\u9ad8\\u4e95\\u6238\", \"variable\": \"\\u958b\\u6210\\u7387\", \"value\": \"0.00\"}, {\"\\u6821\\u820e\\u540d\": \"\\u8317\\u8377\\u8c37\", \"variable\": \"\\u958b\\u6210\\u7387\", \"value\": \"5.76\"}, {\"\\u6821\\u820e\\u540d\": \"\\u6c38\\u798f\\u753a\", \"variable\": \"\\u958b\\u6210\\u7387\", \"value\": \"2.97\"}, {\"\\u6821\\u820e\\u540d\": \"\\u30bb\\u30f3\\u30bf\\u30fc\\u5357\", \"variable\": \"\\u958b\\u6210\\u7387\", \"value\": \"3.13\"}, {\"\\u6821\\u820e\\u540d\": \"\\u5927\\u5bae\", \"variable\": \"\\u958b\\u6210\\u7387\", \"value\": \"6.33\"}, {\"\\u6821\\u820e\\u540d\": \"\\u6771\\u6238\\u585a\", \"variable\": \"\\u958b\\u6210\\u7387\", \"value\": \"1.30\"}, {\"\\u6821\\u820e\\u540d\": \"\\u82e5\\u8449\\u53f0\", \"variable\": \"\\u958b\\u6210\\u7387\", \"value\": \"2.60\"}, {\"\\u6821\\u820e\\u540d\": \"\\u4e0a\\u5927\\u5ca1\", \"variable\": \"\\u958b\\u6210\\u7387\", \"value\": \"3.17\"}, {\"\\u6821\\u820e\\u540d\": \"\\u5bae\\u524d\\u5e73(\\u9589\\u9396)\", \"variable\": \"\\u958b\\u6210\\u7387\", \"value\": \"#DIV/0!\"}, {\"\\u6821\\u820e\\u540d\": \"\\u8305\\u30f6\\u5d0e\", \"variable\": \"\\u958b\\u6210\\u7387\", \"value\": \"2.13\"}, {\"\\u6821\\u820e\\u540d\": \"\\u6240\\u6ca2\", \"variable\": \"\\u958b\\u6210\\u7387\", \"value\": \"3.45\"}, {\"\\u6821\\u820e\\u540d\": \"\\u65b0\\u8d8a\\u8c37\", \"variable\": \"\\u958b\\u6210\\u7387\", \"value\": \"6.67\"}, {\"\\u6821\\u820e\\u540d\": \"\\u677e\\u6238\", \"variable\": \"\\u958b\\u6210\\u7387\", \"value\": \"3.51\"}, {\"\\u6821\\u820e\\u540d\": \"\\u6771\\u4eac\", \"variable\": \"1\\u65e58\\u6821\\u7387\", \"value\": \"18.78\"}, {\"\\u6821\\u820e\\u540d\": \"\\u81ea\\u7531\\u304c\\u4e18\", \"variable\": \"1\\u65e58\\u6821\\u7387\", \"value\": \"21.00\"}, {\"\\u6821\\u820e\\u540d\": \"\\u5409\\u7965\\u5bfa  \", \"variable\": \"1\\u65e58\\u6821\\u7387\", \"value\": \"23.55\"}, {\"\\u6821\\u820e\\u540d\": \"\\u6a2a\\u6d5c\", \"variable\": \"1\\u65e58\\u6821\\u7387\", \"value\": \"18.99\"}, {\"\\u6821\\u820e\\u540d\": \"\\u5de3\\u9d28\", \"variable\": \"1\\u65e58\\u6821\\u7387\", \"value\": \"18.10\"}, {\"\\u6821\\u820e\\u540d\": \"\\u7df4\\u99ac\", \"variable\": \"1\\u65e58\\u6821\\u7387\", \"value\": \"13.99\"}, {\"\\u6821\\u820e\\u540d\": \"\\u5927\\u4e95\\u753a\", \"variable\": \"1\\u65e58\\u6821\\u7387\", \"value\": \"15.58\"}, {\"\\u6821\\u820e\\u540d\": \"\\u738b\\u5b50\", \"variable\": \"1\\u65e58\\u6821\\u7387\", \"value\": \"16.28\"}, {\"\\u6821\\u820e\\u540d\": \"\\u7528\\u8cc0\", \"variable\": \"1\\u65e58\\u6821\\u7387\", \"value\": \"23.49\"}, {\"\\u6821\\u820e\\u540d\": \"\\u5927\\u8239\", \"variable\": \"1\\u65e58\\u6821\\u7387\", \"value\": \"16.67\"}, {\"\\u6821\\u820e\\u540d\": \"\\u767d\\u91d1\\u9ad8\\u8f2a\", \"variable\": \"1\\u65e58\\u6821\\u7387\", \"value\": \"20.32\"}, {\"\\u6821\\u820e\\u540d\": \"\\u897f\\u8239\", \"variable\": \"1\\u65e58\\u6821\\u7387\", \"value\": \"15.31\"}, {\"\\u6821\\u820e\\u540d\": \"\\u6e0b\\u8c37\", \"variable\": \"1\\u65e58\\u6821\\u7387\", \"value\": \"21.14\"}, {\"\\u6821\\u820e\\u540d\": \"\\u305f\\u307e\\u30d7\\u30e9\\u30fc\\u30b6*\\n\\u5bae\\u524d\\u5e73\\u6821\\u3068\\u5408\\u7b97\", \"variable\": \"1\\u65e58\\u6821\\u7387\", \"value\": \"26.02\"}, {\"\\u6821\\u820e\\u540d\": \"\\u304a\\u8336\\u306e\\u6c34\", \"variable\": \"1\\u65e58\\u6821\\u7387\", \"value\": \"21.11\"}, {\"\\u6821\\u820e\\u540d\": \"\\u4e2d\\u91ce\", \"variable\": \"1\\u65e58\\u6821\\u7387\", \"value\": \"13.94\"}, {\"\\u6821\\u820e\\u540d\": \"\\u5357\\u6d66\\u548c\", \"variable\": \"1\\u65e58\\u6821\\u7387\", \"value\": \"17.78\"}, {\"\\u6821\\u820e\\u540d\": \"\\u6b66\\u8535\\u5c0f\\u6749\", \"variable\": \"1\\u65e58\\u6821\\u7387\", \"value\": \"17.56\"}, {\"\\u6821\\u820e\\u540d\": \"\\u8c4a\\u6d32\", \"variable\": \"1\\u65e58\\u6821\\u7387\", \"value\": \"21.57\"}, {\"\\u6821\\u820e\\u540d\": \"\\u67cf\", \"variable\": \"1\\u65e58\\u6821\\u7387\", \"value\": \"17.07\"}, {\"\\u6821\\u820e\\u540d\": \"\\u5343\\u8449\", \"variable\": \"1\\u65e58\\u6821\\u7387\", \"value\": \"12.87\"}, {\"\\u6821\\u820e\\u540d\": \"\\u65e5\\u5409\", \"variable\": \"1\\u65e58\\u6821\\u7387\", \"value\": \"21.54\"}, {\"\\u6821\\u820e\\u540d\": \"\\u6210\\u57ce\", \"variable\": \"1\\u65e58\\u6821\\u7387\", \"value\": \"21.57\"}, {\"\\u6821\\u820e\\u540d\": \"\\u56fd\\u7acb\", \"variable\": \"1\\u65e58\\u6821\\u7387\", \"value\": \"23.58\"}, {\"\\u6821\\u820e\\u540d\": \"\\u65b0\\u6d66\\u5b89\", \"variable\": \"1\\u65e58\\u6821\\u7387\", \"value\": \"11.43\"}, {\"\\u6821\\u820e\\u540d\": \"\\u9752\\u8449\\u53f0\", \"variable\": \"1\\u65e58\\u6821\\u7387\", \"value\": \"25.84\"}, {\"\\u6821\\u820e\\u540d\": \"\\u4ed9\\u5ddd\", \"variable\": \"1\\u65e58\\u6821\\u7387\", \"value\": \"19.51\"}, {\"\\u6821\\u820e\\u540d\": \"\\u753a\\u7530\", \"variable\": \"1\\u65e58\\u6821\\u7387\", \"value\": \"15.15\"}, {\"\\u6821\\u820e\\u540d\": \"\\u9ad8\\u7530\\u99ac\\u5834\", \"variable\": \"1\\u65e58\\u6821\\u7387\", \"value\": \"11.24\"}, {\"\\u6821\\u820e\\u540d\": \"\\u6d77\\u6d5c\\u5e55\\u5f35\", \"variable\": \"1\\u65e58\\u6821\\u7387\", \"value\": \"11.84\"}, {\"\\u6821\\u820e\\u540d\": \"\\u4e0b\\u9ad8\\u4e95\\u6238\", \"variable\": \"1\\u65e58\\u6821\\u7387\", \"value\": \"11.63\"}, {\"\\u6821\\u820e\\u540d\": \"\\u8317\\u8377\\u8c37\", \"variable\": \"1\\u65e58\\u6821\\u7387\", \"value\": \"19.42\"}, {\"\\u6821\\u820e\\u540d\": \"\\u6c38\\u798f\\u753a\", \"variable\": \"1\\u65e58\\u6821\\u7387\", \"value\": \"18.81\"}, {\"\\u6821\\u820e\\u540d\": \"\\u30bb\\u30f3\\u30bf\\u30fc\\u5357\", \"variable\": \"1\\u65e58\\u6821\\u7387\", \"value\": \"12.50\"}, {\"\\u6821\\u820e\\u540d\": \"\\u5927\\u5bae\", \"variable\": \"1\\u65e58\\u6821\\u7387\", \"value\": \"24.05\"}, {\"\\u6821\\u820e\\u540d\": \"\\u6771\\u6238\\u585a\", \"variable\": \"1\\u65e58\\u6821\\u7387\", \"value\": \"24.68\"}, {\"\\u6821\\u820e\\u540d\": \"\\u82e5\\u8449\\u53f0\", \"variable\": \"1\\u65e58\\u6821\\u7387\", \"value\": \"20.78\"}, {\"\\u6821\\u820e\\u540d\": \"\\u4e0a\\u5927\\u5ca1\", \"variable\": \"1\\u65e58\\u6821\\u7387\", \"value\": \"20.63\"}, {\"\\u6821\\u820e\\u540d\": \"\\u5bae\\u524d\\u5e73(\\u9589\\u9396)\", \"variable\": \"1\\u65e58\\u6821\\u7387\", \"value\": \"#DIV/0!\"}, {\"\\u6821\\u820e\\u540d\": \"\\u8305\\u30f6\\u5d0e\", \"variable\": \"1\\u65e58\\u6821\\u7387\", \"value\": \"17.02\"}, {\"\\u6821\\u820e\\u540d\": \"\\u6240\\u6ca2\", \"variable\": \"1\\u65e58\\u6821\\u7387\", \"value\": \"15.52\"}, {\"\\u6821\\u820e\\u540d\": \"\\u65b0\\u8d8a\\u8c37\", \"variable\": \"1\\u65e58\\u6821\\u7387\", \"value\": \"17.78\"}, {\"\\u6821\\u820e\\u540d\": \"\\u677e\\u6238\", \"variable\": \"1\\u65e58\\u6821\\u7387\", \"value\": \"10.53\"}, {\"\\u6821\\u820e\\u540d\": \"\\u6771\\u4eac\", \"variable\": \"\\u958b\\u685c\\u7387\", \"value\": \"11.09\"}, {\"\\u6821\\u820e\\u540d\": \"\\u81ea\\u7531\\u304c\\u4e18\", \"variable\": \"\\u958b\\u685c\\u7387\", \"value\": \"5.97\"}, {\"\\u6821\\u820e\\u540d\": \"\\u5409\\u7965\\u5bfa  \", \"variable\": \"\\u958b\\u685c\\u7387\", \"value\": \"10.51\"}, {\"\\u6821\\u820e\\u540d\": \"\\u6a2a\\u6d5c\", \"variable\": \"\\u958b\\u685c\\u7387\", \"value\": \"7.59\"}, {\"\\u6821\\u820e\\u540d\": \"\\u5de3\\u9d28\", \"variable\": \"\\u958b\\u685c\\u7387\", \"value\": \"10.95\"}, {\"\\u6821\\u820e\\u540d\": \"\\u7df4\\u99ac\", \"variable\": \"\\u958b\\u685c\\u7387\", \"value\": \"7.41\"}, {\"\\u6821\\u820e\\u540d\": \"\\u5927\\u4e95\\u753a\", \"variable\": \"\\u958b\\u685c\\u7387\", \"value\": \"5.53\"}, {\"\\u6821\\u820e\\u540d\": \"\\u738b\\u5b50\", \"variable\": \"\\u958b\\u685c\\u7387\", \"value\": \"5.43\"}, {\"\\u6821\\u820e\\u540d\": \"\\u7528\\u8cc0\", \"variable\": \"\\u958b\\u685c\\u7387\", \"value\": \"6.02\"}, {\"\\u6821\\u820e\\u540d\": \"\\u5927\\u8239\", \"variable\": \"\\u958b\\u685c\\u7387\", \"value\": \"4.49\"}, {\"\\u6821\\u820e\\u540d\": \"\\u767d\\u91d1\\u9ad8\\u8f2a\", \"variable\": \"\\u958b\\u685c\\u7387\", \"value\": \"10.16\"}, {\"\\u6821\\u820e\\u540d\": \"\\u897f\\u8239\", \"variable\": \"\\u958b\\u685c\\u7387\", \"value\": \"10.05\"}, {\"\\u6821\\u820e\\u540d\": \"\\u6e0b\\u8c37\", \"variable\": \"\\u958b\\u685c\\u7387\", \"value\": \"8.57\"}, {\"\\u6821\\u820e\\u540d\": \"\\u305f\\u307e\\u30d7\\u30e9\\u30fc\\u30b6*\\n\\u5bae\\u524d\\u5e73\\u6821\\u3068\\u5408\\u7b97\", \"variable\": \"\\u958b\\u685c\\u7387\", \"value\": \"8.16\"}, {\"\\u6821\\u820e\\u540d\": \"\\u304a\\u8336\\u306e\\u6c34\", \"variable\": \"\\u958b\\u685c\\u7387\", \"value\": \"10.00\"}, {\"\\u6821\\u820e\\u540d\": \"\\u4e2d\\u91ce\", \"variable\": \"\\u958b\\u685c\\u7387\", \"value\": \"4.24\"}, {\"\\u6821\\u820e\\u540d\": \"\\u5357\\u6d66\\u548c\", \"variable\": \"\\u958b\\u685c\\u7387\", \"value\": \"9.44\"}, {\"\\u6821\\u820e\\u540d\": \"\\u6b66\\u8535\\u5c0f\\u6749\", \"variable\": \"\\u958b\\u685c\\u7387\", \"value\": \"3.82\"}, {\"\\u6821\\u820e\\u540d\": \"\\u8c4a\\u6d32\", \"variable\": \"\\u958b\\u685c\\u7387\", \"value\": \"7.84\"}, {\"\\u6821\\u820e\\u540d\": \"\\u67cf\", \"variable\": \"\\u958b\\u685c\\u7387\", \"value\": \"9.76\"}, {\"\\u6821\\u820e\\u540d\": \"\\u5343\\u8449\", \"variable\": \"\\u958b\\u685c\\u7387\", \"value\": \"9.90\"}, {\"\\u6821\\u820e\\u540d\": \"\\u65e5\\u5409\", \"variable\": \"\\u958b\\u685c\\u7387\", \"value\": \"3.85\"}, {\"\\u6821\\u820e\\u540d\": \"\\u6210\\u57ce\", \"variable\": \"\\u958b\\u685c\\u7387\", \"value\": \"7.45\"}, {\"\\u6821\\u820e\\u540d\": \"\\u56fd\\u7acb\", \"variable\": \"\\u958b\\u685c\\u7387\", \"value\": \"7.55\"}, {\"\\u6821\\u820e\\u540d\": \"\\u65b0\\u6d66\\u5b89\", \"variable\": \"\\u958b\\u685c\\u7387\", \"value\": \"4.76\"}, {\"\\u6821\\u820e\\u540d\": \"\\u9752\\u8449\\u53f0\", \"variable\": \"\\u958b\\u685c\\u7387\", \"value\": \"3.37\"}, {\"\\u6821\\u820e\\u540d\": \"\\u4ed9\\u5ddd\", \"variable\": \"\\u958b\\u685c\\u7387\", \"value\": \"5.69\"}, {\"\\u6821\\u820e\\u540d\": \"\\u753a\\u7530\", \"variable\": \"\\u958b\\u685c\\u7387\", \"value\": \"2.02\"}, {\"\\u6821\\u820e\\u540d\": \"\\u9ad8\\u7530\\u99ac\\u5834\", \"variable\": \"\\u958b\\u685c\\u7387\", \"value\": \"3.37\"}, {\"\\u6821\\u820e\\u540d\": \"\\u6d77\\u6d5c\\u5e55\\u5f35\", \"variable\": \"\\u958b\\u685c\\u7387\", \"value\": \"5.26\"}, {\"\\u6821\\u820e\\u540d\": \"\\u4e0b\\u9ad8\\u4e95\\u6238\", \"variable\": \"\\u958b\\u685c\\u7387\", \"value\": \"2.33\"}, {\"\\u6821\\u820e\\u540d\": \"\\u8317\\u8377\\u8c37\", \"variable\": \"\\u958b\\u685c\\u7387\", \"value\": \"10.79\"}, {\"\\u6821\\u820e\\u540d\": \"\\u6c38\\u798f\\u753a\", \"variable\": \"\\u958b\\u685c\\u7387\", \"value\": \"3.96\"}, {\"\\u6821\\u820e\\u540d\": \"\\u30bb\\u30f3\\u30bf\\u30fc\\u5357\", \"variable\": \"\\u958b\\u685c\\u7387\", \"value\": \"3.13\"}, {\"\\u6821\\u820e\\u540d\": \"\\u5927\\u5bae\", \"variable\": \"\\u958b\\u685c\\u7387\", \"value\": \"12.66\"}, {\"\\u6821\\u820e\\u540d\": \"\\u6771\\u6238\\u585a\", \"variable\": \"\\u958b\\u685c\\u7387\", \"value\": \"2.60\"}, {\"\\u6821\\u820e\\u540d\": \"\\u82e5\\u8449\\u53f0\", \"variable\": \"\\u958b\\u685c\\u7387\", \"value\": \"3.90\"}, {\"\\u6821\\u820e\\u540d\": \"\\u4e0a\\u5927\\u5ca1\", \"variable\": \"\\u958b\\u685c\\u7387\", \"value\": \"7.94\"}, {\"\\u6821\\u820e\\u540d\": \"\\u5bae\\u524d\\u5e73(\\u9589\\u9396)\", \"variable\": \"\\u958b\\u685c\\u7387\", \"value\": \"#DIV/0!\"}, {\"\\u6821\\u820e\\u540d\": \"\\u8305\\u30f6\\u5d0e\", \"variable\": \"\\u958b\\u685c\\u7387\", \"value\": \"2.13\"}, {\"\\u6821\\u820e\\u540d\": \"\\u6240\\u6ca2\", \"variable\": \"\\u958b\\u685c\\u7387\", \"value\": \"8.62\"}, {\"\\u6821\\u820e\\u540d\": \"\\u65b0\\u8d8a\\u8c37\", \"variable\": \"\\u958b\\u685c\\u7387\", \"value\": \"13.33\"}, {\"\\u6821\\u820e\\u540d\": \"\\u677e\\u6238\", \"variable\": \"\\u958b\\u685c\\u7387\", \"value\": \"4.39\"}]}}, {\"mode\": \"vega-lite\"});\n",
       "</script>"
      ],
      "text/plain": [
       "alt.Chart(...)"
      ]
     },
     "execution_count": 33,
     "metadata": {},
     "output_type": "execute_result"
    }
   ],
   "source": [
    "df_pass_rate_men = df_pass_rate_men.rename(columns={'実績入力以外の編集禁止':'校舎名'})\n",
    "df_pass_rate_men = pd.melt(df_pass_rate_men, id_vars=['校舎名'])\n",
    "\n",
    "chart2 = (\n",
    "    alt.Chart(df_pass_rate_men)\n",
    "    .mark_line(opacity=0.8)\n",
    "    .encode(\n",
    "        x='校舎名',\n",
    "        y=alt.Y('value:Q', stack=None),\n",
    "        color=alt.Color('variable', scale=alt.Scale(range=[\"purple\", \"blue\", \"green\",\"orange\", \"red\", \"pink\"]))\n",
    "    )\n",
    ")\n",
    "\n",
    "chart2"
   ]
  },
  {
   "cell_type": "code",
   "execution_count": 34,
   "id": "e845159c",
   "metadata": {},
   "outputs": [
    {
     "data": {
      "text/html": [
       "\n",
       "<div id=\"altair-viz-acf05c6c9b484a88ab40ea8a197c7ad4\"></div>\n",
       "<script type=\"text/javascript\">\n",
       "  var VEGA_DEBUG = (typeof VEGA_DEBUG == \"undefined\") ? {} : VEGA_DEBUG;\n",
       "  (function(spec, embedOpt){\n",
       "    let outputDiv = document.currentScript.previousElementSibling;\n",
       "    if (outputDiv.id !== \"altair-viz-acf05c6c9b484a88ab40ea8a197c7ad4\") {\n",
       "      outputDiv = document.getElementById(\"altair-viz-acf05c6c9b484a88ab40ea8a197c7ad4\");\n",
       "    }\n",
       "    const paths = {\n",
       "      \"vega\": \"https://cdn.jsdelivr.net/npm//vega@5?noext\",\n",
       "      \"vega-lib\": \"https://cdn.jsdelivr.net/npm//vega-lib?noext\",\n",
       "      \"vega-lite\": \"https://cdn.jsdelivr.net/npm//vega-lite@4.17.0?noext\",\n",
       "      \"vega-embed\": \"https://cdn.jsdelivr.net/npm//vega-embed@6?noext\",\n",
       "    };\n",
       "\n",
       "    function maybeLoadScript(lib, version) {\n",
       "      var key = `${lib.replace(\"-\", \"\")}_version`;\n",
       "      return (VEGA_DEBUG[key] == version) ?\n",
       "        Promise.resolve(paths[lib]) :\n",
       "        new Promise(function(resolve, reject) {\n",
       "          var s = document.createElement('script');\n",
       "          document.getElementsByTagName(\"head\")[0].appendChild(s);\n",
       "          s.async = true;\n",
       "          s.onload = () => {\n",
       "            VEGA_DEBUG[key] = version;\n",
       "            return resolve(paths[lib]);\n",
       "          };\n",
       "          s.onerror = () => reject(`Error loading script: ${paths[lib]}`);\n",
       "          s.src = paths[lib];\n",
       "        });\n",
       "    }\n",
       "\n",
       "    function showError(err) {\n",
       "      outputDiv.innerHTML = `<div class=\"error\" style=\"color:red;\">${err}</div>`;\n",
       "      throw err;\n",
       "    }\n",
       "\n",
       "    function displayChart(vegaEmbed) {\n",
       "      vegaEmbed(outputDiv, spec, embedOpt)\n",
       "        .catch(err => showError(`Javascript Error: ${err.message}<br>This usually means there's a typo in your chart specification. See the javascript console for the full traceback.`));\n",
       "    }\n",
       "\n",
       "    if(typeof define === \"function\" && define.amd) {\n",
       "      requirejs.config({paths});\n",
       "      require([\"vega-embed\"], displayChart, err => showError(`Error loading script: ${err.message}`));\n",
       "    } else {\n",
       "      maybeLoadScript(\"vega\", \"5\")\n",
       "        .then(() => maybeLoadScript(\"vega-lite\", \"4.17.0\"))\n",
       "        .then(() => maybeLoadScript(\"vega-embed\", \"6\"))\n",
       "        .catch(showError)\n",
       "        .then(() => displayChart(vegaEmbed));\n",
       "    }\n",
       "  })({\"config\": {\"view\": {\"continuousWidth\": 400, \"continuousHeight\": 300}}, \"data\": {\"name\": \"data-bfbb567b5646c9f330da229846a9840d\"}, \"mark\": {\"type\": \"line\", \"opacity\": 0.8}, \"encoding\": {\"color\": {\"field\": \"variable\", \"scale\": {\"range\": [\"purple\", \"blue\", \"green\", \"orange\", \"red\", \"pink\"]}, \"type\": \"nominal\"}, \"x\": {\"field\": \"\\u6821\\u820e\\u540d\", \"type\": \"nominal\"}, \"y\": {\"field\": \"value\", \"stack\": null, \"type\": \"quantitative\"}}, \"$schema\": \"https://vega.github.io/schema/vega-lite/v4.17.0.json\", \"datasets\": {\"data-bfbb567b5646c9f330da229846a9840d\": [{\"\\u6821\\u820e\\u540d\": \"\\u6771\\u4eac\", \"variable\": \"\\u5973\\u5b50\\u5fa1\\u4e09\\u5bb6\\u7387\", \"value\": \"6.11\"}, {\"\\u6821\\u820e\\u540d\": \"\\u81ea\\u7531\\u304c\\u4e18\", \"variable\": \"\\u5973\\u5b50\\u5fa1\\u4e09\\u5bb6\\u7387\", \"value\": \"8.35\"}, {\"\\u6821\\u820e\\u540d\": \"\\u5409\\u7965\\u5bfa  \", \"variable\": \"\\u5973\\u5b50\\u5fa1\\u4e09\\u5bb6\\u7387\", \"value\": \"5.80\"}, {\"\\u6821\\u820e\\u540d\": \"\\u6a2a\\u6d5c\", \"variable\": \"\\u5973\\u5b50\\u5fa1\\u4e09\\u5bb6\\u7387\", \"value\": \"2.95\"}, {\"\\u6821\\u820e\\u540d\": \"\\u5de3\\u9d28\", \"variable\": \"\\u5973\\u5b50\\u5fa1\\u4e09\\u5bb6\\u7387\", \"value\": \"8.10\"}, {\"\\u6821\\u820e\\u540d\": \"\\u7df4\\u99ac\", \"variable\": \"\\u5973\\u5b50\\u5fa1\\u4e09\\u5bb6\\u7387\", \"value\": \"5.35\"}, {\"\\u6821\\u820e\\u540d\": \"\\u5927\\u4e95\\u753a\", \"variable\": \"\\u5973\\u5b50\\u5fa1\\u4e09\\u5bb6\\u7387\", \"value\": \"2.51\"}, {\"\\u6821\\u820e\\u540d\": \"\\u738b\\u5b50\", \"variable\": \"\\u5973\\u5b50\\u5fa1\\u4e09\\u5bb6\\u7387\", \"value\": \"4.65\"}, {\"\\u6821\\u820e\\u540d\": \"\\u7528\\u8cc0\", \"variable\": \"\\u5973\\u5b50\\u5fa1\\u4e09\\u5bb6\\u7387\", \"value\": \"9.64\"}, {\"\\u6821\\u820e\\u540d\": \"\\u5927\\u8239\", \"variable\": \"\\u5973\\u5b50\\u5fa1\\u4e09\\u5bb6\\u7387\", \"value\": \"1.28\"}, {\"\\u6821\\u820e\\u540d\": \"\\u767d\\u91d1\\u9ad8\\u8f2a\", \"variable\": \"\\u5973\\u5b50\\u5fa1\\u4e09\\u5bb6\\u7387\", \"value\": \"6.42\"}, {\"\\u6821\\u820e\\u540d\": \"\\u897f\\u8239\", \"variable\": \"\\u5973\\u5b50\\u5fa1\\u4e09\\u5bb6\\u7387\", \"value\": \"5.74\"}, {\"\\u6821\\u820e\\u540d\": \"\\u6e0b\\u8c37\", \"variable\": \"\\u5973\\u5b50\\u5fa1\\u4e09\\u5bb6\\u7387\", \"value\": \"5.71\"}, {\"\\u6821\\u820e\\u540d\": \"\\u305f\\u307e\\u30d7\\u30e9\\u30fc\\u30b6*\\n\\u5bae\\u524d\\u5e73\\u6821\\u3068\\u5408\\u7b97\", \"variable\": \"\\u5973\\u5b50\\u5fa1\\u4e09\\u5bb6\\u7387\", \"value\": \"7.65\"}, {\"\\u6821\\u820e\\u540d\": \"\\u304a\\u8336\\u306e\\u6c34\", \"variable\": \"\\u5973\\u5b50\\u5fa1\\u4e09\\u5bb6\\u7387\", \"value\": \"10.00\"}, {\"\\u6821\\u820e\\u540d\": \"\\u4e2d\\u91ce\", \"variable\": \"\\u5973\\u5b50\\u5fa1\\u4e09\\u5bb6\\u7387\", \"value\": \"4.85\"}, {\"\\u6821\\u820e\\u540d\": \"\\u5357\\u6d66\\u548c\", \"variable\": \"\\u5973\\u5b50\\u5fa1\\u4e09\\u5bb6\\u7387\", \"value\": \"7.78\"}, {\"\\u6821\\u820e\\u540d\": \"\\u6b66\\u8535\\u5c0f\\u6749\", \"variable\": \"\\u5973\\u5b50\\u5fa1\\u4e09\\u5bb6\\u7387\", \"value\": \"3.82\"}, {\"\\u6821\\u820e\\u540d\": \"\\u8c4a\\u6d32\", \"variable\": \"\\u5973\\u5b50\\u5fa1\\u4e09\\u5bb6\\u7387\", \"value\": \"7.35\"}, {\"\\u6821\\u820e\\u540d\": \"\\u67cf\", \"variable\": \"\\u5973\\u5b50\\u5fa1\\u4e09\\u5bb6\\u7387\", \"value\": \"8.13\"}, {\"\\u6821\\u820e\\u540d\": \"\\u5343\\u8449\", \"variable\": \"\\u5973\\u5b50\\u5fa1\\u4e09\\u5bb6\\u7387\", \"value\": \"4.95\"}, {\"\\u6821\\u820e\\u540d\": \"\\u65e5\\u5409\", \"variable\": \"\\u5973\\u5b50\\u5fa1\\u4e09\\u5bb6\\u7387\", \"value\": \"10.77\"}, {\"\\u6821\\u820e\\u540d\": \"\\u6210\\u57ce\", \"variable\": \"\\u5973\\u5b50\\u5fa1\\u4e09\\u5bb6\\u7387\", \"value\": \"4.71\"}, {\"\\u6821\\u820e\\u540d\": \"\\u56fd\\u7acb\", \"variable\": \"\\u5973\\u5b50\\u5fa1\\u4e09\\u5bb6\\u7387\", \"value\": \"11.32\"}, {\"\\u6821\\u820e\\u540d\": \"\\u65b0\\u6d66\\u5b89\", \"variable\": \"\\u5973\\u5b50\\u5fa1\\u4e09\\u5bb6\\u7387\", \"value\": \"7.62\"}, {\"\\u6821\\u820e\\u540d\": \"\\u9752\\u8449\\u53f0\", \"variable\": \"\\u5973\\u5b50\\u5fa1\\u4e09\\u5bb6\\u7387\", \"value\": \"2.25\"}, {\"\\u6821\\u820e\\u540d\": \"\\u4ed9\\u5ddd\", \"variable\": \"\\u5973\\u5b50\\u5fa1\\u4e09\\u5bb6\\u7387\", \"value\": \"0.81\"}, {\"\\u6821\\u820e\\u540d\": \"\\u753a\\u7530\", \"variable\": \"\\u5973\\u5b50\\u5fa1\\u4e09\\u5bb6\\u7387\", \"value\": \"3.03\"}, {\"\\u6821\\u820e\\u540d\": \"\\u9ad8\\u7530\\u99ac\\u5834\", \"variable\": \"\\u5973\\u5b50\\u5fa1\\u4e09\\u5bb6\\u7387\", \"value\": \"2.25\"}, {\"\\u6821\\u820e\\u540d\": \"\\u6d77\\u6d5c\\u5e55\\u5f35\", \"variable\": \"\\u5973\\u5b50\\u5fa1\\u4e09\\u5bb6\\u7387\", \"value\": \"5.26\"}, {\"\\u6821\\u820e\\u540d\": \"\\u4e0b\\u9ad8\\u4e95\\u6238\", \"variable\": \"\\u5973\\u5b50\\u5fa1\\u4e09\\u5bb6\\u7387\", \"value\": \"5.81\"}, {\"\\u6821\\u820e\\u540d\": \"\\u8317\\u8377\\u8c37\", \"variable\": \"\\u5973\\u5b50\\u5fa1\\u4e09\\u5bb6\\u7387\", \"value\": \"7.91\"}, {\"\\u6821\\u820e\\u540d\": \"\\u6c38\\u798f\\u753a\", \"variable\": \"\\u5973\\u5b50\\u5fa1\\u4e09\\u5bb6\\u7387\", \"value\": \"2.97\"}, {\"\\u6821\\u820e\\u540d\": \"\\u30bb\\u30f3\\u30bf\\u30fc\\u5357\", \"variable\": \"\\u5973\\u5b50\\u5fa1\\u4e09\\u5bb6\\u7387\", \"value\": \"1.56\"}, {\"\\u6821\\u820e\\u540d\": \"\\u5927\\u5bae\", \"variable\": \"\\u5973\\u5b50\\u5fa1\\u4e09\\u5bb6\\u7387\", \"value\": \"12.66\"}, {\"\\u6821\\u820e\\u540d\": \"\\u6771\\u6238\\u585a\", \"variable\": \"\\u5973\\u5b50\\u5fa1\\u4e09\\u5bb6\\u7387\", \"value\": \"2.60\"}, {\"\\u6821\\u820e\\u540d\": \"\\u82e5\\u8449\\u53f0\", \"variable\": \"\\u5973\\u5b50\\u5fa1\\u4e09\\u5bb6\\u7387\", \"value\": \"6.49\"}, {\"\\u6821\\u820e\\u540d\": \"\\u4e0a\\u5927\\u5ca1\", \"variable\": \"\\u5973\\u5b50\\u5fa1\\u4e09\\u5bb6\\u7387\", \"value\": \"4.76\"}, {\"\\u6821\\u820e\\u540d\": \"\\u5bae\\u524d\\u5e73(\\u9589\\u9396)\", \"variable\": \"\\u5973\\u5b50\\u5fa1\\u4e09\\u5bb6\\u7387\", \"value\": \"#DIV/0!\"}, {\"\\u6821\\u820e\\u540d\": \"\\u8305\\u30f6\\u5d0e\", \"variable\": \"\\u5973\\u5b50\\u5fa1\\u4e09\\u5bb6\\u7387\", \"value\": \"0.00\"}, {\"\\u6821\\u820e\\u540d\": \"\\u6240\\u6ca2\", \"variable\": \"\\u5973\\u5b50\\u5fa1\\u4e09\\u5bb6\\u7387\", \"value\": \"6.90\"}, {\"\\u6821\\u820e\\u540d\": \"\\u65b0\\u8d8a\\u8c37\", \"variable\": \"\\u5973\\u5b50\\u5fa1\\u4e09\\u5bb6\\u7387\", \"value\": \"6.67\"}, {\"\\u6821\\u820e\\u540d\": \"\\u677e\\u6238\", \"variable\": \"\\u5973\\u5b50\\u5fa1\\u4e09\\u5bb6\\u7387\", \"value\": \"3.51\"}, {\"\\u6821\\u820e\\u540d\": \"\\u6771\\u4eac\", \"variable\": \"\\u5973\\u56db\\u5929\\u738b\", \"value\": \"8.37\"}, {\"\\u6821\\u820e\\u540d\": \"\\u81ea\\u7531\\u304c\\u4e18\", \"variable\": \"\\u5973\\u56db\\u5929\\u738b\", \"value\": \"11.46\"}, {\"\\u6821\\u820e\\u540d\": \"\\u5409\\u7965\\u5bfa  \", \"variable\": \"\\u5973\\u56db\\u5929\\u738b\", \"value\": \"9.78\"}, {\"\\u6821\\u820e\\u540d\": \"\\u6a2a\\u6d5c\", \"variable\": \"\\u5973\\u56db\\u5929\\u738b\", \"value\": \"5.91\"}, {\"\\u6821\\u820e\\u540d\": \"\\u5de3\\u9d28\", \"variable\": \"\\u5973\\u56db\\u5929\\u738b\", \"value\": \"15.24\"}, {\"\\u6821\\u820e\\u540d\": \"\\u7df4\\u99ac\", \"variable\": \"\\u5973\\u56db\\u5929\\u738b\", \"value\": \"13.99\"}, {\"\\u6821\\u820e\\u540d\": \"\\u5927\\u4e95\\u753a\", \"variable\": \"\\u5973\\u56db\\u5929\\u738b\", \"value\": \"7.04\"}, {\"\\u6821\\u820e\\u540d\": \"\\u738b\\u5b50\", \"variable\": \"\\u5973\\u56db\\u5929\\u738b\", \"value\": \"11.63\"}, {\"\\u6821\\u820e\\u540d\": \"\\u7528\\u8cc0\", \"variable\": \"\\u5973\\u56db\\u5929\\u738b\", \"value\": \"12.05\"}, {\"\\u6821\\u820e\\u540d\": \"\\u5927\\u8239\", \"variable\": \"\\u5973\\u56db\\u5929\\u738b\", \"value\": \"3.21\"}, {\"\\u6821\\u820e\\u540d\": \"\\u767d\\u91d1\\u9ad8\\u8f2a\", \"variable\": \"\\u5973\\u56db\\u5929\\u738b\", \"value\": \"12.83\"}, {\"\\u6821\\u820e\\u540d\": \"\\u897f\\u8239\", \"variable\": \"\\u5973\\u56db\\u5929\\u738b\", \"value\": \"6.22\"}, {\"\\u6821\\u820e\\u540d\": \"\\u6e0b\\u8c37\", \"variable\": \"\\u5973\\u56db\\u5929\\u738b\", \"value\": \"8.00\"}, {\"\\u6821\\u820e\\u540d\": \"\\u305f\\u307e\\u30d7\\u30e9\\u30fc\\u30b6*\\n\\u5bae\\u524d\\u5e73\\u6821\\u3068\\u5408\\u7b97\", \"variable\": \"\\u5973\\u56db\\u5929\\u738b\", \"value\": \"13.78\"}, {\"\\u6821\\u820e\\u540d\": \"\\u304a\\u8336\\u306e\\u6c34\", \"variable\": \"\\u5973\\u56db\\u5929\\u738b\", \"value\": \"19.44\"}, {\"\\u6821\\u820e\\u540d\": \"\\u4e2d\\u91ce\", \"variable\": \"\\u5973\\u56db\\u5929\\u738b\", \"value\": \"9.09\"}, {\"\\u6821\\u820e\\u540d\": \"\\u5357\\u6d66\\u548c\", \"variable\": \"\\u5973\\u56db\\u5929\\u738b\", \"value\": \"16.11\"}, {\"\\u6821\\u820e\\u540d\": \"\\u6b66\\u8535\\u5c0f\\u6749\", \"variable\": \"\\u5973\\u56db\\u5929\\u738b\", \"value\": \"10.69\"}, {\"\\u6821\\u820e\\u540d\": \"\\u8c4a\\u6d32\", \"variable\": \"\\u5973\\u56db\\u5929\\u738b\", \"value\": \"11.76\"}, {\"\\u6821\\u820e\\u540d\": \"\\u67cf\", \"variable\": \"\\u5973\\u56db\\u5929\\u738b\", \"value\": \"10.57\"}, {\"\\u6821\\u820e\\u540d\": \"\\u5343\\u8449\", \"variable\": \"\\u5973\\u56db\\u5929\\u738b\", \"value\": \"5.94\"}, {\"\\u6821\\u820e\\u540d\": \"\\u65e5\\u5409\", \"variable\": \"\\u5973\\u56db\\u5929\\u738b\", \"value\": \"15.38\"}, {\"\\u6821\\u820e\\u540d\": \"\\u6210\\u57ce\", \"variable\": \"\\u5973\\u56db\\u5929\\u738b\", \"value\": \"6.67\"}, {\"\\u6821\\u820e\\u540d\": \"\\u56fd\\u7acb\", \"variable\": \"\\u5973\\u56db\\u5929\\u738b\", \"value\": \"15.09\"}, {\"\\u6821\\u820e\\u540d\": \"\\u65b0\\u6d66\\u5b89\", \"variable\": \"\\u5973\\u56db\\u5929\\u738b\", \"value\": \"9.52\"}, {\"\\u6821\\u820e\\u540d\": \"\\u9752\\u8449\\u53f0\", \"variable\": \"\\u5973\\u56db\\u5929\\u738b\", \"value\": \"2.25\"}, {\"\\u6821\\u820e\\u540d\": \"\\u4ed9\\u5ddd\", \"variable\": \"\\u5973\\u56db\\u5929\\u738b\", \"value\": \"2.44\"}, {\"\\u6821\\u820e\\u540d\": \"\\u753a\\u7530\", \"variable\": \"\\u5973\\u56db\\u5929\\u738b\", \"value\": \"9.09\"}, {\"\\u6821\\u820e\\u540d\": \"\\u9ad8\\u7530\\u99ac\\u5834\", \"variable\": \"\\u5973\\u56db\\u5929\\u738b\", \"value\": \"10.11\"}, {\"\\u6821\\u820e\\u540d\": \"\\u6d77\\u6d5c\\u5e55\\u5f35\", \"variable\": \"\\u5973\\u56db\\u5929\\u738b\", \"value\": \"7.89\"}, {\"\\u6821\\u820e\\u540d\": \"\\u4e0b\\u9ad8\\u4e95\\u6238\", \"variable\": \"\\u5973\\u56db\\u5929\\u738b\", \"value\": \"8.14\"}, {\"\\u6821\\u820e\\u540d\": \"\\u8317\\u8377\\u8c37\", \"variable\": \"\\u5973\\u56db\\u5929\\u738b\", \"value\": \"18.71\"}, {\"\\u6821\\u820e\\u540d\": \"\\u6c38\\u798f\\u753a\", \"variable\": \"\\u5973\\u56db\\u5929\\u738b\", \"value\": \"6.93\"}, {\"\\u6821\\u820e\\u540d\": \"\\u30bb\\u30f3\\u30bf\\u30fc\\u5357\", \"variable\": \"\\u5973\\u56db\\u5929\\u738b\", \"value\": \"1.56\"}, {\"\\u6821\\u820e\\u540d\": \"\\u5927\\u5bae\", \"variable\": \"\\u5973\\u56db\\u5929\\u738b\", \"value\": \"30.38\"}, {\"\\u6821\\u820e\\u540d\": \"\\u6771\\u6238\\u585a\", \"variable\": \"\\u5973\\u56db\\u5929\\u738b\", \"value\": \"6.49\"}, {\"\\u6821\\u820e\\u540d\": \"\\u82e5\\u8449\\u53f0\", \"variable\": \"\\u5973\\u56db\\u5929\\u738b\", \"value\": \"7.79\"}, {\"\\u6821\\u820e\\u540d\": \"\\u4e0a\\u5927\\u5ca1\", \"variable\": \"\\u5973\\u56db\\u5929\\u738b\", \"value\": \"11.11\"}, {\"\\u6821\\u820e\\u540d\": \"\\u5bae\\u524d\\u5e73(\\u9589\\u9396)\", \"variable\": \"\\u5973\\u56db\\u5929\\u738b\", \"value\": \"#DIV/0!\"}, {\"\\u6821\\u820e\\u540d\": \"\\u8305\\u30f6\\u5d0e\", \"variable\": \"\\u5973\\u56db\\u5929\\u738b\", \"value\": \"2.13\"}, {\"\\u6821\\u820e\\u540d\": \"\\u6240\\u6ca2\", \"variable\": \"\\u5973\\u56db\\u5929\\u738b\", \"value\": \"12.07\"}, {\"\\u6821\\u820e\\u540d\": \"\\u65b0\\u8d8a\\u8c37\", \"variable\": \"\\u5973\\u56db\\u5929\\u738b\", \"value\": \"11.11\"}, {\"\\u6821\\u820e\\u540d\": \"\\u677e\\u6238\", \"variable\": \"\\u5973\\u56db\\u5929\\u738b\", \"value\": \"6.14\"}, {\"\\u6821\\u820e\\u540d\": \"\\u6771\\u4eac\", \"variable\": \"\\u685c\\u852d\\u7387\", \"value\": \"3.62\"}, {\"\\u6821\\u820e\\u540d\": \"\\u81ea\\u7531\\u304c\\u4e18\", \"variable\": \"\\u685c\\u852d\\u7387\", \"value\": \"3.82\"}, {\"\\u6821\\u820e\\u540d\": \"\\u5409\\u7965\\u5bfa  \", \"variable\": \"\\u685c\\u852d\\u7387\", \"value\": \"3.99\"}, {\"\\u6821\\u820e\\u540d\": \"\\u6a2a\\u6d5c\", \"variable\": \"\\u685c\\u852d\\u7387\", \"value\": \"2.53\"}, {\"\\u6821\\u820e\\u540d\": \"\\u5de3\\u9d28\", \"variable\": \"\\u685c\\u852d\\u7387\", \"value\": \"5.24\"}, {\"\\u6821\\u820e\\u540d\": \"\\u7df4\\u99ac\", \"variable\": \"\\u685c\\u852d\\u7387\", \"value\": \"2.88\"}, {\"\\u6821\\u820e\\u540d\": \"\\u5927\\u4e95\\u753a\", \"variable\": \"\\u685c\\u852d\\u7387\", \"value\": \"2.01\"}, {\"\\u6821\\u820e\\u540d\": \"\\u738b\\u5b50\", \"variable\": \"\\u685c\\u852d\\u7387\", \"value\": \"2.33\"}, {\"\\u6821\\u820e\\u540d\": \"\\u7528\\u8cc0\", \"variable\": \"\\u685c\\u852d\\u7387\", \"value\": \"2.41\"}, {\"\\u6821\\u820e\\u540d\": \"\\u5927\\u8239\", \"variable\": \"\\u685c\\u852d\\u7387\", \"value\": \"0.00\"}, {\"\\u6821\\u820e\\u540d\": \"\\u767d\\u91d1\\u9ad8\\u8f2a\", \"variable\": \"\\u685c\\u852d\\u7387\", \"value\": \"3.74\"}, {\"\\u6821\\u820e\\u540d\": \"\\u897f\\u8239\", \"variable\": \"\\u685c\\u852d\\u7387\", \"value\": \"3.35\"}, {\"\\u6821\\u820e\\u540d\": \"\\u6e0b\\u8c37\", \"variable\": \"\\u685c\\u852d\\u7387\", \"value\": \"3.43\"}, {\"\\u6821\\u820e\\u540d\": \"\\u305f\\u307e\\u30d7\\u30e9\\u30fc\\u30b6*\\n\\u5bae\\u524d\\u5e73\\u6821\\u3068\\u5408\\u7b97\", \"variable\": \"\\u685c\\u852d\\u7387\", \"value\": \"4.08\"}, {\"\\u6821\\u820e\\u540d\": \"\\u304a\\u8336\\u306e\\u6c34\", \"variable\": \"\\u685c\\u852d\\u7387\", \"value\": \"3.89\"}, {\"\\u6821\\u820e\\u540d\": \"\\u4e2d\\u91ce\", \"variable\": \"\\u685c\\u852d\\u7387\", \"value\": \"3.03\"}, {\"\\u6821\\u820e\\u540d\": \"\\u5357\\u6d66\\u548c\", \"variable\": \"\\u685c\\u852d\\u7387\", \"value\": \"4.44\"}, {\"\\u6821\\u820e\\u540d\": \"\\u6b66\\u8535\\u5c0f\\u6749\", \"variable\": \"\\u685c\\u852d\\u7387\", \"value\": \"0.76\"}, {\"\\u6821\\u820e\\u540d\": \"\\u8c4a\\u6d32\", \"variable\": \"\\u685c\\u852d\\u7387\", \"value\": \"2.45\"}, {\"\\u6821\\u820e\\u540d\": \"\\u67cf\", \"variable\": \"\\u685c\\u852d\\u7387\", \"value\": \"4.88\"}, {\"\\u6821\\u820e\\u540d\": \"\\u5343\\u8449\", \"variable\": \"\\u685c\\u852d\\u7387\", \"value\": \"3.96\"}, {\"\\u6821\\u820e\\u540d\": \"\\u65e5\\u5409\", \"variable\": \"\\u685c\\u852d\\u7387\", \"value\": \"2.31\"}, {\"\\u6821\\u820e\\u540d\": \"\\u6210\\u57ce\", \"variable\": \"\\u685c\\u852d\\u7387\", \"value\": \"1.96\"}, {\"\\u6821\\u820e\\u540d\": \"\\u56fd\\u7acb\", \"variable\": \"\\u685c\\u852d\\u7387\", \"value\": \"3.77\"}, {\"\\u6821\\u820e\\u540d\": \"\\u65b0\\u6d66\\u5b89\", \"variable\": \"\\u685c\\u852d\\u7387\", \"value\": \"2.86\"}, {\"\\u6821\\u820e\\u540d\": \"\\u9752\\u8449\\u53f0\", \"variable\": \"\\u685c\\u852d\\u7387\", \"value\": \"1.12\"}, {\"\\u6821\\u820e\\u540d\": \"\\u4ed9\\u5ddd\", \"variable\": \"\\u685c\\u852d\\u7387\", \"value\": \"0.81\"}, {\"\\u6821\\u820e\\u540d\": \"\\u753a\\u7530\", \"variable\": \"\\u685c\\u852d\\u7387\", \"value\": \"0.00\"}, {\"\\u6821\\u820e\\u540d\": \"\\u9ad8\\u7530\\u99ac\\u5834\", \"variable\": \"\\u685c\\u852d\\u7387\", \"value\": \"0.00\"}, {\"\\u6821\\u820e\\u540d\": \"\\u6d77\\u6d5c\\u5e55\\u5f35\", \"variable\": \"\\u685c\\u852d\\u7387\", \"value\": \"1.32\"}, {\"\\u6821\\u820e\\u540d\": \"\\u4e0b\\u9ad8\\u4e95\\u6238\", \"variable\": \"\\u685c\\u852d\\u7387\", \"value\": \"2.33\"}, {\"\\u6821\\u820e\\u540d\": \"\\u8317\\u8377\\u8c37\", \"variable\": \"\\u685c\\u852d\\u7387\", \"value\": \"5.04\"}, {\"\\u6821\\u820e\\u540d\": \"\\u6c38\\u798f\\u753a\", \"variable\": \"\\u685c\\u852d\\u7387\", \"value\": \"0.99\"}, {\"\\u6821\\u820e\\u540d\": \"\\u30bb\\u30f3\\u30bf\\u30fc\\u5357\", \"variable\": \"\\u685c\\u852d\\u7387\", \"value\": \"0.00\"}, {\"\\u6821\\u820e\\u540d\": \"\\u5927\\u5bae\", \"variable\": \"\\u685c\\u852d\\u7387\", \"value\": \"6.33\"}, {\"\\u6821\\u820e\\u540d\": \"\\u6771\\u6238\\u585a\", \"variable\": \"\\u685c\\u852d\\u7387\", \"value\": \"1.30\"}, {\"\\u6821\\u820e\\u540d\": \"\\u82e5\\u8449\\u53f0\", \"variable\": \"\\u685c\\u852d\\u7387\", \"value\": \"1.30\"}, {\"\\u6821\\u820e\\u540d\": \"\\u4e0a\\u5927\\u5ca1\", \"variable\": \"\\u685c\\u852d\\u7387\", \"value\": \"4.76\"}, {\"\\u6821\\u820e\\u540d\": \"\\u5bae\\u524d\\u5e73(\\u9589\\u9396)\", \"variable\": \"\\u685c\\u852d\\u7387\", \"value\": \"#DIV/0!\"}, {\"\\u6821\\u820e\\u540d\": \"\\u8305\\u30f6\\u5d0e\", \"variable\": \"\\u685c\\u852d\\u7387\", \"value\": \"0.00\"}, {\"\\u6821\\u820e\\u540d\": \"\\u6240\\u6ca2\", \"variable\": \"\\u685c\\u852d\\u7387\", \"value\": \"5.17\"}, {\"\\u6821\\u820e\\u540d\": \"\\u65b0\\u8d8a\\u8c37\", \"variable\": \"\\u685c\\u852d\\u7387\", \"value\": \"6.67\"}, {\"\\u6821\\u820e\\u540d\": \"\\u677e\\u6238\", \"variable\": \"\\u685c\\u852d\\u7387\", \"value\": \"0.88\"}, {\"\\u6821\\u820e\\u540d\": \"\\u6771\\u4eac\", \"variable\": \"1\\u65e58\\u6821\\u7387\", \"value\": \"18.78\"}, {\"\\u6821\\u820e\\u540d\": \"\\u81ea\\u7531\\u304c\\u4e18\", \"variable\": \"1\\u65e58\\u6821\\u7387\", \"value\": \"21.00\"}, {\"\\u6821\\u820e\\u540d\": \"\\u5409\\u7965\\u5bfa  \", \"variable\": \"1\\u65e58\\u6821\\u7387\", \"value\": \"23.55\"}, {\"\\u6821\\u820e\\u540d\": \"\\u6a2a\\u6d5c\", \"variable\": \"1\\u65e58\\u6821\\u7387\", \"value\": \"18.99\"}, {\"\\u6821\\u820e\\u540d\": \"\\u5de3\\u9d28\", \"variable\": \"1\\u65e58\\u6821\\u7387\", \"value\": \"18.10\"}, {\"\\u6821\\u820e\\u540d\": \"\\u7df4\\u99ac\", \"variable\": \"1\\u65e58\\u6821\\u7387\", \"value\": \"13.99\"}, {\"\\u6821\\u820e\\u540d\": \"\\u5927\\u4e95\\u753a\", \"variable\": \"1\\u65e58\\u6821\\u7387\", \"value\": \"15.58\"}, {\"\\u6821\\u820e\\u540d\": \"\\u738b\\u5b50\", \"variable\": \"1\\u65e58\\u6821\\u7387\", \"value\": \"16.28\"}, {\"\\u6821\\u820e\\u540d\": \"\\u7528\\u8cc0\", \"variable\": \"1\\u65e58\\u6821\\u7387\", \"value\": \"23.49\"}, {\"\\u6821\\u820e\\u540d\": \"\\u5927\\u8239\", \"variable\": \"1\\u65e58\\u6821\\u7387\", \"value\": \"16.67\"}, {\"\\u6821\\u820e\\u540d\": \"\\u767d\\u91d1\\u9ad8\\u8f2a\", \"variable\": \"1\\u65e58\\u6821\\u7387\", \"value\": \"20.32\"}, {\"\\u6821\\u820e\\u540d\": \"\\u897f\\u8239\", \"variable\": \"1\\u65e58\\u6821\\u7387\", \"value\": \"15.31\"}, {\"\\u6821\\u820e\\u540d\": \"\\u6e0b\\u8c37\", \"variable\": \"1\\u65e58\\u6821\\u7387\", \"value\": \"21.14\"}, {\"\\u6821\\u820e\\u540d\": \"\\u305f\\u307e\\u30d7\\u30e9\\u30fc\\u30b6*\\n\\u5bae\\u524d\\u5e73\\u6821\\u3068\\u5408\\u7b97\", \"variable\": \"1\\u65e58\\u6821\\u7387\", \"value\": \"26.02\"}, {\"\\u6821\\u820e\\u540d\": \"\\u304a\\u8336\\u306e\\u6c34\", \"variable\": \"1\\u65e58\\u6821\\u7387\", \"value\": \"21.11\"}, {\"\\u6821\\u820e\\u540d\": \"\\u4e2d\\u91ce\", \"variable\": \"1\\u65e58\\u6821\\u7387\", \"value\": \"13.94\"}, {\"\\u6821\\u820e\\u540d\": \"\\u5357\\u6d66\\u548c\", \"variable\": \"1\\u65e58\\u6821\\u7387\", \"value\": \"17.78\"}, {\"\\u6821\\u820e\\u540d\": \"\\u6b66\\u8535\\u5c0f\\u6749\", \"variable\": \"1\\u65e58\\u6821\\u7387\", \"value\": \"17.56\"}, {\"\\u6821\\u820e\\u540d\": \"\\u8c4a\\u6d32\", \"variable\": \"1\\u65e58\\u6821\\u7387\", \"value\": \"21.57\"}, {\"\\u6821\\u820e\\u540d\": \"\\u67cf\", \"variable\": \"1\\u65e58\\u6821\\u7387\", \"value\": \"17.07\"}, {\"\\u6821\\u820e\\u540d\": \"\\u5343\\u8449\", \"variable\": \"1\\u65e58\\u6821\\u7387\", \"value\": \"12.87\"}, {\"\\u6821\\u820e\\u540d\": \"\\u65e5\\u5409\", \"variable\": \"1\\u65e58\\u6821\\u7387\", \"value\": \"21.54\"}, {\"\\u6821\\u820e\\u540d\": \"\\u6210\\u57ce\", \"variable\": \"1\\u65e58\\u6821\\u7387\", \"value\": \"21.57\"}, {\"\\u6821\\u820e\\u540d\": \"\\u56fd\\u7acb\", \"variable\": \"1\\u65e58\\u6821\\u7387\", \"value\": \"23.58\"}, {\"\\u6821\\u820e\\u540d\": \"\\u65b0\\u6d66\\u5b89\", \"variable\": \"1\\u65e58\\u6821\\u7387\", \"value\": \"11.43\"}, {\"\\u6821\\u820e\\u540d\": \"\\u9752\\u8449\\u53f0\", \"variable\": \"1\\u65e58\\u6821\\u7387\", \"value\": \"25.84\"}, {\"\\u6821\\u820e\\u540d\": \"\\u4ed9\\u5ddd\", \"variable\": \"1\\u65e58\\u6821\\u7387\", \"value\": \"19.51\"}, {\"\\u6821\\u820e\\u540d\": \"\\u753a\\u7530\", \"variable\": \"1\\u65e58\\u6821\\u7387\", \"value\": \"15.15\"}, {\"\\u6821\\u820e\\u540d\": \"\\u9ad8\\u7530\\u99ac\\u5834\", \"variable\": \"1\\u65e58\\u6821\\u7387\", \"value\": \"11.24\"}, {\"\\u6821\\u820e\\u540d\": \"\\u6d77\\u6d5c\\u5e55\\u5f35\", \"variable\": \"1\\u65e58\\u6821\\u7387\", \"value\": \"11.84\"}, {\"\\u6821\\u820e\\u540d\": \"\\u4e0b\\u9ad8\\u4e95\\u6238\", \"variable\": \"1\\u65e58\\u6821\\u7387\", \"value\": \"11.63\"}, {\"\\u6821\\u820e\\u540d\": \"\\u8317\\u8377\\u8c37\", \"variable\": \"1\\u65e58\\u6821\\u7387\", \"value\": \"19.42\"}, {\"\\u6821\\u820e\\u540d\": \"\\u6c38\\u798f\\u753a\", \"variable\": \"1\\u65e58\\u6821\\u7387\", \"value\": \"18.81\"}, {\"\\u6821\\u820e\\u540d\": \"\\u30bb\\u30f3\\u30bf\\u30fc\\u5357\", \"variable\": \"1\\u65e58\\u6821\\u7387\", \"value\": \"12.50\"}, {\"\\u6821\\u820e\\u540d\": \"\\u5927\\u5bae\", \"variable\": \"1\\u65e58\\u6821\\u7387\", \"value\": \"24.05\"}, {\"\\u6821\\u820e\\u540d\": \"\\u6771\\u6238\\u585a\", \"variable\": \"1\\u65e58\\u6821\\u7387\", \"value\": \"24.68\"}, {\"\\u6821\\u820e\\u540d\": \"\\u82e5\\u8449\\u53f0\", \"variable\": \"1\\u65e58\\u6821\\u7387\", \"value\": \"20.78\"}, {\"\\u6821\\u820e\\u540d\": \"\\u4e0a\\u5927\\u5ca1\", \"variable\": \"1\\u65e58\\u6821\\u7387\", \"value\": \"20.63\"}, {\"\\u6821\\u820e\\u540d\": \"\\u5bae\\u524d\\u5e73(\\u9589\\u9396)\", \"variable\": \"1\\u65e58\\u6821\\u7387\", \"value\": \"#DIV/0!\"}, {\"\\u6821\\u820e\\u540d\": \"\\u8305\\u30f6\\u5d0e\", \"variable\": \"1\\u65e58\\u6821\\u7387\", \"value\": \"17.02\"}, {\"\\u6821\\u820e\\u540d\": \"\\u6240\\u6ca2\", \"variable\": \"1\\u65e58\\u6821\\u7387\", \"value\": \"15.52\"}, {\"\\u6821\\u820e\\u540d\": \"\\u65b0\\u8d8a\\u8c37\", \"variable\": \"1\\u65e58\\u6821\\u7387\", \"value\": \"17.78\"}, {\"\\u6821\\u820e\\u540d\": \"\\u677e\\u6238\", \"variable\": \"1\\u65e58\\u6821\\u7387\", \"value\": \"10.53\"}, {\"\\u6821\\u820e\\u540d\": \"\\u6771\\u4eac\", \"variable\": \"\\u958b\\u685c\\u7387\", \"value\": \"11.09\"}, {\"\\u6821\\u820e\\u540d\": \"\\u81ea\\u7531\\u304c\\u4e18\", \"variable\": \"\\u958b\\u685c\\u7387\", \"value\": \"5.97\"}, {\"\\u6821\\u820e\\u540d\": \"\\u5409\\u7965\\u5bfa  \", \"variable\": \"\\u958b\\u685c\\u7387\", \"value\": \"10.51\"}, {\"\\u6821\\u820e\\u540d\": \"\\u6a2a\\u6d5c\", \"variable\": \"\\u958b\\u685c\\u7387\", \"value\": \"7.59\"}, {\"\\u6821\\u820e\\u540d\": \"\\u5de3\\u9d28\", \"variable\": \"\\u958b\\u685c\\u7387\", \"value\": \"10.95\"}, {\"\\u6821\\u820e\\u540d\": \"\\u7df4\\u99ac\", \"variable\": \"\\u958b\\u685c\\u7387\", \"value\": \"7.41\"}, {\"\\u6821\\u820e\\u540d\": \"\\u5927\\u4e95\\u753a\", \"variable\": \"\\u958b\\u685c\\u7387\", \"value\": \"5.53\"}, {\"\\u6821\\u820e\\u540d\": \"\\u738b\\u5b50\", \"variable\": \"\\u958b\\u685c\\u7387\", \"value\": \"5.43\"}, {\"\\u6821\\u820e\\u540d\": \"\\u7528\\u8cc0\", \"variable\": \"\\u958b\\u685c\\u7387\", \"value\": \"6.02\"}, {\"\\u6821\\u820e\\u540d\": \"\\u5927\\u8239\", \"variable\": \"\\u958b\\u685c\\u7387\", \"value\": \"4.49\"}, {\"\\u6821\\u820e\\u540d\": \"\\u767d\\u91d1\\u9ad8\\u8f2a\", \"variable\": \"\\u958b\\u685c\\u7387\", \"value\": \"10.16\"}, {\"\\u6821\\u820e\\u540d\": \"\\u897f\\u8239\", \"variable\": \"\\u958b\\u685c\\u7387\", \"value\": \"10.05\"}, {\"\\u6821\\u820e\\u540d\": \"\\u6e0b\\u8c37\", \"variable\": \"\\u958b\\u685c\\u7387\", \"value\": \"8.57\"}, {\"\\u6821\\u820e\\u540d\": \"\\u305f\\u307e\\u30d7\\u30e9\\u30fc\\u30b6*\\n\\u5bae\\u524d\\u5e73\\u6821\\u3068\\u5408\\u7b97\", \"variable\": \"\\u958b\\u685c\\u7387\", \"value\": \"8.16\"}, {\"\\u6821\\u820e\\u540d\": \"\\u304a\\u8336\\u306e\\u6c34\", \"variable\": \"\\u958b\\u685c\\u7387\", \"value\": \"10.00\"}, {\"\\u6821\\u820e\\u540d\": \"\\u4e2d\\u91ce\", \"variable\": \"\\u958b\\u685c\\u7387\", \"value\": \"4.24\"}, {\"\\u6821\\u820e\\u540d\": \"\\u5357\\u6d66\\u548c\", \"variable\": \"\\u958b\\u685c\\u7387\", \"value\": \"9.44\"}, {\"\\u6821\\u820e\\u540d\": \"\\u6b66\\u8535\\u5c0f\\u6749\", \"variable\": \"\\u958b\\u685c\\u7387\", \"value\": \"3.82\"}, {\"\\u6821\\u820e\\u540d\": \"\\u8c4a\\u6d32\", \"variable\": \"\\u958b\\u685c\\u7387\", \"value\": \"7.84\"}, {\"\\u6821\\u820e\\u540d\": \"\\u67cf\", \"variable\": \"\\u958b\\u685c\\u7387\", \"value\": \"9.76\"}, {\"\\u6821\\u820e\\u540d\": \"\\u5343\\u8449\", \"variable\": \"\\u958b\\u685c\\u7387\", \"value\": \"9.90\"}, {\"\\u6821\\u820e\\u540d\": \"\\u65e5\\u5409\", \"variable\": \"\\u958b\\u685c\\u7387\", \"value\": \"3.85\"}, {\"\\u6821\\u820e\\u540d\": \"\\u6210\\u57ce\", \"variable\": \"\\u958b\\u685c\\u7387\", \"value\": \"7.45\"}, {\"\\u6821\\u820e\\u540d\": \"\\u56fd\\u7acb\", \"variable\": \"\\u958b\\u685c\\u7387\", \"value\": \"7.55\"}, {\"\\u6821\\u820e\\u540d\": \"\\u65b0\\u6d66\\u5b89\", \"variable\": \"\\u958b\\u685c\\u7387\", \"value\": \"4.76\"}, {\"\\u6821\\u820e\\u540d\": \"\\u9752\\u8449\\u53f0\", \"variable\": \"\\u958b\\u685c\\u7387\", \"value\": \"3.37\"}, {\"\\u6821\\u820e\\u540d\": \"\\u4ed9\\u5ddd\", \"variable\": \"\\u958b\\u685c\\u7387\", \"value\": \"5.69\"}, {\"\\u6821\\u820e\\u540d\": \"\\u753a\\u7530\", \"variable\": \"\\u958b\\u685c\\u7387\", \"value\": \"2.02\"}, {\"\\u6821\\u820e\\u540d\": \"\\u9ad8\\u7530\\u99ac\\u5834\", \"variable\": \"\\u958b\\u685c\\u7387\", \"value\": \"3.37\"}, {\"\\u6821\\u820e\\u540d\": \"\\u6d77\\u6d5c\\u5e55\\u5f35\", \"variable\": \"\\u958b\\u685c\\u7387\", \"value\": \"5.26\"}, {\"\\u6821\\u820e\\u540d\": \"\\u4e0b\\u9ad8\\u4e95\\u6238\", \"variable\": \"\\u958b\\u685c\\u7387\", \"value\": \"2.33\"}, {\"\\u6821\\u820e\\u540d\": \"\\u8317\\u8377\\u8c37\", \"variable\": \"\\u958b\\u685c\\u7387\", \"value\": \"10.79\"}, {\"\\u6821\\u820e\\u540d\": \"\\u6c38\\u798f\\u753a\", \"variable\": \"\\u958b\\u685c\\u7387\", \"value\": \"3.96\"}, {\"\\u6821\\u820e\\u540d\": \"\\u30bb\\u30f3\\u30bf\\u30fc\\u5357\", \"variable\": \"\\u958b\\u685c\\u7387\", \"value\": \"3.13\"}, {\"\\u6821\\u820e\\u540d\": \"\\u5927\\u5bae\", \"variable\": \"\\u958b\\u685c\\u7387\", \"value\": \"12.66\"}, {\"\\u6821\\u820e\\u540d\": \"\\u6771\\u6238\\u585a\", \"variable\": \"\\u958b\\u685c\\u7387\", \"value\": \"2.60\"}, {\"\\u6821\\u820e\\u540d\": \"\\u82e5\\u8449\\u53f0\", \"variable\": \"\\u958b\\u685c\\u7387\", \"value\": \"3.90\"}, {\"\\u6821\\u820e\\u540d\": \"\\u4e0a\\u5927\\u5ca1\", \"variable\": \"\\u958b\\u685c\\u7387\", \"value\": \"7.94\"}, {\"\\u6821\\u820e\\u540d\": \"\\u5bae\\u524d\\u5e73(\\u9589\\u9396)\", \"variable\": \"\\u958b\\u685c\\u7387\", \"value\": \"#DIV/0!\"}, {\"\\u6821\\u820e\\u540d\": \"\\u8305\\u30f6\\u5d0e\", \"variable\": \"\\u958b\\u685c\\u7387\", \"value\": \"2.13\"}, {\"\\u6821\\u820e\\u540d\": \"\\u6240\\u6ca2\", \"variable\": \"\\u958b\\u685c\\u7387\", \"value\": \"8.62\"}, {\"\\u6821\\u820e\\u540d\": \"\\u65b0\\u8d8a\\u8c37\", \"variable\": \"\\u958b\\u685c\\u7387\", \"value\": \"13.33\"}, {\"\\u6821\\u820e\\u540d\": \"\\u677e\\u6238\", \"variable\": \"\\u958b\\u685c\\u7387\", \"value\": \"4.39\"}]}}, {\"mode\": \"vega-lite\"});\n",
       "</script>"
      ],
      "text/plain": [
       "alt.Chart(...)"
      ]
     },
     "execution_count": 34,
     "metadata": {},
     "output_type": "execute_result"
    }
   ],
   "source": [
    "df_pass_rate_women = df_pass_rate_women.rename(columns={'実績入力以外の編集禁止':'校舎名'})\n",
    "df_pass_rate_women = pd.melt(df_pass_rate_women, id_vars=['校舎名'])\n",
    "\n",
    "chart3 = (\n",
    "    alt.Chart(df_pass_rate_women)\n",
    "    .mark_line(opacity=0.8)\n",
    "    .encode(\n",
    "        x='校舎名',\n",
    "        y=alt.Y('value:Q', stack=None),\n",
    "        color=alt.Color('variable', scale=alt.Scale(range=[\"purple\", \"blue\", \"green\",\"orange\", \"red\", \"pink\"]))\n",
    "    )\n",
    ")\n",
    "\n",
    "chart3"
   ]
  },
  {
   "cell_type": "code",
   "execution_count": 35,
   "id": "6d2d8f65",
   "metadata": {},
   "outputs": [
    {
     "data": {
      "text/plain": [
       "{'学校名': '青山', '偏差値': 55.0}"
      ]
     },
     "execution_count": 35,
     "metadata": {},
     "output_type": "execute_result"
    }
   ],
   "source": [
    "school_name_aoyama2 = {'学校名':'青山', '偏差値':df.loc[1, [\"青山\"][0]]}\n",
    "school_name_aoyama2"
   ]
  },
  {
   "cell_type": "code",
   "execution_count": 45,
   "id": "1793bd52",
   "metadata": {},
   "outputs": [],
   "source": [
    "df_pass_rate_men = df.loc[5:47, [\"実績入力以外の編集禁止\", \"男子御三家率\", \"男四天王\", \"筑駒率\", \"開成率\", \"1日8校率\", \"開桜率\"]]\n",
    "\n",
    "# df_pass_rate_men = df_pass_rate_men.rename(columns={'実績入力以外の編集禁止':'校舎名'})\n",
    "df_pass_rate_men = df_pass_rate_men.rename(columns={'variable':'各群'})\n",
    "df_pass_rate_men = df_pass_rate_men.rename(columns={'value':'合格率(%)'})\n",
    "df_pass_rate_men = pd.melt(df_pass_rate_men, id_vars=[\"実績入力以外の編集禁止\"])"
   ]
  },
  {
   "cell_type": "code",
   "execution_count": 46,
   "id": "73c00232",
   "metadata": {},
   "outputs": [
    {
     "data": {
      "text/html": [
       "<div>\n",
       "<style scoped>\n",
       "    .dataframe tbody tr th:only-of-type {\n",
       "        vertical-align: middle;\n",
       "    }\n",
       "\n",
       "    .dataframe tbody tr th {\n",
       "        vertical-align: top;\n",
       "    }\n",
       "\n",
       "    .dataframe thead th {\n",
       "        text-align: right;\n",
       "    }\n",
       "</style>\n",
       "<table border=\"1\" class=\"dataframe\">\n",
       "  <thead>\n",
       "    <tr style=\"text-align: right;\">\n",
       "      <th></th>\n",
       "      <th>実績入力以外の編集禁止</th>\n",
       "      <th>variable</th>\n",
       "      <th>value</th>\n",
       "    </tr>\n",
       "  </thead>\n",
       "  <tbody>\n",
       "    <tr>\n",
       "      <th>0</th>\n",
       "      <td>東京</td>\n",
       "      <td>男子御三家率</td>\n",
       "      <td>10.41</td>\n",
       "    </tr>\n",
       "    <tr>\n",
       "      <th>1</th>\n",
       "      <td>自由が丘</td>\n",
       "      <td>男子御三家率</td>\n",
       "      <td>7.69</td>\n",
       "    </tr>\n",
       "    <tr>\n",
       "      <th>2</th>\n",
       "      <td>吉祥寺</td>\n",
       "      <td>男子御三家率</td>\n",
       "      <td>7.92</td>\n",
       "    </tr>\n",
       "    <tr>\n",
       "      <th>3</th>\n",
       "      <td>横浜</td>\n",
       "      <td>男子御三家率</td>\n",
       "      <td>4.98</td>\n",
       "    </tr>\n",
       "    <tr>\n",
       "      <th>4</th>\n",
       "      <td>巣鴨</td>\n",
       "      <td>男子御三家率</td>\n",
       "      <td>4.30</td>\n",
       "    </tr>\n",
       "    <tr>\n",
       "      <th>...</th>\n",
       "      <td>...</td>\n",
       "      <td>...</td>\n",
       "      <td>...</td>\n",
       "    </tr>\n",
       "    <tr>\n",
       "      <th>253</th>\n",
       "      <td>宮前平(閉鎖)</td>\n",
       "      <td>開桜率</td>\n",
       "      <td>#DIV/0!</td>\n",
       "    </tr>\n",
       "    <tr>\n",
       "      <th>254</th>\n",
       "      <td>茅ヶ崎</td>\n",
       "      <td>開桜率</td>\n",
       "      <td>2.13</td>\n",
       "    </tr>\n",
       "    <tr>\n",
       "      <th>255</th>\n",
       "      <td>所沢</td>\n",
       "      <td>開桜率</td>\n",
       "      <td>8.62</td>\n",
       "    </tr>\n",
       "    <tr>\n",
       "      <th>256</th>\n",
       "      <td>新越谷</td>\n",
       "      <td>開桜率</td>\n",
       "      <td>13.33</td>\n",
       "    </tr>\n",
       "    <tr>\n",
       "      <th>257</th>\n",
       "      <td>松戸</td>\n",
       "      <td>開桜率</td>\n",
       "      <td>4.39</td>\n",
       "    </tr>\n",
       "  </tbody>\n",
       "</table>\n",
       "<p>258 rows × 3 columns</p>\n",
       "</div>"
      ],
      "text/plain": [
       "    実績入力以外の編集禁止 variable    value\n",
       "0            東京   男子御三家率    10.41\n",
       "1          自由が丘   男子御三家率     7.69\n",
       "2         吉祥寺     男子御三家率     7.92\n",
       "3            横浜   男子御三家率     4.98\n",
       "4            巣鴨   男子御三家率     4.30\n",
       "..          ...      ...      ...\n",
       "253     宮前平(閉鎖)      開桜率  #DIV/0!\n",
       "254         茅ヶ崎      開桜率     2.13\n",
       "255          所沢      開桜率     8.62\n",
       "256         新越谷      開桜率    13.33\n",
       "257          松戸      開桜率     4.39\n",
       "\n",
       "[258 rows x 3 columns]"
      ]
     },
     "execution_count": 46,
     "metadata": {},
     "output_type": "execute_result"
    }
   ],
   "source": [
    "df_pass_rate_men"
   ]
  },
  {
   "cell_type": "code",
   "execution_count": null,
   "id": "51593798",
   "metadata": {},
   "outputs": [],
   "source": []
  }
 ],
 "metadata": {
  "kernelspec": {
   "display_name": "Python 3 (ipykernel)",
   "language": "python",
   "name": "python3"
  },
  "language_info": {
   "codemirror_mode": {
    "name": "ipython",
    "version": 3
   },
   "file_extension": ".py",
   "mimetype": "text/x-python",
   "name": "python",
   "nbconvert_exporter": "python",
   "pygments_lexer": "ipython3",
   "version": "3.9.13"
  }
 },
 "nbformat": 4,
 "nbformat_minor": 5
}
